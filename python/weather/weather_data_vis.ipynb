{
 "cells": [
  {
   "cell_type": "code",
   "execution_count": 34,
   "metadata": {},
   "outputs": [],
   "source": [
    "import requests\n",
    "import pandas as pd"
   ]
  },
  {
   "cell_type": "code",
   "execution_count": 35,
   "metadata": {},
   "outputs": [],
   "source": [
    "# Récupérer notre clef API\n",
    "with open(\"api_key.txt\", \"r\") as f:\n",
    "    api_key = f.read()"
   ]
  },
  {
   "cell_type": "code",
   "execution_count": 36,
   "metadata": {},
   "outputs": [],
   "source": [
    "def call_weather_api(city_name:str, api_key:str=api_key) -> requests.Response:\n",
    "    # Construction de la requête.\n",
    "    api_request = f\"https://api.openweathermap.org/data/2.5/weather?q={city_name.lower()}&appid={api_key}&lang=fr&units=metric\"\n",
    "\n",
    "    result = requests.get(api_request)\n",
    "\n",
    "    if result.status_code == 200:\n",
    "        return result\n",
    "    else:\n",
    "        print(f\"ERROR: status code {result.status_code}\")\n",
    "        return None"
   ]
  },
  {
   "cell_type": "code",
   "execution_count": 37,
   "metadata": {},
   "outputs": [],
   "source": [
    "# On crée un dictionnaire qui nous permettra de faire une dataframe plus tard.\n",
    "weather_results = {\n",
    "    \"city\": [\"Rouen\", \"Caen\", \"Tour\", \"Marseille\", \"Paris\"],\n",
    "    \"weather\": [],\n",
    "    \"temperature\": []\n",
    "}"
   ]
  },
  {
   "cell_type": "code",
   "execution_count": 38,
   "metadata": {},
   "outputs": [],
   "source": [
    "# On récupère les résultats météo pour chaque ville dans notre dictionnaire.\n",
    "for city_name in weather_results[\"city\"]:\n",
    "    result = call_weather_api(city_name)\n",
    "    result = result.json()\n",
    "\n",
    "    # On concatène le résultat météo car c'est une liste de dictionnaires.\n",
    "    if result[\"weather\"]:\n",
    "        weather_results[\"weather\"].append(\";\".join([elem[\"description\"] for elem in result[\"weather\"]]))\n",
    "    else:\n",
    "        weather_results[\"weather\"].append(None)\n",
    "    # On récupère la température pour cette ville.\n",
    "    if result[\"main\"][\"temp\"]:\n",
    "        weather_results[\"temperature\"].append(result[\"main\"][\"temp\"])\n",
    "    else:\n",
    "        weather_results[\"temperature\"].append(None)"
   ]
  },
  {
   "cell_type": "code",
   "execution_count": 40,
   "metadata": {},
   "outputs": [
    {
     "data": {
      "text/plain": [
       "{'city': ['Rouen', 'Caen', 'Tour', 'Marseille', 'Paris'],\n",
       " 'weather': ['bruine légère;brume',\n",
       "  'couvert',\n",
       "  'ciel dégagé',\n",
       "  'couvert',\n",
       "  'couvert'],\n",
       " 'temperature': [13.94, 15.12, 19.4, 21.83, 14.38]}"
      ]
     },
     "execution_count": 40,
     "metadata": {},
     "output_type": "execute_result"
    }
   ],
   "source": [
    "weather_results"
   ]
  },
  {
   "cell_type": "code",
   "execution_count": 41,
   "metadata": {},
   "outputs": [
    {
     "data": {
      "text/html": [
       "<div>\n",
       "<style scoped>\n",
       "    .dataframe tbody tr th:only-of-type {\n",
       "        vertical-align: middle;\n",
       "    }\n",
       "\n",
       "    .dataframe tbody tr th {\n",
       "        vertical-align: top;\n",
       "    }\n",
       "\n",
       "    .dataframe thead th {\n",
       "        text-align: right;\n",
       "    }\n",
       "</style>\n",
       "<table border=\"1\" class=\"dataframe\">\n",
       "  <thead>\n",
       "    <tr style=\"text-align: right;\">\n",
       "      <th></th>\n",
       "      <th>city</th>\n",
       "      <th>weather</th>\n",
       "      <th>temperature</th>\n",
       "    </tr>\n",
       "  </thead>\n",
       "  <tbody>\n",
       "    <tr>\n",
       "      <th>0</th>\n",
       "      <td>Rouen</td>\n",
       "      <td>bruine légère;brume</td>\n",
       "      <td>13.94</td>\n",
       "    </tr>\n",
       "    <tr>\n",
       "      <th>1</th>\n",
       "      <td>Caen</td>\n",
       "      <td>couvert</td>\n",
       "      <td>15.12</td>\n",
       "    </tr>\n",
       "    <tr>\n",
       "      <th>2</th>\n",
       "      <td>Tour</td>\n",
       "      <td>ciel dégagé</td>\n",
       "      <td>19.40</td>\n",
       "    </tr>\n",
       "    <tr>\n",
       "      <th>3</th>\n",
       "      <td>Marseille</td>\n",
       "      <td>couvert</td>\n",
       "      <td>21.83</td>\n",
       "    </tr>\n",
       "    <tr>\n",
       "      <th>4</th>\n",
       "      <td>Paris</td>\n",
       "      <td>couvert</td>\n",
       "      <td>14.38</td>\n",
       "    </tr>\n",
       "  </tbody>\n",
       "</table>\n",
       "</div>"
      ],
      "text/plain": [
       "        city              weather  temperature\n",
       "0      Rouen  bruine légère;brume        13.94\n",
       "1       Caen              couvert        15.12\n",
       "2       Tour          ciel dégagé        19.40\n",
       "3  Marseille              couvert        21.83\n",
       "4      Paris              couvert        14.38"
      ]
     },
     "execution_count": 41,
     "metadata": {},
     "output_type": "execute_result"
    }
   ],
   "source": [
    "df = pd.DataFrame(weather_results)\n",
    "df"
   ]
  },
  {
   "cell_type": "code",
   "execution_count": 48,
   "metadata": {},
   "outputs": [
    {
     "data": {
      "text/plain": [
       "city           0\n",
       "weather        0\n",
       "temperature    0\n",
       "dtype: int64"
      ]
     },
     "execution_count": 48,
     "metadata": {},
     "output_type": "execute_result"
    }
   ],
   "source": [
    "# On vérifie si on a des valeurs nulles dans notre DF.\n",
    "df.isna().sum()"
   ]
  },
  {
   "cell_type": "code",
   "execution_count": 50,
   "metadata": {},
   "outputs": [
    {
     "data": {
      "text/plain": [
       "<AxesSubplot:xlabel='city'>"
      ]
     },
     "execution_count": 50,
     "metadata": {},
     "output_type": "execute_result"
    },
    {
     "data": {
      "image/png": "[encoded data removed]",
      "text/plain": [
       "<Figure size 432x288 with 1 Axes>"
      ]
     },
     "metadata": {
      "needs_background": "light"
     },
     "output_type": "display_data"
    }
   ],
   "source": [
    "df.plot.bar(x=\"city\", y=\"temperature\", rot=0)"
   ]
  },
  {
   "cell_type": "code",
   "execution_count": null,
   "metadata": {},
   "outputs": [],
   "source": []
  }
 ],
 "metadata": {
  "interpreter": {
   "hash": "00df5e37b475e376d1d00f58754dc3521867f829dbb512630346f3adfb600c2c"
  },
  "kernelspec": {
   "display_name": "Python 3.8.10 ('jupyter_notebooks')",
   "language": "python",
   "name": "python3"
  },
  "language_info": {
   "codemirror_mode": {
    "name": "ipython",
    "version": 3
   },
   "file_extension": ".py",
   "mimetype": "text/x-python",
   "name": "python",
   "nbconvert_exporter": "python",
   "pygments_lexer": "ipython3",
   "version": "3.8.10"
  },
  "orig_nbformat": 4
 },
 "nbformat": 4,
 "nbformat_minor": 2
}
