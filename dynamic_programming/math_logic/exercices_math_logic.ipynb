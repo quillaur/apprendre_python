{
 "cells": [
  {
   "cell_type": "markdown",
   "metadata": {},
   "source": [
    "# Exercice 1"
   ]
  },
  {
   "cell_type": "markdown",
   "metadata": {},
   "source": [
    "Vous êtes coincé dans une pièce. Sur la porte, il y a un boitier avec des chiffre allant de 1 à 9.\n",
    "\n",
    "Vous ne pouvez appuyer que sur 1 bouton pour ouvrir la porte.\n",
    "\n",
    "Vous trouvez un papier avec des instructions pour ouvrir la porte."
   ]
  },
  {
   "cell_type": "markdown",
   "metadata": {},
   "source": [
    "* A: Je suis strictement inférieur à 4.\n",
    "* B: Je suis un chiffre pair.\n",
    "* C: Si on me rajoute 2, je serai égal à 6.\n",
    "\n",
    "Cette proposition doit être **vrai** pour ouvrir la porte: \n",
    "```\n",
    "(A and B) or (not A and (B and not C)) or C \n",
    "```"
   ]
  },
  {
   "cell_type": "code",
   "execution_count": 2,
   "metadata": {},
   "outputs": [],
   "source": [
    "possibility = [1,2,3,4,5,6,7,8,9]"
   ]
  },
  {
   "cell_type": "code",
   "execution_count": 8,
   "metadata": {},
   "outputs": [
    {
     "name": "stdout",
     "output_type": "stream",
     "text": [
      "1\n",
      "2\n",
      "3\n"
     ]
    }
   ],
   "source": [
    "def A(x): return x < 4\n",
    "\n",
    "for x in possibility:\n",
    "    if A(x):\n",
    "        print(x)"
   ]
  },
  {
   "cell_type": "code",
   "execution_count": 9,
   "metadata": {},
   "outputs": [
    {
     "name": "stdout",
     "output_type": "stream",
     "text": [
      "2\n",
      "4\n",
      "6\n",
      "8\n"
     ]
    }
   ],
   "source": [
    "def B(x): \n",
    "    return x%2 == 0\n",
    "\n",
    "for x in possibility:\n",
    "    if B(x):\n",
    "        print(x)"
   ]
  },
  {
   "cell_type": "code",
   "execution_count": 10,
   "metadata": {},
   "outputs": [
    {
     "name": "stdout",
     "output_type": "stream",
     "text": [
      "4\n"
     ]
    }
   ],
   "source": [
    "def C(x): return x+2 == 6\n",
    "\n",
    "for x in possibility:\n",
    "    if C(x):\n",
    "        print(x)"
   ]
  },
  {
   "cell_type": "code",
   "execution_count": 11,
   "metadata": {},
   "outputs": [],
   "source": [
    "def proposition(x):\n",
    "    return (A(x) and B(x)) or (not A(x) and (B(x) and not C(x))) or C(x) "
   ]
  },
  {
   "cell_type": "code",
   "execution_count": 12,
   "metadata": {},
   "outputs": [
    {
     "name": "stdout",
     "output_type": "stream",
     "text": [
      "2\n",
      "4\n",
      "6\n",
      "8\n"
     ]
    }
   ],
   "source": [
    "for x in possibility:\n",
    "    if proposition(x):\n",
    "        print(x)"
   ]
  },
  {
   "cell_type": "markdown",
   "metadata": {},
   "source": [
    "# Exercice 2"
   ]
  },
  {
   "cell_type": "markdown",
   "metadata": {},
   "source": [
    "Dans une usine, il faut un badge pour entrer dans la salle de fabrication.\n",
    "\n",
    "Seules certaines personnes sous conditions y ont accès:\n",
    "* Le directeur\n",
    "* L'ingénieur, le lundi et le mardi\n",
    "* Les techniciens du groupe 1 et 2\n",
    "\n",
    "Il y a donc 3 types d'informations:\n",
    "* La fonction (F) : directeur, ingé, technicien.\n",
    "* Le groupe (G): 0, 1, 2, 3.\n",
    "* Le jour (J): tous les jours de la semaine.\n",
    "\n",
    "Ecrire la proposition qui permet de donner l'accès à la salle de fabrication si elle est vraie."
   ]
  },
  {
   "cell_type": "code",
   "execution_count": 2,
   "metadata": {},
   "outputs": [],
   "source": [
    "F = [\"D\", \"I\", \"T\"]\n",
    "G = [1,2,3]\n",
    "J = [\"L\", \"Ma\", \"Me\", \"J\", \"V\", \"S\", \"D\"]"
   ]
  },
  {
   "cell_type": "code",
   "execution_count": 3,
   "metadata": {},
   "outputs": [],
   "source": [
    "def proposition(f, g, j):\n",
    "    return (f == \"D\") or ((f == \"I\" and (j == \"L\" or j == \"Ma\")) or (f == \"T\" and (not g == 3)))"
   ]
  },
  {
   "cell_type": "code",
   "execution_count": 10,
   "metadata": {},
   "outputs": [
    {
     "name": "stdout",
     "output_type": "stream",
     "text": [
      "Fonction:  D \n",
      "\tJours:  L, Ma, Me, J, V, S, D, \n",
      "\n",
      "Fonction:  I \n",
      "\tJours:  L, Ma, \n",
      "\n",
      "Fonction:  T \n",
      "\tJours:  L, Ma, Me, J, V, S, D, \n",
      "\tGroupe:  1, 2, \n",
      "\n"
     ]
    }
   ],
   "source": [
    "for f in F:\n",
    "    print(\"Fonction: \", f, end=\" \")\n",
    "\n",
    "    g = 0    \n",
    "    print(\"\\n\\tJours: \", end=\" \")\n",
    "    for j in J:\n",
    "        if proposition(f,g,j):\n",
    "            print(j, end=\", \")\n",
    "    \n",
    "    if f == \"T\":\n",
    "        print(\"\\n\\tGroupes: \", end=\" \")\n",
    "        for g in G:\n",
    "            if proposition(f,g,j):\n",
    "                print(g, end=\", \")\n",
    "        \n",
    "    print(\"\\n\")"
   ]
  },
  {
   "cell_type": "code",
   "execution_count": null,
   "metadata": {},
   "outputs": [],
   "source": []
  }
 ],
 "metadata": {
  "kernelspec": {
   "display_name": "Python 3.8.10 ('jupyter_notebooks')",
   "language": "python",
   "name": "python3"
  },
  "language_info": {
   "codemirror_mode": {
    "name": "ipython",
    "version": 3
   },
   "file_extension": ".py",
   "mimetype": "text/x-python",
   "name": "python",
   "nbconvert_exporter": "python",
   "pygments_lexer": "ipython3",
   "version": "3.8.10"
  },
  "orig_nbformat": 4,
  "vscode": {
   "interpreter": {
    "hash": "00df5e37b475e376d1d00f58754dc3521867f829dbb512630346f3adfb600c2c"
   }
  }
 },
 "nbformat": 4,
 "nbformat_minor": 2
}
