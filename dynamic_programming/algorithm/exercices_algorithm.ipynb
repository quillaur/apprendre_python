{
 "cells": [
  {
   "cell_type": "markdown",
   "metadata": {},
   "source": [
    "# Exercice 1"
   ]
  },
  {
   "cell_type": "code",
   "execution_count": 1,
   "metadata": {},
   "outputs": [],
   "source": [
    "n: int = 0"
   ]
  },
  {
   "cell_type": "code",
   "execution_count": 2,
   "metadata": {},
   "outputs": [
    {
     "name": "stdout",
     "output_type": "stream",
     "text": [
      "0\n"
     ]
    }
   ],
   "source": [
    "t = int(input(\"Entrez un nombre please: \"))\n",
    "\n",
    "if t < 20:\n",
    "    n = t + 5\n",
    "\n",
    "if t > 20:\n",
    "    n = t - 5\n",
    "\n",
    "if n > 10 and n > 20:\n",
    "    n = n + 2"
   ]
  },
  {
   "cell_type": "markdown",
   "metadata": {},
   "source": [
    "Quelle est la valeur de n ?"
   ]
  },
  {
   "cell_type": "code",
   "execution_count": 3,
   "metadata": {},
   "outputs": [
    {
     "name": "stdout",
     "output_type": "stream",
     "text": [
      "Pour t = 20 n = 0\n"
     ]
    }
   ],
   "source": [
    "print(\"Pour t =\", t, \"n =\", n)"
   ]
  },
  {
   "cell_type": "markdown",
   "metadata": {},
   "source": [
    "# Exercice 2"
   ]
  },
  {
   "cell_type": "code",
   "execution_count": 4,
   "metadata": {},
   "outputs": [],
   "source": [
    "noms = [\"Sofiane\", \"Mia\", \"Pierre\", \"Jade\"]\n",
    "ages = [45, 17, 21, 36]"
   ]
  },
  {
   "cell_type": "markdown",
   "metadata": {},
   "source": [
    "Ecrire l'algorithme qui permet de définir qui est majeur et qui ne l'est pas.\n",
    "\n",
    "Le faire avec:\n",
    "* Une boucle for\n",
    "* Une boucle while"
   ]
  },
  {
   "cell_type": "code",
   "execution_count": null,
   "metadata": {},
   "outputs": [],
   "source": []
  },
  {
   "cell_type": "markdown",
   "metadata": {},
   "source": [
    "# Exercice 3"
   ]
  },
  {
   "cell_type": "code",
   "execution_count": null,
   "metadata": {},
   "outputs": [],
   "source": [
    "n: int = 0\n",
    "p: int = 1\n",
    "\n",
    "while p < 20:\n",
    "    n = n + 1\n",
    "    p = p * 2"
   ]
  },
  {
   "cell_type": "markdown",
   "metadata": {},
   "source": [
    "Quelle est la valeur de n après l'execution de l'algorithme ci-dessus ?"
   ]
  },
  {
   "cell_type": "code",
   "execution_count": null,
   "metadata": {},
   "outputs": [],
   "source": [
    "print(n)"
   ]
  },
  {
   "cell_type": "markdown",
   "metadata": {},
   "source": [
    "# Exercice 4"
   ]
  },
  {
   "cell_type": "markdown",
   "metadata": {},
   "source": [
    "On veut estimer le prix d'un appartement en fonction des données suivantes:\n",
    "\n",
    "| Quartier | Prix (€/m2) | \n",
    "| -------- | ----------- |   \n",
    "| Sud      | 6 000 |\n",
    "| Nord     | 7 000 |\n",
    "| Ouest    | 10 000 |\n",
    "| Est      | 5 000 |\n",
    "\n",
    "-----------------------------------\n",
    "\n",
    "| Ajout | Prix |\n",
    "|------ | ---- |\n",
    "| Balcon | 20 000 |\n",
    "| Cuisine équipée | 20 000|\n",
    "| Place de parking | 10 000 |\n",
    "\n",
    "-----------------------------------\n",
    "\n"
   ]
  },
  {
   "cell_type": "markdown",
   "metadata": {},
   "source": [
    "#### 1) Calculer le prix d’un appartement du quartier Sud de 35 m2 avec balcon.  "
   ]
  },
  {
   "cell_type": "code",
   "execution_count": null,
   "metadata": {},
   "outputs": [],
   "source": []
  },
  {
   "cell_type": "markdown",
   "metadata": {},
   "source": [
    "#### 2) Ecrire un algorithme qui calcul le prix d’un appartement."
   ]
  },
  {
   "cell_type": "code",
   "execution_count": null,
   "metadata": {},
   "outputs": [],
   "source": []
  }
 ],
 "metadata": {
  "kernelspec": {
   "display_name": "Python 3.8.10 ('jupyter_notebooks')",
   "language": "python",
   "name": "python3"
  },
  "language_info": {
   "codemirror_mode": {
    "name": "ipython",
    "version": 3
   },
   "file_extension": ".py",
   "mimetype": "text/x-python",
   "name": "python",
   "nbconvert_exporter": "python",
   "pygments_lexer": "ipython3",
   "version": "3.8.10"
  },
  "orig_nbformat": 4,
  "vscode": {
   "interpreter": {
    "hash": "00df5e37b475e376d1d00f58754dc3521867f829dbb512630346f3adfb600c2c"
   }
  }
 },
 "nbformat": 4,
 "nbformat_minor": 2
}
