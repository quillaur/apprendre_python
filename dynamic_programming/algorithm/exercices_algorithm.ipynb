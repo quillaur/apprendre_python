{
 "cells": [
  {
   "cell_type": "markdown",
   "metadata": {},
   "source": [
    "# Exercice 1"
   ]
  },
  {
   "cell_type": "code",
   "execution_count": 16,
   "metadata": {},
   "outputs": [],
   "source": [
    "n: int = 0"
   ]
  },
  {
   "cell_type": "code",
   "execution_count": 17,
   "metadata": {},
   "outputs": [],
   "source": [
    "t = int(input(\"Entrez un nombre please: \"))\n",
    "\n",
    "if t < 20:\n",
    "    n = t + 5\n",
    "\n",
    "if t > 20:\n",
    "    n = t - 5\n",
    "\n",
    "if n > 10 or n > 20:\n",
    "    n = n + 2"
   ]
  },
  {
   "cell_type": "markdown",
   "metadata": {},
   "source": [
    "Si t = 10 ou si t = 30.\n",
    "Quelle est la valeur de n ?"
   ]
  },
  {
   "cell_type": "code",
   "execution_count": 18,
   "metadata": {},
   "outputs": [
    {
     "name": "stdout",
     "output_type": "stream",
     "text": [
      "Pour t = 10 n = 17\n"
     ]
    }
   ],
   "source": [
    "print(\"Pour t =\", t, \"n =\", n)"
   ]
  },
  {
   "cell_type": "markdown",
   "metadata": {},
   "source": [
    "# Exercice 2"
   ]
  },
  {
   "cell_type": "code",
   "execution_count": 24,
   "metadata": {},
   "outputs": [],
   "source": [
    "noms = [\"Sofiane\", \"Mia\", \"Pierre\", \"Jade\", \"Aurel\"]\n",
    "ages = [45, 17, 21, 36, 18]"
   ]
  },
  {
   "cell_type": "markdown",
   "metadata": {},
   "source": [
    "Ecrire l'algorithme qui permet de définir qui est majeur et qui ne l'est pas.\n",
    "\n",
    "Le faire avec:\n",
    "* Une boucle for\n",
    "* Une boucle while\n",
    "* Faire une fonction qui détermine si un individu est majeur ou non."
   ]
  },
  {
   "cell_type": "code",
   "execution_count": null,
   "metadata": {},
   "outputs": [],
   "source": [
    "# i : entier\n",
    "# pour i allant de 0 à 3\n",
    "    # si ages[i] >= 18\n",
    "        # print(noms[i], \"majeur\")\n",
    "    # sinon\n",
    "        # print(noms[i], \"mineur\")"
   ]
  },
  {
   "cell_type": "code",
   "execution_count": 28,
   "metadata": {},
   "outputs": [
    {
     "name": "stdout",
     "output_type": "stream",
     "text": [
      "Sofiane majeur\n",
      "Mia mineur\n",
      "Pierre majeur\n",
      "Jade majeur\n",
      "Aurel majeur\n"
     ]
    }
   ],
   "source": [
    "for i in range(5):\n",
    "    if ages[i] >= 18:\n",
    "        print(noms[i], \"majeur\")\n",
    "    else:\n",
    "        print(noms[i], \"mineur\")"
   ]
  },
  {
   "cell_type": "code",
   "execution_count": 30,
   "metadata": {},
   "outputs": [
    {
     "name": "stdout",
     "output_type": "stream",
     "text": [
      "Sofiane mineur\n",
      "Mia mineur\n",
      "Pierre mineur\n",
      "Jade mineur\n",
      "Aurel mineur\n",
      "Sofiane mineur\n",
      "Mia mineur\n",
      "Pierre mineur\n",
      "Jade mineur\n",
      "Aurel mineur\n",
      "Sofiane mineur\n",
      "Mia mineur\n",
      "Pierre mineur\n",
      "Jade mineur\n",
      "Aurel mineur\n"
     ]
    }
   ],
   "source": [
    "def majeur_mineur(age: int) -> str:\n",
    "    majorite = None\n",
    "    if age >= 50:\n",
    "        majorite = \"majeur\"\n",
    "    else:\n",
    "        majorite = \"mineur\"\n",
    "    \n",
    "    return majorite\n",
    "\n",
    "for i in range(5):\n",
    "    print(noms[i], majeur_mineur(ages[i]))"
   ]
  },
  {
   "cell_type": "markdown",
   "metadata": {},
   "source": [
    "# Exercice 3"
   ]
  },
  {
   "cell_type": "code",
   "execution_count": 31,
   "metadata": {},
   "outputs": [],
   "source": [
    "n: int = 0\n",
    "p: int = 1\n",
    "\n",
    "while p < 20:\n",
    "    n = n + 1\n",
    "    p = p * 2"
   ]
  },
  {
   "cell_type": "markdown",
   "metadata": {},
   "source": [
    "Quelle est la valeur de n après l'execution de l'algorithme ci-dessus ?"
   ]
  },
  {
   "cell_type": "code",
   "execution_count": 32,
   "metadata": {},
   "outputs": [
    {
     "name": "stdout",
     "output_type": "stream",
     "text": [
      "5\n"
     ]
    }
   ],
   "source": [
    "print(n)"
   ]
  },
  {
   "cell_type": "markdown",
   "metadata": {},
   "source": [
    "# Exercice 4"
   ]
  },
  {
   "cell_type": "markdown",
   "metadata": {},
   "source": [
    "On veut estimer le prix d'un appartement en fonction des données suivantes:\n",
    "\n",
    "| Quartier | Prix (€/m2) | \n",
    "| -------- | ----------- |   \n",
    "| Sud      | 6 000 |\n",
    "| Nord     | 7 000 |\n",
    "| Ouest    | 10 000 |\n",
    "| Est      | 5 000 |\n",
    "\n",
    "-----------------------------------\n",
    "\n",
    "| Ajout | Prix |\n",
    "|------ | ---- |\n",
    "| Balcon | 20 000 |\n",
    "| Cuisine équipée | 20 000|\n",
    "| Place de parking | 10 000 |\n",
    "\n",
    "-----------------------------------\n",
    "\n"
   ]
  },
  {
   "cell_type": "markdown",
   "metadata": {},
   "source": [
    "#### 1) Calculer le prix d’un appartement du quartier Sud de 35 m2 avec balcon.  "
   ]
  },
  {
   "cell_type": "code",
   "execution_count": 35,
   "metadata": {},
   "outputs": [
    {
     "name": "stdout",
     "output_type": "stream",
     "text": [
      "230000\n"
     ]
    }
   ],
   "source": [
    "prix = 6000 * 35 + 20000\n",
    "print(prix)"
   ]
  },
  {
   "cell_type": "markdown",
   "metadata": {},
   "source": [
    "#### 2) Ecrire un algorithme qui calcul le prix d’un appartement."
   ]
  },
  {
   "cell_type": "code",
   "execution_count": 34,
   "metadata": {},
   "outputs": [],
   "source": [
    "def calcule_prix(x: int, s: int, b: int) -> int:\n",
    "    return x*s + b"
   ]
  },
  {
   "cell_type": "code",
   "execution_count": 36,
   "metadata": {},
   "outputs": [
    {
     "data": {
      "text/plain": [
       "230000"
      ]
     },
     "execution_count": 36,
     "metadata": {},
     "output_type": "execute_result"
    }
   ],
   "source": [
    "x = 6000\n",
    "s = 35\n",
    "b = 20000\n",
    "\n",
    "calcule_prix(x, s, b)"
   ]
  },
  {
   "cell_type": "markdown",
   "metadata": {},
   "source": [
    "# Exercice 5"
   ]
  },
  {
   "cell_type": "markdown",
   "metadata": {},
   "source": [
    "Soit une liste de chiffres. Écrire l’algo qui trouvera le minimum de la liste."
   ]
  },
  {
   "cell_type": "markdown",
   "metadata": {},
   "source": [
    "# Exercice 6"
   ]
  },
  {
   "cell_type": "markdown",
   "metadata": {},
   "source": [
    "Soit 2 offres promos :  \n",
    "* offre 1 = 20€ / mois + 0.25€ / GO\n",
    "* offre 2 = 10€ / mois + 0.5€ / GO\n",
    "\n",
    "Comment savoir pour quelle consommation de données (GO) les 2 offres sont équivalentes ?"
   ]
  },
  {
   "cell_type": "markdown",
   "metadata": {},
   "source": []
  },
  {
   "cell_type": "code",
   "execution_count": null,
   "metadata": {},
   "outputs": [],
   "source": []
  }
 ],
 "metadata": {
  "kernelspec": {
   "display_name": "Python 3.8.10 ('streamlit_apps')",
   "language": "python",
   "name": "python3"
  },
  "language_info": {
   "codemirror_mode": {
    "name": "ipython",
    "version": 3
   },
   "file_extension": ".py",
   "mimetype": "text/x-python",
   "name": "python",
   "nbconvert_exporter": "python",
   "pygments_lexer": "ipython3",
   "version": "3.8.10"
  },
  "orig_nbformat": 4,
  "vscode": {
   "interpreter": {
    "hash": "435386a1a52ee9f43e8bf7b2fc6c74ca461b14b9f3142ce1ab962b5d82efa401"
   }
  }
 },
 "nbformat": 4,
 "nbformat_minor": 2
}
