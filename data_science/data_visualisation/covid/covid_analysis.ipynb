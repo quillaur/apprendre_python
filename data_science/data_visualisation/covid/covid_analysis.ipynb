{
 "cells": [
  {
   "cell_type": "markdown",
   "metadata": {},
   "source": [
    "# World data"
   ]
  },
  {
   "cell_type": "markdown",
   "metadata": {},
   "source": [
    "## Data Sources"
   ]
  },
  {
   "cell_type": "markdown",
   "metadata": {},
   "source": [
    "Covid world data available at [ourworldindata.org](https://ourworldindata.org/coronavirus). Several views are already available on this site. \n",
    "\n",
    "We want to download the dataset to play with it ourselves. They link us toward this [github](https://github.com/owid/covid-19-data/tree/master/public/data)."
   ]
  },
  {
   "cell_type": "markdown",
   "metadata": {},
   "source": [
    "Another world covid source : [Center for Systems Science and Engineering (CSSE) at Johns Hopkins University](https://github.com/CSSEGISandData/COVID-19)"
   ]
  },
  {
   "cell_type": "markdown",
   "metadata": {},
   "source": [
    "Individual death profiling: [INED](https://dc-covid.site.ined.fr/en/data/pooled-datafiles/)"
   ]
  },
  {
   "cell_type": "code",
   "execution_count": 1,
   "metadata": {},
   "outputs": [],
   "source": [
    "import pandas as pd"
   ]
  },
  {
   "cell_type": "code",
   "execution_count": 75,
   "metadata": {},
   "outputs": [],
   "source": [
    "df_world = pd.read_csv(\"https://raw.githubusercontent.com/owid/covid-19-data/master/public/data/owid-covid-data.csv\")"
   ]
  },
  {
   "cell_type": "code",
   "execution_count": 76,
   "metadata": {},
   "outputs": [
    {
     "data": {
      "text/plain": [
       "Index(['iso_code', 'continent', 'location', 'date', 'total_cases', 'new_cases',\n",
       "       'new_cases_smoothed', 'total_deaths', 'new_deaths',\n",
       "       'new_deaths_smoothed', 'total_cases_per_million',\n",
       "       'new_cases_per_million', 'new_cases_smoothed_per_million',\n",
       "       'total_deaths_per_million', 'new_deaths_per_million',\n",
       "       'new_deaths_smoothed_per_million', 'reproduction_rate', 'icu_patients',\n",
       "       'icu_patients_per_million', 'hosp_patients',\n",
       "       'hosp_patients_per_million', 'weekly_icu_admissions',\n",
       "       'weekly_icu_admissions_per_million', 'weekly_hosp_admissions',\n",
       "       'weekly_hosp_admissions_per_million', 'total_tests', 'new_tests',\n",
       "       'total_tests_per_thousand', 'new_tests_per_thousand',\n",
       "       'new_tests_smoothed', 'new_tests_smoothed_per_thousand',\n",
       "       'positive_rate', 'tests_per_case', 'tests_units', 'total_vaccinations',\n",
       "       'people_vaccinated', 'people_fully_vaccinated', 'total_boosters',\n",
       "       'new_vaccinations', 'new_vaccinations_smoothed',\n",
       "       'total_vaccinations_per_hundred', 'people_vaccinated_per_hundred',\n",
       "       'people_fully_vaccinated_per_hundred', 'total_boosters_per_hundred',\n",
       "       'new_vaccinations_smoothed_per_million',\n",
       "       'new_people_vaccinated_smoothed',\n",
       "       'new_people_vaccinated_smoothed_per_hundred', 'stringency_index',\n",
       "       'population', 'population_density', 'median_age', 'aged_65_older',\n",
       "       'aged_70_older', 'gdp_per_capita', 'extreme_poverty',\n",
       "       'cardiovasc_death_rate', 'diabetes_prevalence', 'female_smokers',\n",
       "       'male_smokers', 'handwashing_facilities', 'hospital_beds_per_thousand',\n",
       "       'life_expectancy', 'human_development_index',\n",
       "       'excess_mortality_cumulative_absolute', 'excess_mortality_cumulative',\n",
       "       'excess_mortality', 'excess_mortality_cumulative_per_million'],\n",
       "      dtype='object')"
      ]
     },
     "execution_count": 76,
     "metadata": {},
     "output_type": "execute_result"
    }
   ],
   "source": [
    "df_world.columns"
   ]
  },
  {
   "cell_type": "code",
   "execution_count": 77,
   "metadata": {},
   "outputs": [],
   "source": [
    "# df_world['date'] = pd.to_datetime(df_world['date']) "
   ]
  },
  {
   "cell_type": "markdown",
   "metadata": {},
   "source": [
    "## Deaths / Vaccines trend"
   ]
  },
  {
   "cell_type": "code",
   "execution_count": 78,
   "metadata": {},
   "outputs": [
    {
     "data": {
      "text/plain": [
       "(212638, 67)"
      ]
     },
     "execution_count": 78,
     "metadata": {},
     "output_type": "execute_result"
    }
   ],
   "source": [
    "df_world.shape"
   ]
  },
  {
   "cell_type": "code",
   "execution_count": 85,
   "metadata": {},
   "outputs": [],
   "source": [
    "sub_df = df_world[[\"date\", \"total_deaths\", \"new_deaths\", \"total_vaccinations\", \"new_vaccinations\"]].dropna()"
   ]
  },
  {
   "cell_type": "code",
   "execution_count": 86,
   "metadata": {},
   "outputs": [],
   "source": [
    "sub_df = sub_df.sort_values(by=\"date\")"
   ]
  },
  {
   "cell_type": "code",
   "execution_count": 87,
   "metadata": {},
   "outputs": [],
   "source": [
    "sub_df[\"year_month\"] = sub_df['date'].str.slice(0, 7)"
   ]
  },
  {
   "cell_type": "code",
   "execution_count": 88,
   "metadata": {},
   "outputs": [],
   "source": [
    "sub_df = sub_df.groupby(by=\"year_month\").sum()"
   ]
  },
  {
   "cell_type": "code",
   "execution_count": 89,
   "metadata": {},
   "outputs": [
    {
     "data": {
      "text/html": [
       "<div>\n",
       "<style scoped>\n",
       "    .dataframe tbody tr th:only-of-type {\n",
       "        vertical-align: middle;\n",
       "    }\n",
       "\n",
       "    .dataframe tbody tr th {\n",
       "        vertical-align: top;\n",
       "    }\n",
       "\n",
       "    .dataframe thead th {\n",
       "        text-align: right;\n",
       "    }\n",
       "</style>\n",
       "<table border=\"1\" class=\"dataframe\">\n",
       "  <thead>\n",
       "    <tr style=\"text-align: right;\">\n",
       "      <th></th>\n",
       "      <th>total_deaths</th>\n",
       "      <th>new_deaths</th>\n",
       "      <th>total_vaccinations</th>\n",
       "      <th>new_vaccinations</th>\n",
       "    </tr>\n",
       "    <tr>\n",
       "      <th>year_month</th>\n",
       "      <th></th>\n",
       "      <th></th>\n",
       "      <th></th>\n",
       "      <th></th>\n",
       "    </tr>\n",
       "  </thead>\n",
       "  <tbody>\n",
       "    <tr>\n",
       "      <th>2020-12</th>\n",
       "      <td>136210538.0</td>\n",
       "      <td>1006897.0</td>\n",
       "      <td>2.811336e+08</td>\n",
       "      <td>4.001736e+07</td>\n",
       "    </tr>\n",
       "    <tr>\n",
       "      <th>2021-01</th>\n",
       "      <td>243179529.0</td>\n",
       "      <td>1617889.0</td>\n",
       "      <td>6.087627e+09</td>\n",
       "      <td>3.600329e+08</td>\n",
       "    </tr>\n",
       "    <tr>\n",
       "      <th>2021-02</th>\n",
       "      <td>276972635.0</td>\n",
       "      <td>1243669.0</td>\n",
       "      <td>2.018653e+10</td>\n",
       "      <td>6.428422e+08</td>\n",
       "    </tr>\n",
       "    <tr>\n",
       "      <th>2021-03</th>\n",
       "      <td>349654974.0</td>\n",
       "      <td>1224801.0</td>\n",
       "      <td>5.247526e+10</td>\n",
       "      <td>1.410307e+09</td>\n",
       "    </tr>\n",
       "    <tr>\n",
       "      <th>2021-04</th>\n",
       "      <td>379522656.0</td>\n",
       "      <td>1523312.0</td>\n",
       "      <td>1.087274e+11</td>\n",
       "      <td>2.210765e+09</td>\n",
       "    </tr>\n",
       "  </tbody>\n",
       "</table>\n",
       "</div>"
      ],
      "text/plain": [
       "            total_deaths  new_deaths  total_vaccinations  new_vaccinations\n",
       "year_month                                                                \n",
       "2020-12      136210538.0   1006897.0        2.811336e+08      4.001736e+07\n",
       "2021-01      243179529.0   1617889.0        6.087627e+09      3.600329e+08\n",
       "2021-02      276972635.0   1243669.0        2.018653e+10      6.428422e+08\n",
       "2021-03      349654974.0   1224801.0        5.247526e+10      1.410307e+09\n",
       "2021-04      379522656.0   1523312.0        1.087274e+11      2.210765e+09"
      ]
     },
     "execution_count": 89,
     "metadata": {},
     "output_type": "execute_result"
    }
   ],
   "source": [
    "sub_df.head()"
   ]
  },
  {
   "cell_type": "code",
   "execution_count": 95,
   "metadata": {},
   "outputs": [],
   "source": [
    "first_nd = int(sub_df.new_deaths.iloc[0])\n",
    "last_nd = int(sub_df.new_deaths.iloc[-1])\n",
    "nd_diff = ((last_nd - first_nd) / first_nd) * 100"
   ]
  },
  {
   "cell_type": "code",
   "execution_count": 98,
   "metadata": {},
   "outputs": [
    {
     "data": {
      "text/plain": [
       "1006897"
      ]
     },
     "execution_count": 98,
     "metadata": {},
     "output_type": "execute_result"
    }
   ],
   "source": [
    "first_nd"
   ]
  },
  {
   "cell_type": "code",
   "execution_count": 99,
   "metadata": {},
   "outputs": [
    {
     "data": {
      "text/plain": [
       "226283"
      ]
     },
     "execution_count": 99,
     "metadata": {},
     "output_type": "execute_result"
    }
   ],
   "source": [
    "last_nd"
   ]
  },
  {
   "cell_type": "code",
   "execution_count": 97,
   "metadata": {},
   "outputs": [
    {
     "data": {
      "text/plain": [
       "-77.52669836140142"
      ]
     },
     "execution_count": 97,
     "metadata": {},
     "output_type": "execute_result"
    }
   ],
   "source": [
    "nd_diff"
   ]
  },
  {
   "cell_type": "code",
   "execution_count": 54,
   "metadata": {},
   "outputs": [
    {
     "data": {
      "text/html": [
       "<div>\n",
       "<style scoped>\n",
       "    .dataframe tbody tr th:only-of-type {\n",
       "        vertical-align: middle;\n",
       "    }\n",
       "\n",
       "    .dataframe tbody tr th {\n",
       "        vertical-align: top;\n",
       "    }\n",
       "\n",
       "    .dataframe thead th {\n",
       "        text-align: right;\n",
       "    }\n",
       "</style>\n",
       "<table border=\"1\" class=\"dataframe\">\n",
       "  <thead>\n",
       "    <tr style=\"text-align: right;\">\n",
       "      <th></th>\n",
       "      <th>date</th>\n",
       "      <th>total_deaths</th>\n",
       "      <th>new_deaths</th>\n",
       "      <th>total_vaccinations</th>\n",
       "      <th>new_vaccinations</th>\n",
       "    </tr>\n",
       "  </thead>\n",
       "  <tbody>\n",
       "    <tr>\n",
       "      <th>61672</th>\n",
       "      <td>2020-12-02</td>\n",
       "      <td>426211.0</td>\n",
       "      <td>5373.0</td>\n",
       "      <td>0.0</td>\n",
       "      <td>0.0</td>\n",
       "    </tr>\n",
       "    <tr>\n",
       "      <th>209342</th>\n",
       "      <td>2020-12-02</td>\n",
       "      <td>1569534.0</td>\n",
       "      <td>12393.0</td>\n",
       "      <td>0.0</td>\n",
       "      <td>0.0</td>\n",
       "    </tr>\n",
       "    <tr>\n",
       "      <th>83139</th>\n",
       "      <td>2020-12-02</td>\n",
       "      <td>664503.0</td>\n",
       "      <td>7096.0</td>\n",
       "      <td>0.0</td>\n",
       "      <td>0.0</td>\n",
       "    </tr>\n",
       "    <tr>\n",
       "      <th>209343</th>\n",
       "      <td>2020-12-03</td>\n",
       "      <td>1582245.0</td>\n",
       "      <td>12711.0</td>\n",
       "      <td>0.0</td>\n",
       "      <td>1.0</td>\n",
       "    </tr>\n",
       "    <tr>\n",
       "      <th>83140</th>\n",
       "      <td>2020-12-03</td>\n",
       "      <td>671969.0</td>\n",
       "      <td>7466.0</td>\n",
       "      <td>0.0</td>\n",
       "      <td>1.0</td>\n",
       "    </tr>\n",
       "  </tbody>\n",
       "</table>\n",
       "</div>"
      ],
      "text/plain": [
       "             date  total_deaths  new_deaths  total_vaccinations  \\\n",
       "61672  2020-12-02      426211.0      5373.0                 0.0   \n",
       "209342 2020-12-02     1569534.0     12393.0                 0.0   \n",
       "83139  2020-12-02      664503.0      7096.0                 0.0   \n",
       "209343 2020-12-03     1582245.0     12711.0                 0.0   \n",
       "83140  2020-12-03      671969.0      7466.0                 0.0   \n",
       "\n",
       "        new_vaccinations  \n",
       "61672                0.0  \n",
       "209342               0.0  \n",
       "83139                0.0  \n",
       "209343               1.0  \n",
       "83140                1.0  "
      ]
     },
     "execution_count": 54,
     "metadata": {},
     "output_type": "execute_result"
    }
   ],
   "source": [
    "sub_df.head()"
   ]
  },
  {
   "cell_type": "code",
   "execution_count": 55,
   "metadata": {},
   "outputs": [
    {
     "data": {
      "text/html": [
       "<div>\n",
       "<style scoped>\n",
       "    .dataframe tbody tr th:only-of-type {\n",
       "        vertical-align: middle;\n",
       "    }\n",
       "\n",
       "    .dataframe tbody tr th {\n",
       "        vertical-align: top;\n",
       "    }\n",
       "\n",
       "    .dataframe thead th {\n",
       "        text-align: right;\n",
       "    }\n",
       "</style>\n",
       "<table border=\"1\" class=\"dataframe\">\n",
       "  <thead>\n",
       "    <tr style=\"text-align: right;\">\n",
       "      <th></th>\n",
       "      <th>date</th>\n",
       "      <th>total_deaths</th>\n",
       "      <th>new_deaths</th>\n",
       "      <th>total_vaccinations</th>\n",
       "      <th>new_vaccinations</th>\n",
       "    </tr>\n",
       "  </thead>\n",
       "  <tbody>\n",
       "    <tr>\n",
       "      <th>186878</th>\n",
       "      <td>2022-08-29</td>\n",
       "      <td>9866.0</td>\n",
       "      <td>22.0</td>\n",
       "      <td>60669785.0</td>\n",
       "      <td>40337.0</td>\n",
       "    </tr>\n",
       "    <tr>\n",
       "      <th>49555</th>\n",
       "      <td>2022-08-29</td>\n",
       "      <td>40805.0</td>\n",
       "      <td>14.0</td>\n",
       "      <td>17896546.0</td>\n",
       "      <td>4083.0</td>\n",
       "    </tr>\n",
       "    <tr>\n",
       "      <th>195016</th>\n",
       "      <td>2022-08-29</td>\n",
       "      <td>100400.0</td>\n",
       "      <td>0.0</td>\n",
       "      <td>151984505.0</td>\n",
       "      <td>23339.0</td>\n",
       "    </tr>\n",
       "    <tr>\n",
       "      <th>117665</th>\n",
       "      <td>2022-08-29</td>\n",
       "      <td>36232.0</td>\n",
       "      <td>34.0</td>\n",
       "      <td>72046167.0</td>\n",
       "      <td>3197.0</td>\n",
       "    </tr>\n",
       "    <tr>\n",
       "      <th>72437</th>\n",
       "      <td>2022-08-29</td>\n",
       "      <td>147223.0</td>\n",
       "      <td>119.0</td>\n",
       "      <td>184630217.0</td>\n",
       "      <td>13893.0</td>\n",
       "    </tr>\n",
       "  </tbody>\n",
       "</table>\n",
       "</div>"
      ],
      "text/plain": [
       "             date  total_deaths  new_deaths  total_vaccinations  \\\n",
       "186878 2022-08-29        9866.0        22.0          60669785.0   \n",
       "49555  2022-08-29       40805.0        14.0          17896546.0   \n",
       "195016 2022-08-29      100400.0         0.0         151984505.0   \n",
       "117665 2022-08-29       36232.0        34.0          72046167.0   \n",
       "72437  2022-08-29      147223.0       119.0         184630217.0   \n",
       "\n",
       "        new_vaccinations  \n",
       "186878           40337.0  \n",
       "49555             4083.0  \n",
       "195016           23339.0  \n",
       "117665            3197.0  \n",
       "72437            13893.0  "
      ]
     },
     "execution_count": 55,
     "metadata": {},
     "output_type": "execute_result"
    }
   ],
   "source": [
    "sub_df.tail()"
   ]
  },
  {
   "cell_type": "code",
   "execution_count": 56,
   "metadata": {},
   "outputs": [
    {
     "data": {
      "text/plain": [
       "(48388, 5)"
      ]
     },
     "execution_count": 56,
     "metadata": {},
     "output_type": "execute_result"
    }
   ],
   "source": [
    "sub_df.shape"
   ]
  },
  {
   "cell_type": "code",
   "execution_count": 57,
   "metadata": {},
   "outputs": [],
   "source": [
    "per_month = sub_df.date.dt.to_period(\"M\")"
   ]
  },
  {
   "cell_type": "code",
   "execution_count": 58,
   "metadata": {},
   "outputs": [],
   "source": [
    "sub_df = sub_df.groupby(per_month)"
   ]
  },
  {
   "cell_type": "code",
   "execution_count": 60,
   "metadata": {},
   "outputs": [
    {
     "data": {
      "text/html": [
       "<div>\n",
       "<style scoped>\n",
       "    .dataframe tbody tr th:only-of-type {\n",
       "        vertical-align: middle;\n",
       "    }\n",
       "\n",
       "    .dataframe tbody tr th {\n",
       "        vertical-align: top;\n",
       "    }\n",
       "\n",
       "    .dataframe thead th {\n",
       "        text-align: right;\n",
       "    }\n",
       "</style>\n",
       "<table border=\"1\" class=\"dataframe\">\n",
       "  <thead>\n",
       "    <tr style=\"text-align: right;\">\n",
       "      <th></th>\n",
       "      <th>date</th>\n",
       "      <th>total_deaths</th>\n",
       "      <th>new_deaths</th>\n",
       "      <th>total_vaccinations</th>\n",
       "      <th>new_vaccinations</th>\n",
       "    </tr>\n",
       "  </thead>\n",
       "  <tbody>\n",
       "    <tr>\n",
       "      <th>61672</th>\n",
       "      <td>2020-12-02</td>\n",
       "      <td>426211.0</td>\n",
       "      <td>5373.0</td>\n",
       "      <td>0.000000e+00</td>\n",
       "      <td>0.0</td>\n",
       "    </tr>\n",
       "    <tr>\n",
       "      <th>209342</th>\n",
       "      <td>2020-12-02</td>\n",
       "      <td>1569534.0</td>\n",
       "      <td>12393.0</td>\n",
       "      <td>0.000000e+00</td>\n",
       "      <td>0.0</td>\n",
       "    </tr>\n",
       "    <tr>\n",
       "      <th>83139</th>\n",
       "      <td>2020-12-02</td>\n",
       "      <td>664503.0</td>\n",
       "      <td>7096.0</td>\n",
       "      <td>0.000000e+00</td>\n",
       "      <td>0.0</td>\n",
       "    </tr>\n",
       "    <tr>\n",
       "      <th>209343</th>\n",
       "      <td>2020-12-03</td>\n",
       "      <td>1582245.0</td>\n",
       "      <td>12711.0</td>\n",
       "      <td>0.000000e+00</td>\n",
       "      <td>1.0</td>\n",
       "    </tr>\n",
       "    <tr>\n",
       "      <th>83140</th>\n",
       "      <td>2020-12-03</td>\n",
       "      <td>671969.0</td>\n",
       "      <td>7466.0</td>\n",
       "      <td>0.000000e+00</td>\n",
       "      <td>1.0</td>\n",
       "    </tr>\n",
       "    <tr>\n",
       "      <th>...</th>\n",
       "      <td>...</td>\n",
       "      <td>...</td>\n",
       "      <td>...</td>\n",
       "      <td>...</td>\n",
       "      <td>...</td>\n",
       "    </tr>\n",
       "    <tr>\n",
       "      <th>128152</th>\n",
       "      <td>2022-08-01</td>\n",
       "      <td>2748.0</td>\n",
       "      <td>2.0</td>\n",
       "      <td>6.771370e+05</td>\n",
       "      <td>16.0</td>\n",
       "    </tr>\n",
       "    <tr>\n",
       "      <th>203105</th>\n",
       "      <td>2022-08-01</td>\n",
       "      <td>2549554.0</td>\n",
       "      <td>667.0</td>\n",
       "      <td>5.277591e+09</td>\n",
       "      <td>1028437.0</td>\n",
       "    </tr>\n",
       "    <tr>\n",
       "      <th>59530</th>\n",
       "      <td>2022-08-01</td>\n",
       "      <td>2620.0</td>\n",
       "      <td>0.0</td>\n",
       "      <td>2.003825e+06</td>\n",
       "      <td>865.0</td>\n",
       "    </tr>\n",
       "    <tr>\n",
       "      <th>72409</th>\n",
       "      <td>2022-08-01</td>\n",
       "      <td>144150.0</td>\n",
       "      <td>171.0</td>\n",
       "      <td>1.839633e+08</td>\n",
       "      <td>19233.0</td>\n",
       "    </tr>\n",
       "    <tr>\n",
       "      <th>11003</th>\n",
       "      <td>2022-08-01</td>\n",
       "      <td>1453466.0</td>\n",
       "      <td>344.0</td>\n",
       "      <td>8.432486e+09</td>\n",
       "      <td>4122020.0</td>\n",
       "    </tr>\n",
       "  </tbody>\n",
       "</table>\n",
       "<p>105 rows × 5 columns</p>\n",
       "</div>"
      ],
      "text/plain": [
       "             date  total_deaths  new_deaths  total_vaccinations  \\\n",
       "61672  2020-12-02      426211.0      5373.0        0.000000e+00   \n",
       "209342 2020-12-02     1569534.0     12393.0        0.000000e+00   \n",
       "83139  2020-12-02      664503.0      7096.0        0.000000e+00   \n",
       "209343 2020-12-03     1582245.0     12711.0        0.000000e+00   \n",
       "83140  2020-12-03      671969.0      7466.0        0.000000e+00   \n",
       "...           ...           ...         ...                 ...   \n",
       "128152 2022-08-01        2748.0         2.0        6.771370e+05   \n",
       "203105 2022-08-01     2549554.0       667.0        5.277591e+09   \n",
       "59530  2022-08-01        2620.0         0.0        2.003825e+06   \n",
       "72409  2022-08-01      144150.0       171.0        1.839633e+08   \n",
       "11003  2022-08-01     1453466.0       344.0        8.432486e+09   \n",
       "\n",
       "        new_vaccinations  \n",
       "61672                0.0  \n",
       "209342               0.0  \n",
       "83139                0.0  \n",
       "209343               1.0  \n",
       "83140                1.0  \n",
       "...                  ...  \n",
       "128152              16.0  \n",
       "203105         1028437.0  \n",
       "59530              865.0  \n",
       "72409            19233.0  \n",
       "11003          4122020.0  \n",
       "\n",
       "[105 rows x 5 columns]"
      ]
     },
     "execution_count": 60,
     "metadata": {},
     "output_type": "execute_result"
    }
   ],
   "source": [
    "sub_df.head()"
   ]
  },
  {
   "cell_type": "code",
   "execution_count": 61,
   "metadata": {},
   "outputs": [],
   "source": [
    "sub_df = sub_df.sum()"
   ]
  },
  {
   "cell_type": "code",
   "execution_count": 62,
   "metadata": {},
   "outputs": [
    {
     "data": {
      "text/html": [
       "<div>\n",
       "<style scoped>\n",
       "    .dataframe tbody tr th:only-of-type {\n",
       "        vertical-align: middle;\n",
       "    }\n",
       "\n",
       "    .dataframe tbody tr th {\n",
       "        vertical-align: top;\n",
       "    }\n",
       "\n",
       "    .dataframe thead th {\n",
       "        text-align: right;\n",
       "    }\n",
       "</style>\n",
       "<table border=\"1\" class=\"dataframe\">\n",
       "  <thead>\n",
       "    <tr style=\"text-align: right;\">\n",
       "      <th></th>\n",
       "      <th>total_deaths</th>\n",
       "      <th>new_deaths</th>\n",
       "      <th>total_vaccinations</th>\n",
       "      <th>new_vaccinations</th>\n",
       "    </tr>\n",
       "    <tr>\n",
       "      <th>date</th>\n",
       "      <th></th>\n",
       "      <th></th>\n",
       "      <th></th>\n",
       "      <th></th>\n",
       "    </tr>\n",
       "  </thead>\n",
       "  <tbody>\n",
       "    <tr>\n",
       "      <th>2020-12</th>\n",
       "      <td>136210538.0</td>\n",
       "      <td>1006897.0</td>\n",
       "      <td>2.811336e+08</td>\n",
       "      <td>4.001736e+07</td>\n",
       "    </tr>\n",
       "    <tr>\n",
       "      <th>2021-01</th>\n",
       "      <td>243179529.0</td>\n",
       "      <td>1617889.0</td>\n",
       "      <td>6.087627e+09</td>\n",
       "      <td>3.600329e+08</td>\n",
       "    </tr>\n",
       "    <tr>\n",
       "      <th>2021-02</th>\n",
       "      <td>276972635.0</td>\n",
       "      <td>1243669.0</td>\n",
       "      <td>2.018653e+10</td>\n",
       "      <td>6.428422e+08</td>\n",
       "    </tr>\n",
       "    <tr>\n",
       "      <th>2021-03</th>\n",
       "      <td>349654974.0</td>\n",
       "      <td>1224801.0</td>\n",
       "      <td>5.247526e+10</td>\n",
       "      <td>1.410307e+09</td>\n",
       "    </tr>\n",
       "    <tr>\n",
       "      <th>2021-04</th>\n",
       "      <td>379522656.0</td>\n",
       "      <td>1523312.0</td>\n",
       "      <td>1.087274e+11</td>\n",
       "      <td>2.210765e+09</td>\n",
       "    </tr>\n",
       "  </tbody>\n",
       "</table>\n",
       "</div>"
      ],
      "text/plain": [
       "         total_deaths  new_deaths  total_vaccinations  new_vaccinations\n",
       "date                                                                   \n",
       "2020-12   136210538.0   1006897.0        2.811336e+08      4.001736e+07\n",
       "2021-01   243179529.0   1617889.0        6.087627e+09      3.600329e+08\n",
       "2021-02   276972635.0   1243669.0        2.018653e+10      6.428422e+08\n",
       "2021-03   349654974.0   1224801.0        5.247526e+10      1.410307e+09\n",
       "2021-04   379522656.0   1523312.0        1.087274e+11      2.210765e+09"
      ]
     },
     "execution_count": 62,
     "metadata": {},
     "output_type": "execute_result"
    }
   ],
   "source": [
    "sub_df.head()"
   ]
  },
  {
   "cell_type": "code",
   "execution_count": 68,
   "metadata": {},
   "outputs": [],
   "source": [
    "sub_df['date'] = sub_df.index"
   ]
  },
  {
   "cell_type": "code",
   "execution_count": 69,
   "metadata": {},
   "outputs": [
    {
     "data": {
      "text/html": [
       "<div>\n",
       "<style scoped>\n",
       "    .dataframe tbody tr th:only-of-type {\n",
       "        vertical-align: middle;\n",
       "    }\n",
       "\n",
       "    .dataframe tbody tr th {\n",
       "        vertical-align: top;\n",
       "    }\n",
       "\n",
       "    .dataframe thead th {\n",
       "        text-align: right;\n",
       "    }\n",
       "</style>\n",
       "<table border=\"1\" class=\"dataframe\">\n",
       "  <thead>\n",
       "    <tr style=\"text-align: right;\">\n",
       "      <th></th>\n",
       "      <th>total_deaths</th>\n",
       "      <th>new_deaths</th>\n",
       "      <th>total_vaccinations</th>\n",
       "      <th>new_vaccinations</th>\n",
       "      <th>date</th>\n",
       "    </tr>\n",
       "    <tr>\n",
       "      <th>date</th>\n",
       "      <th></th>\n",
       "      <th></th>\n",
       "      <th></th>\n",
       "      <th></th>\n",
       "      <th></th>\n",
       "    </tr>\n",
       "  </thead>\n",
       "  <tbody>\n",
       "    <tr>\n",
       "      <th>2020-12</th>\n",
       "      <td>136210538.0</td>\n",
       "      <td>1006897.0</td>\n",
       "      <td>2.811336e+08</td>\n",
       "      <td>4.001736e+07</td>\n",
       "      <td>2020-12</td>\n",
       "    </tr>\n",
       "    <tr>\n",
       "      <th>2021-01</th>\n",
       "      <td>243179529.0</td>\n",
       "      <td>1617889.0</td>\n",
       "      <td>6.087627e+09</td>\n",
       "      <td>3.600329e+08</td>\n",
       "      <td>2021-01</td>\n",
       "    </tr>\n",
       "    <tr>\n",
       "      <th>2021-02</th>\n",
       "      <td>276972635.0</td>\n",
       "      <td>1243669.0</td>\n",
       "      <td>2.018653e+10</td>\n",
       "      <td>6.428422e+08</td>\n",
       "      <td>2021-02</td>\n",
       "    </tr>\n",
       "    <tr>\n",
       "      <th>2021-03</th>\n",
       "      <td>349654974.0</td>\n",
       "      <td>1224801.0</td>\n",
       "      <td>5.247526e+10</td>\n",
       "      <td>1.410307e+09</td>\n",
       "      <td>2021-03</td>\n",
       "    </tr>\n",
       "    <tr>\n",
       "      <th>2021-04</th>\n",
       "      <td>379522656.0</td>\n",
       "      <td>1523312.0</td>\n",
       "      <td>1.087274e+11</td>\n",
       "      <td>2.210765e+09</td>\n",
       "      <td>2021-04</td>\n",
       "    </tr>\n",
       "  </tbody>\n",
       "</table>\n",
       "</div>"
      ],
      "text/plain": [
       "         total_deaths  new_deaths  total_vaccinations  new_vaccinations  \\\n",
       "date                                                                      \n",
       "2020-12   136210538.0   1006897.0        2.811336e+08      4.001736e+07   \n",
       "2021-01   243179529.0   1617889.0        6.087627e+09      3.600329e+08   \n",
       "2021-02   276972635.0   1243669.0        2.018653e+10      6.428422e+08   \n",
       "2021-03   349654974.0   1224801.0        5.247526e+10      1.410307e+09   \n",
       "2021-04   379522656.0   1523312.0        1.087274e+11      2.210765e+09   \n",
       "\n",
       "            date  \n",
       "date              \n",
       "2020-12  2020-12  \n",
       "2021-01  2021-01  \n",
       "2021-02  2021-02  \n",
       "2021-03  2021-03  \n",
       "2021-04  2021-04  "
      ]
     },
     "execution_count": 69,
     "metadata": {},
     "output_type": "execute_result"
    }
   ],
   "source": [
    "sub_df.head()"
   ]
  },
  {
   "cell_type": "code",
   "execution_count": 66,
   "metadata": {},
   "outputs": [],
   "source": [
    "import seaborn as sns"
   ]
  },
  {
   "cell_type": "code",
   "execution_count": 70,
   "metadata": {},
   "outputs": [
    {
     "data": {
      "image/png": "[encoded data removed]",
      "text/plain": [
       "<Figure size 432x288 with 1 Axes>"
      ]
     },
     "metadata": {
      "needs_background": "light"
     },
     "output_type": "display_data"
    },
    {
     "data": {
      "image/png": "[encoded data removed]",
      "text/plain": [
       "<Figure size 432x288 with 1 Axes>"
      ]
     },
     "metadata": {
      "needs_background": "light"
     },
     "output_type": "display_data"
    },
    {
     "data": {
      "image/png": "[encoded data removed]",
      "text/plain": [
       "<Figure size 432x288 with 1 Axes>"
      ]
     },
     "metadata": {
      "needs_background": "light"
     },
     "output_type": "display_data"
    },
    {
     "data": {
      "image/png": "[encoded data removed]",
      "text/plain": [
       "<Figure size 432x288 with 1 Axes>"
      ]
     },
     "metadata": {
      "needs_background": "light"
     },
     "output_type": "display_data"
    }
   ],
   "source": [
    "for var in [\"total_deaths\", \"new_deaths\", \"total_vaccinations\", \"new_vaccinations\"]:\n",
    "    sub_df.plot(x=\"date\", y=var, rot=60)"
   ]
  },
  {
   "cell_type": "markdown",
   "metadata": {},
   "source": [
    "# Age profiling"
   ]
  },
  {
   "cell_type": "code",
   "execution_count": 7,
   "metadata": {},
   "outputs": [],
   "source": [
    "import requests, zipfile, io\n",
    "\n",
    "response = requests.get(\"https://www.ined.fr/fichier/rte/166/Page%20Data/Pooled%20Datasets/AgeSex.zip\")\n",
    "myzipfile = zipfile.ZipFile(io.BytesIO(response.content))\n",
    "with myzipfile.open('AgeSex/Cum_deaths_by_age_sex.csv') as age_sex_csv:\n",
    "    df_age_sex = pd.read_csv(age_sex_csv)\n",
    "\n",
    "with myzipfile.open('AgeSex/Population.csv') as pop_csv:\n",
    "    df_pop = pd.read_csv(pop_csv)\n"
   ]
  },
  {
   "cell_type": "code",
   "execution_count": null,
   "metadata": {},
   "outputs": [],
   "source": []
  }
 ],
 "metadata": {
  "kernelspec": {
   "display_name": "Python 3.8.10 ('streamlit_apps')",
   "language": "python",
   "name": "python3"
  },
  "language_info": {
   "codemirror_mode": {
    "name": "ipython",
    "version": 3
   },
   "file_extension": ".py",
   "mimetype": "text/x-python",
   "name": "python",
   "nbconvert_exporter": "python",
   "pygments_lexer": "ipython3",
   "version": "3.8.10"
  },
  "orig_nbformat": 4,
  "vscode": {
   "interpreter": {
    "hash": "435386a1a52ee9f43e8bf7b2fc6c74ca461b14b9f3142ce1ab962b5d82efa401"
   }
  }
 },
 "nbformat": 4,
 "nbformat_minor": 2
}
