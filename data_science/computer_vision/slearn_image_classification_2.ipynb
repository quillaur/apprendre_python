{
  "nbformat": 4,
  "nbformat_minor": 0,
  "metadata": {
    "colab": {
      "provenance": [],
      "toc_visible": true,
      "authorship_tag": "ABX9TyOwkjMsk1gU042y+9pAoiOy",
      "include_colab_link": true
    },
    "kernelspec": {
      "name": "python3",
      "display_name": "Python 3"
    },
    "language_info": {
      "name": "python"
    },
    "widgets": {
      "application/vnd.jupyter.widget-state+json": {
        "19a2a6f6934a47789796b3f4646bc271": {
          "model_module": "@jupyter-widgets/controls",
          "model_name": "HBoxModel",
          "model_module_version": "1.5.0",
          "state": {
            "_dom_classes": [],
            "_model_module": "@jupyter-widgets/controls",
            "_model_module_version": "1.5.0",
            "_model_name": "HBoxModel",
            "_view_count": null,
            "_view_module": "@jupyter-widgets/controls",
            "_view_module_version": "1.5.0",
            "_view_name": "HBoxView",
            "box_style": "",
            "children": [
              "IPY_MODEL_df0632929ad34fd391caeb296487f69e",
              "IPY_MODEL_9978a2d69e5f4277915261239152840f",
              "IPY_MODEL_c11a111334d44d6eb650b6061bc7bb95"
            ],
            "layout": "IPY_MODEL_3d61e10ac8ba4f76b59ddd19d33f6de2"
          }
        },
        "df0632929ad34fd391caeb296487f69e": {
          "model_module": "@jupyter-widgets/controls",
          "model_name": "HTMLModel",
          "model_module_version": "1.5.0",
          "state": {
            "_dom_classes": [],
            "_model_module": "@jupyter-widgets/controls",
            "_model_module_version": "1.5.0",
            "_model_name": "HTMLModel",
            "_view_count": null,
            "_view_module": "@jupyter-widgets/controls",
            "_view_module_version": "1.5.0",
            "_view_name": "HTMLView",
            "description": "",
            "description_tooltip": null,
            "layout": "IPY_MODEL_360c6f3539344319ace6b5d7d63265c0",
            "placeholder": "​",
            "style": "IPY_MODEL_f7a91d23bce94650ad2b7c0f44e2d223",
            "value": "100%"
          }
        },
        "9978a2d69e5f4277915261239152840f": {
          "model_module": "@jupyter-widgets/controls",
          "model_name": "FloatProgressModel",
          "model_module_version": "1.5.0",
          "state": {
            "_dom_classes": [],
            "_model_module": "@jupyter-widgets/controls",
            "_model_module_version": "1.5.0",
            "_model_name": "FloatProgressModel",
            "_view_count": null,
            "_view_module": "@jupyter-widgets/controls",
            "_view_module_version": "1.5.0",
            "_view_name": "ProgressView",
            "bar_style": "success",
            "description": "",
            "description_tooltip": null,
            "layout": "IPY_MODEL_ae09d9fba7424d8db0c726ab5f084729",
            "max": 100,
            "min": 0,
            "orientation": "horizontal",
            "style": "IPY_MODEL_5e7e4e78803c4e3fa08081ecb6601941",
            "value": 100
          }
        },
        "c11a111334d44d6eb650b6061bc7bb95": {
          "model_module": "@jupyter-widgets/controls",
          "model_name": "HTMLModel",
          "model_module_version": "1.5.0",
          "state": {
            "_dom_classes": [],
            "_model_module": "@jupyter-widgets/controls",
            "_model_module_version": "1.5.0",
            "_model_name": "HTMLModel",
            "_view_count": null,
            "_view_module": "@jupyter-widgets/controls",
            "_view_module_version": "1.5.0",
            "_view_name": "HTMLView",
            "description": "",
            "description_tooltip": null,
            "layout": "IPY_MODEL_da28b4ab3aff481dbaf4e498298bfc38",
            "placeholder": "​",
            "style": "IPY_MODEL_73caa3c2ccfb45e3bf8fd3870e332399",
            "value": " 100/100 [00:00&lt;00:00, 1701.27it/s]"
          }
        },
        "3d61e10ac8ba4f76b59ddd19d33f6de2": {
          "model_module": "@jupyter-widgets/base",
          "model_name": "LayoutModel",
          "model_module_version": "1.2.0",
          "state": {
            "_model_module": "@jupyter-widgets/base",
            "_model_module_version": "1.2.0",
            "_model_name": "LayoutModel",
            "_view_count": null,
            "_view_module": "@jupyter-widgets/base",
            "_view_module_version": "1.2.0",
            "_view_name": "LayoutView",
            "align_content": null,
            "align_items": null,
            "align_self": null,
            "border": null,
            "bottom": null,
            "display": null,
            "flex": null,
            "flex_flow": null,
            "grid_area": null,
            "grid_auto_columns": null,
            "grid_auto_flow": null,
            "grid_auto_rows": null,
            "grid_column": null,
            "grid_gap": null,
            "grid_row": null,
            "grid_template_areas": null,
            "grid_template_columns": null,
            "grid_template_rows": null,
            "height": null,
            "justify_content": null,
            "justify_items": null,
            "left": null,
            "margin": null,
            "max_height": null,
            "max_width": null,
            "min_height": null,
            "min_width": null,
            "object_fit": null,
            "object_position": null,
            "order": null,
            "overflow": null,
            "overflow_x": null,
            "overflow_y": null,
            "padding": null,
            "right": null,
            "top": null,
            "visibility": null,
            "width": null
          }
        },
        "360c6f3539344319ace6b5d7d63265c0": {
          "model_module": "@jupyter-widgets/base",
          "model_name": "LayoutModel",
          "model_module_version": "1.2.0",
          "state": {
            "_model_module": "@jupyter-widgets/base",
            "_model_module_version": "1.2.0",
            "_model_name": "LayoutModel",
            "_view_count": null,
            "_view_module": "@jupyter-widgets/base",
            "_view_module_version": "1.2.0",
            "_view_name": "LayoutView",
            "align_content": null,
            "align_items": null,
            "align_self": null,
            "border": null,
            "bottom": null,
            "display": null,
            "flex": null,
            "flex_flow": null,
            "grid_area": null,
            "grid_auto_columns": null,
            "grid_auto_flow": null,
            "grid_auto_rows": null,
            "grid_column": null,
            "grid_gap": null,
            "grid_row": null,
            "grid_template_areas": null,
            "grid_template_columns": null,
            "grid_template_rows": null,
            "height": null,
            "justify_content": null,
            "justify_items": null,
            "left": null,
            "margin": null,
            "max_height": null,
            "max_width": null,
            "min_height": null,
            "min_width": null,
            "object_fit": null,
            "object_position": null,
            "order": null,
            "overflow": null,
            "overflow_x": null,
            "overflow_y": null,
            "padding": null,
            "right": null,
            "top": null,
            "visibility": null,
            "width": null
          }
        },
        "f7a91d23bce94650ad2b7c0f44e2d223": {
          "model_module": "@jupyter-widgets/controls",
          "model_name": "DescriptionStyleModel",
          "model_module_version": "1.5.0",
          "state": {
            "_model_module": "@jupyter-widgets/controls",
            "_model_module_version": "1.5.0",
            "_model_name": "DescriptionStyleModel",
            "_view_count": null,
            "_view_module": "@jupyter-widgets/base",
            "_view_module_version": "1.2.0",
            "_view_name": "StyleView",
            "description_width": ""
          }
        },
        "ae09d9fba7424d8db0c726ab5f084729": {
          "model_module": "@jupyter-widgets/base",
          "model_name": "LayoutModel",
          "model_module_version": "1.2.0",
          "state": {
            "_model_module": "@jupyter-widgets/base",
            "_model_module_version": "1.2.0",
            "_model_name": "LayoutModel",
            "_view_count": null,
            "_view_module": "@jupyter-widgets/base",
            "_view_module_version": "1.2.0",
            "_view_name": "LayoutView",
            "align_content": null,
            "align_items": null,
            "align_self": null,
            "border": null,
            "bottom": null,
            "display": null,
            "flex": null,
            "flex_flow": null,
            "grid_area": null,
            "grid_auto_columns": null,
            "grid_auto_flow": null,
            "grid_auto_rows": null,
            "grid_column": null,
            "grid_gap": null,
            "grid_row": null,
            "grid_template_areas": null,
            "grid_template_columns": null,
            "grid_template_rows": null,
            "height": null,
            "justify_content": null,
            "justify_items": null,
            "left": null,
            "margin": null,
            "max_height": null,
            "max_width": null,
            "min_height": null,
            "min_width": null,
            "object_fit": null,
            "object_position": null,
            "order": null,
            "overflow": null,
            "overflow_x": null,
            "overflow_y": null,
            "padding": null,
            "right": null,
            "top": null,
            "visibility": null,
            "width": null
          }
        },
        "5e7e4e78803c4e3fa08081ecb6601941": {
          "model_module": "@jupyter-widgets/controls",
          "model_name": "ProgressStyleModel",
          "model_module_version": "1.5.0",
          "state": {
            "_model_module": "@jupyter-widgets/controls",
            "_model_module_version": "1.5.0",
            "_model_name": "ProgressStyleModel",
            "_view_count": null,
            "_view_module": "@jupyter-widgets/base",
            "_view_module_version": "1.2.0",
            "_view_name": "StyleView",
            "bar_color": null,
            "description_width": ""
          }
        },
        "da28b4ab3aff481dbaf4e498298bfc38": {
          "model_module": "@jupyter-widgets/base",
          "model_name": "LayoutModel",
          "model_module_version": "1.2.0",
          "state": {
            "_model_module": "@jupyter-widgets/base",
            "_model_module_version": "1.2.0",
            "_model_name": "LayoutModel",
            "_view_count": null,
            "_view_module": "@jupyter-widgets/base",
            "_view_module_version": "1.2.0",
            "_view_name": "LayoutView",
            "align_content": null,
            "align_items": null,
            "align_self": null,
            "border": null,
            "bottom": null,
            "display": null,
            "flex": null,
            "flex_flow": null,
            "grid_area": null,
            "grid_auto_columns": null,
            "grid_auto_flow": null,
            "grid_auto_rows": null,
            "grid_column": null,
            "grid_gap": null,
            "grid_row": null,
            "grid_template_areas": null,
            "grid_template_columns": null,
            "grid_template_rows": null,
            "height": null,
            "justify_content": null,
            "justify_items": null,
            "left": null,
            "margin": null,
            "max_height": null,
            "max_width": null,
            "min_height": null,
            "min_width": null,
            "object_fit": null,
            "object_position": null,
            "order": null,
            "overflow": null,
            "overflow_x": null,
            "overflow_y": null,
            "padding": null,
            "right": null,
            "top": null,
            "visibility": null,
            "width": null
          }
        },
        "73caa3c2ccfb45e3bf8fd3870e332399": {
          "model_module": "@jupyter-widgets/controls",
          "model_name": "DescriptionStyleModel",
          "model_module_version": "1.5.0",
          "state": {
            "_model_module": "@jupyter-widgets/controls",
            "_model_module_version": "1.5.0",
            "_model_name": "DescriptionStyleModel",
            "_view_count": null,
            "_view_module": "@jupyter-widgets/base",
            "_view_module_version": "1.2.0",
            "_view_name": "StyleView",
            "description_width": ""
          }
        }
      }
    }
  },
  "cells": [
    {
      "cell_type": "markdown",
      "metadata": {
        "id": "view-in-github",
        "colab_type": "text"
      },
      "source": [
        "<a href=\"https://colab.research.google.com/github/quillaur/data_learning/blob/main/data_science/computer_vision/slearn_image_classification_2.ipynb\" target=\"_parent\"><img src=\"https://colab.research.google.com/assets/colab-badge.svg\" alt=\"Open In Colab\"/></a>"
      ]
    },
    {
      "cell_type": "markdown",
      "source": [
        "# Introduction\n",
        "\n",
        "The goal of this project it to identify if a pictures contains a horse or not. We are thus dealing with a classification problem. It can be viewed in 2 ways: a one class classification or a binary one.\n",
        "\n",
        "We will first look at the dataset content and describe it. Then, features will be extracted from images and processed into a classifier. Performances will be evaluated using the accuracy.\n",
        "\n",
        "Since it is imposed on us, we will use sklearn only to do our analysis and modelisation."
      ],
      "metadata": {
        "id": "pFc_FWrN_J4_"
      }
    },
    {
      "cell_type": "markdown",
      "source": [
        "# Module imports"
      ],
      "metadata": {
        "id": "g5lI9plFAfg5"
      }
    },
    {
      "cell_type": "code",
      "execution_count": 7,
      "metadata": {
        "id": "SLn73-SJ-Erf"
      },
      "outputs": [],
      "source": [
        "import cv2\n",
        "import os\n",
        "import seaborn as sns\n",
        "import matplotlib.pyplot as plt\n",
        "import pandas as pd\n",
        "import numpy as np\n",
        "from tqdm.notebook import tqdm\n",
        "\n",
        "# The dataset can be easily obtained from TF.\n",
        "from tensorflow.keras.datasets import cifar10\n",
        "\n",
        "from sklearn.svm import SVC\n",
        "from sklearn.model_selection import cross_validate, train_test_split"
      ]
    },
    {
      "cell_type": "markdown",
      "source": [
        "# Dataset exploration"
      ],
      "metadata": {
        "id": "G71RRpY1_9d4"
      }
    },
    {
      "cell_type": "markdown",
      "source": [
        "## Loading the data"
      ],
      "metadata": {
        "id": "03okd6ZSAAKA"
      }
    },
    {
      "cell_type": "markdown",
      "source": [
        "https://www.tensorflow.org/api_docs/python/tf/keras/datasets/cifar10/load_data"
      ],
      "metadata": {
        "id": "anNHjjNnrhgS"
      }
    },
    {
      "cell_type": "code",
      "source": [
        "(X_train, y_train), (X_test, y_test) = cifar10.load_data()"
      ],
      "metadata": {
        "id": "VhsCLMtBJnnU"
      },
      "execution_count": 12,
      "outputs": []
    },
    {
      "cell_type": "code",
      "source": [
        "X_train.shape"
      ],
      "metadata": {
        "colab": {
          "base_uri": "https://localhost:8080/"
        },
        "id": "zw-batnZk5Qj",
        "outputId": "fda720a3-62f0-43df-ef92-3b1a24607351"
      },
      "execution_count": 13,
      "outputs": [
        {
          "output_type": "execute_result",
          "data": {
            "text/plain": [
              "(50000, 32, 32, 3)"
            ]
          },
          "metadata": {},
          "execution_count": 13
        }
      ]
    },
    {
      "cell_type": "code",
      "source": [
        "# I limit the train dataset to 100 images for for demonstration purpose.\n",
        "X_train, _, y_train, _ = train_test_split(X_train, y_train, test_size=0.998, random_state=42)"
      ],
      "metadata": {
        "id": "yKe16pifKTwK"
      },
      "execution_count": 14,
      "outputs": []
    },
    {
      "cell_type": "code",
      "source": [
        "X_train.shape"
      ],
      "metadata": {
        "colab": {
          "base_uri": "https://localhost:8080/"
        },
        "id": "mkHcal_TkTRT",
        "outputId": "7ebe9c92-8f65-423d-f3be-bf96e5f973e1"
      },
      "execution_count": 15,
      "outputs": [
        {
          "output_type": "execute_result",
          "data": {
            "text/plain": [
              "(100, 32, 32, 3)"
            ]
          },
          "metadata": {},
          "execution_count": 15
        }
      ]
    },
    {
      "cell_type": "code",
      "source": [
        "plt.imshow(X_train[0])"
      ],
      "metadata": {
        "colab": {
          "base_uri": "https://localhost:8080/",
          "height": 283
        },
        "id": "TMgn4aZ7lc9o",
        "outputId": "3a0ddd5e-2879-493e-c0d9-b6d0fd7d09e5"
      },
      "execution_count": 16,
      "outputs": [
        {
          "output_type": "execute_result",
          "data": {
            "text/plain": [
              "<matplotlib.image.AxesImage at 0x7f252a0e0f10>"
            ]
          },
          "metadata": {},
          "execution_count": 16
        },
        {
          "output_type": "display_data",
          "data": {
            "text/plain": [
              "<Figure size 432x288 with 1 Axes>"
            ],
            "image/png": "[encoded data removed]"
          },
          "metadata": {
            "needs_background": "light"
          }
        }
      ]
    },
    {
      "cell_type": "markdown",
      "source": [
        "## Size visualisation\n",
        "\n",
        "Not very usefull in our case, but in most real life datasets, the images are not all the same sizes to begin with."
      ],
      "metadata": {
        "id": "vT7eI4CrCx_d"
      }
    },
    {
      "cell_type": "code",
      "source": [
        "widths = []\n",
        "heights = []\n",
        "aspect_ratios = []\n",
        "\n",
        "for img in X_train:\n",
        "  # We can get the width (w) and height (h) from the shape of the array.\n",
        "  w, h, c = img.shape\n",
        "  widths.append(w)\n",
        "  heights.append(h)\n",
        "  aspect_ratios.append(w/h)\n",
        "\n",
        "vis_df = pd.DataFrame(\n",
        "  {\n",
        "    \"Width\": widths,\n",
        "    \"Height\": heights,\n",
        "    \"Aspect ratio\": aspect_ratios,\n",
        "    \"Category\": y_train.flatten()\n",
        "  }\n",
        ")\n",
        "\n",
        "fig, axes = plt.subplots(1, 3, figsize=(22,5))\n",
        "# sns.scatterplot(data=vis_df, x=\"Width\", y=\"Height\", hue=\"Category\", ax=axes[0])\n",
        "sns.histplot(data=vis_df, x=\"Width\", ax=axes[0])\n",
        "sns.histplot(data=vis_df, x=\"Height\", ax=axes[1])\n",
        "sns.histplot(data=vis_df, x=\"Aspect ratio\", ax=axes[2])"
      ],
      "metadata": {
        "colab": {
          "base_uri": "https://localhost:8080/",
          "height": 351
        },
        "id": "xuSLAmlvCHmD",
        "outputId": "dc69d45c-3502-46be-f553-139034aef409"
      },
      "execution_count": 19,
      "outputs": [
        {
          "output_type": "execute_result",
          "data": {
            "text/plain": [
              "<matplotlib.axes._subplots.AxesSubplot at 0x7f25299e44c0>"
            ]
          },
          "metadata": {},
          "execution_count": 19
        },
        {
          "output_type": "display_data",
          "data": {
            "text/plain": [
              "<Figure size 1584x360 with 3 Axes>"
            ],
            "image/png": "[encoded data removed]"
          },
          "metadata": {
            "needs_background": "light"
          }
        }
      ]
    },
    {
      "cell_type": "code",
      "source": [
        "# What happens when I resize pictures ?\n",
        "pict_numb = 3\n",
        "resizing = (16,16)\n",
        "\n",
        "fig, axes = plt.subplots(pict_numb, 2, figsize=(10,10))\n",
        "for i in range(pict_numb):\n",
        "  img = X_train[i]\n",
        "  img_resized = cv2.resize(img, resizing)\n",
        "  axes[i,0].imshow(img)\n",
        "  axes[i,1].imshow(img_resized)"
      ],
      "metadata": {
        "colab": {
          "base_uri": "https://localhost:8080/",
          "height": 593
        },
        "id": "j3jzTn5lEUoF",
        "outputId": "ec1d96d2-9c01-443e-cb9a-bc8d10d31944"
      },
      "execution_count": 21,
      "outputs": [
        {
          "output_type": "display_data",
          "data": {
            "text/plain": [
              "<Figure size 720x720 with 6 Axes>"
            ],
            "image/png": "[encoded data removed]"
          },
          "metadata": {
            "needs_background": "light"
          }
        }
      ]
    },
    {
      "cell_type": "markdown",
      "source": [
        "## Dataset balance\n",
        "\n",
        "The category number 7 is one interesting to us. The dataset is slightly unbalanced."
      ],
      "metadata": {
        "id": "pZItV9rXnIHg"
      }
    },
    {
      "cell_type": "code",
      "source": [
        "sns.histplot(pd.Series(y_train.flatten(), name=\"Category\"), bins=10)"
      ],
      "metadata": {
        "colab": {
          "base_uri": "https://localhost:8080/",
          "height": 296
        },
        "id": "7nffNwmknLt_",
        "outputId": "758b6626-23df-4811-8a73-464c7e69eb81"
      },
      "execution_count": 36,
      "outputs": [
        {
          "output_type": "execute_result",
          "data": {
            "text/plain": [
              "<matplotlib.axes._subplots.AxesSubplot at 0x7f2529073f70>"
            ]
          },
          "metadata": {},
          "execution_count": 36
        },
        {
          "output_type": "display_data",
          "data": {
            "text/plain": [
              "<Figure size 432x288 with 1 Axes>"
            ],
            "image/png": "[encoded data removed]"
          },
          "metadata": {
            "needs_background": "light"
          }
        }
      ]
    },
    {
      "cell_type": "markdown",
      "source": [
        "# Preprocessing"
      ],
      "metadata": {
        "id": "-nKmDLHUNsVR"
      }
    },
    {
      "cell_type": "code",
      "source": [
        "def preprocessing(img: np.ndarray, resize: tuple=(32,32), grayscale: bool=True, equal_hist: bool=True) -> np.ndarray:\n",
        "  if img.shape[0] != resize[0] and img.shape[1] != resize[1]:\n",
        "    img = cv2.resize(img, resizing)\n",
        "\n",
        "  if grayscale:\n",
        "    img = cv2.cvtColor(img, cv2.COLOR_BGR2GRAY)\n",
        "  \n",
        "  if equal_hist:\n",
        "    img = cv2.equalizeHist(img)\n",
        "  \n",
        "  return img"
      ],
      "metadata": {
        "id": "Gvw5un8QNwng"
      },
      "execution_count": 37,
      "outputs": []
    },
    {
      "cell_type": "code",
      "source": [
        "pict_numb = 3\n",
        "grayscale = True\n",
        "\n",
        "fig, axes = plt.subplots(pict_numb, 2, figsize=(10,10))\n",
        "for i in range(pict_numb):\n",
        "  img = X_train[i]\n",
        "  axes[i,0].imshow(img)\n",
        "  axes[i,1].imshow(preprocessing(img, grayscale=grayscale), cmap=\"gray\" if grayscale else \"'viridis'\")"
      ],
      "metadata": {
        "colab": {
          "base_uri": "https://localhost:8080/",
          "height": 593
        },
        "id": "k24bhZs-OpoT",
        "outputId": "d2a46b2e-2089-462c-c742-84c2beebd913"
      },
      "execution_count": 39,
      "outputs": [
        {
          "output_type": "display_data",
          "data": {
            "text/plain": [
              "<Figure size 720x720 with 6 Axes>"
            ],
            "image/png": "[encoded data removed]"
          },
          "metadata": {
            "needs_background": "light"
          }
        }
      ]
    },
    {
      "cell_type": "code",
      "source": [
        "preprocessed_data = []\n",
        "for img in tqdm(X_train):\n",
        "  preprocessed_data.append(preprocessing(img))"
      ],
      "metadata": {
        "colab": {
          "base_uri": "https://localhost:8080/",
          "height": 49,
          "referenced_widgets": [
            "19a2a6f6934a47789796b3f4646bc271",
            "df0632929ad34fd391caeb296487f69e",
            "9978a2d69e5f4277915261239152840f",
            "c11a111334d44d6eb650b6061bc7bb95",
            "3d61e10ac8ba4f76b59ddd19d33f6de2",
            "360c6f3539344319ace6b5d7d63265c0",
            "f7a91d23bce94650ad2b7c0f44e2d223",
            "ae09d9fba7424d8db0c726ab5f084729",
            "5e7e4e78803c4e3fa08081ecb6601941",
            "da28b4ab3aff481dbaf4e498298bfc38",
            "73caa3c2ccfb45e3bf8fd3870e332399"
          ]
        },
        "id": "xrHnr8iXQJ_l",
        "outputId": "f55f4b9e-9a1b-4a92-e20d-5660ce733487"
      },
      "execution_count": 44,
      "outputs": [
        {
          "output_type": "display_data",
          "data": {
            "text/plain": [
              "  0%|          | 0/100 [00:00<?, ?it/s]"
            ],
            "application/vnd.jupyter.widget-view+json": {
              "version_major": 2,
              "version_minor": 0,
              "model_id": "19a2a6f6934a47789796b3f4646bc271"
            }
          },
          "metadata": {}
        }
      ]
    },
    {
      "cell_type": "markdown",
      "source": [
        "# Features Extraction\n",
        "\n",
        "* https://www.kaggle.com/code/lorinc/feature-extraction-from-images\n",
        "* https://scikit-learn.org/stable/modules/generated/sklearn.feature_extraction.image.PatchExtractor.html#sklearn.feature_extraction.image.PatchExtractor\n"
      ],
      "metadata": {
        "id": "1cvNp0gggXbH"
      }
    },
    {
      "cell_type": "code",
      "source": [
        "from skimage.feature import corner_harris, corner_subpix, corner_peaks, CENSURE"
      ],
      "metadata": {
        "id": "pz_D3SRlgdD-"
      },
      "execution_count": 41,
      "outputs": []
    },
    {
      "cell_type": "code",
      "source": [
        "detector = CENSURE()\n",
        "img = preprocessed_data[0]\n",
        "detector.detect(img)\n",
        "\n",
        "coords = corner_peaks(corner_harris(img), min_distance=5)\n",
        "coords_subpix = corner_subpix(img, coords, window_size=13)\n",
        "\n",
        "plt.subplot(121)\n",
        "plt.title('CENSURE feature detection')\n",
        "plt.imshow(img, cmap=\"gray\")\n",
        "plt.scatter(detector.keypoints[:, 1], detector.keypoints[:, 0],\n",
        "              2 ** detector.scales, facecolors='none', edgecolors='r')\n",
        "\n",
        "plt.subplot(122)\n",
        "plt.title('Harris Corner Detection')\n",
        "plt.imshow(img, cmap='gray')\n",
        "plt.plot(coords[:, 1], coords[:, 0], '.b', markersize=5)\n",
        "plt.show()"
      ],
      "metadata": {
        "colab": {
          "base_uri": "https://localhost:8080/",
          "height": 216
        },
        "id": "rbI2mAuvqoSb",
        "outputId": "3e00a6cd-9b8f-46d5-a921-5a67e8a70235"
      },
      "execution_count": 47,
      "outputs": [
        {
          "output_type": "display_data",
          "data": {
            "text/plain": [
              "<Figure size 432x288 with 2 Axes>"
            ],
            "image/png": "[encoded data removed]"
          },
          "metadata": {
            "needs_background": "light"
          }
        }
      ]
    },
    {
      "cell_type": "markdown",
      "source": [
        "# Sklearn modelisation\n",
        "\n",
        "https://scikit-learn.org/stable/auto_examples/classification/plot_digits_classification.html"
      ],
      "metadata": {
        "id": "NCHLzA3VNmPa"
      }
    },
    {
      "cell_type": "code",
      "source": [
        "clf = SVC(gamma=0.001)\n",
        "cv_results = cross_validate(clf, preprocessed_data, target, cv=3)"
      ],
      "metadata": {
        "id": "4DQBOzXzPeF0"
      },
      "execution_count": 34,
      "outputs": []
    },
    {
      "cell_type": "code",
      "source": [
        "pd.DataFrame(cv_results)"
      ],
      "metadata": {
        "colab": {
          "base_uri": "https://localhost:8080/",
          "height": 143
        },
        "id": "h3uFqfNtQ38v",
        "outputId": "49e39233-3a5a-445b-a54d-04ea5b5e95d7"
      },
      "execution_count": 36,
      "outputs": [
        {
          "output_type": "execute_result",
          "data": {
            "text/plain": [
              "   fit_time  score_time  test_score\n",
              "0  0.051047    0.030553         0.5\n",
              "1  0.031859    0.023418         0.5\n",
              "2  0.017257    0.039434         0.4"
            ],
            "text/html": [
              "\n",
              "  <div id=\"df-8823b4a5-c152-42ae-afb3-37c20703f751\">\n",
              "    <div class=\"colab-df-container\">\n",
              "      <div>\n",
              "<style scoped>\n",
              "    .dataframe tbody tr th:only-of-type {\n",
              "        vertical-align: middle;\n",
              "    }\n",
              "\n",
              "    .dataframe tbody tr th {\n",
              "        vertical-align: top;\n",
              "    }\n",
              "\n",
              "    .dataframe thead th {\n",
              "        text-align: right;\n",
              "    }\n",
              "</style>\n",
              "<table border=\"1\" class=\"dataframe\">\n",
              "  <thead>\n",
              "    <tr style=\"text-align: right;\">\n",
              "      <th></th>\n",
              "      <th>fit_time</th>\n",
              "      <th>score_time</th>\n",
              "      <th>test_score</th>\n",
              "    </tr>\n",
              "  </thead>\n",
              "  <tbody>\n",
              "    <tr>\n",
              "      <th>0</th>\n",
              "      <td>0.051047</td>\n",
              "      <td>0.030553</td>\n",
              "      <td>0.5</td>\n",
              "    </tr>\n",
              "    <tr>\n",
              "      <th>1</th>\n",
              "      <td>0.031859</td>\n",
              "      <td>0.023418</td>\n",
              "      <td>0.5</td>\n",
              "    </tr>\n",
              "    <tr>\n",
              "      <th>2</th>\n",
              "      <td>0.017257</td>\n",
              "      <td>0.039434</td>\n",
              "      <td>0.4</td>\n",
              "    </tr>\n",
              "  </tbody>\n",
              "</table>\n",
              "</div>\n",
              "      <button class=\"colab-df-convert\" onclick=\"convertToInteractive('df-8823b4a5-c152-42ae-afb3-37c20703f751')\"\n",
              "              title=\"Convert this dataframe to an interactive table.\"\n",
              "              style=\"display:none;\">\n",
              "        \n",
              "  <svg xmlns=\"http://www.w3.org/2000/svg\" height=\"24px\"viewBox=\"0 0 24 24\"\n",
              "       width=\"24px\">\n",
              "    <path d=\"M0 0h24v24H0V0z\" fill=\"none\"/>\n",
              "    <path d=\"M18.56 5.44l.94 2.06.94-2.06 2.06-.94-2.06-.94-.94-2.06-.94 2.06-2.06.94zm-11 1L8.5 8.5l.94-2.06 2.06-.94-2.06-.94L8.5 2.5l-.94 2.06-2.06.94zm10 10l.94 2.06.94-2.06 2.06-.94-2.06-.94-.94-2.06-.94 2.06-2.06.94z\"/><path d=\"M17.41 7.96l-1.37-1.37c-.4-.4-.92-.59-1.43-.59-.52 0-1.04.2-1.43.59L10.3 9.45l-7.72 7.72c-.78.78-.78 2.05 0 2.83L4 21.41c.39.39.9.59 1.41.59.51 0 1.02-.2 1.41-.59l7.78-7.78 2.81-2.81c.8-.78.8-2.07 0-2.86zM5.41 20L4 18.59l7.72-7.72 1.47 1.35L5.41 20z\"/>\n",
              "  </svg>\n",
              "      </button>\n",
              "      \n",
              "  <style>\n",
              "    .colab-df-container {\n",
              "      display:flex;\n",
              "      flex-wrap:wrap;\n",
              "      gap: 12px;\n",
              "    }\n",
              "\n",
              "    .colab-df-convert {\n",
              "      background-color: #E8F0FE;\n",
              "      border: none;\n",
              "      border-radius: 50%;\n",
              "      cursor: pointer;\n",
              "      display: none;\n",
              "      fill: #1967D2;\n",
              "      height: 32px;\n",
              "      padding: 0 0 0 0;\n",
              "      width: 32px;\n",
              "    }\n",
              "\n",
              "    .colab-df-convert:hover {\n",
              "      background-color: #E2EBFA;\n",
              "      box-shadow: 0px 1px 2px rgba(60, 64, 67, 0.3), 0px 1px 3px 1px rgba(60, 64, 67, 0.15);\n",
              "      fill: #174EA6;\n",
              "    }\n",
              "\n",
              "    [theme=dark] .colab-df-convert {\n",
              "      background-color: #3B4455;\n",
              "      fill: #D2E3FC;\n",
              "    }\n",
              "\n",
              "    [theme=dark] .colab-df-convert:hover {\n",
              "      background-color: #434B5C;\n",
              "      box-shadow: 0px 1px 3px 1px rgba(0, 0, 0, 0.15);\n",
              "      filter: drop-shadow(0px 1px 2px rgba(0, 0, 0, 0.3));\n",
              "      fill: #FFFFFF;\n",
              "    }\n",
              "  </style>\n",
              "\n",
              "      <script>\n",
              "        const buttonEl =\n",
              "          document.querySelector('#df-8823b4a5-c152-42ae-afb3-37c20703f751 button.colab-df-convert');\n",
              "        buttonEl.style.display =\n",
              "          google.colab.kernel.accessAllowed ? 'block' : 'none';\n",
              "\n",
              "        async function convertToInteractive(key) {\n",
              "          const element = document.querySelector('#df-8823b4a5-c152-42ae-afb3-37c20703f751');\n",
              "          const dataTable =\n",
              "            await google.colab.kernel.invokeFunction('convertToInteractive',\n",
              "                                                     [key], {});\n",
              "          if (!dataTable) return;\n",
              "\n",
              "          const docLinkHtml = 'Like what you see? Visit the ' +\n",
              "            '<a target=\"_blank\" href=https://colab.research.google.com/notebooks/data_table.ipynb>data table notebook</a>'\n",
              "            + ' to learn more about interactive tables.';\n",
              "          element.innerHTML = '';\n",
              "          dataTable['output_type'] = 'display_data';\n",
              "          await google.colab.output.renderOutput(dataTable, element);\n",
              "          const docLink = document.createElement('div');\n",
              "          docLink.innerHTML = docLinkHtml;\n",
              "          element.appendChild(docLink);\n",
              "        }\n",
              "      </script>\n",
              "    </div>\n",
              "  </div>\n",
              "  "
            ]
          },
          "metadata": {},
          "execution_count": 36
        }
      ]
    },
    {
      "cell_type": "markdown",
      "source": [
        "# Using pretrained-model\n",
        "\n",
        "https://huggingface.co/tasks/image-classification"
      ],
      "metadata": {
        "id": "eKsClfZIMYFM"
      }
    },
    {
      "cell_type": "code",
      "source": [],
      "metadata": {
        "id": "T245BFdpMatN"
      },
      "execution_count": null,
      "outputs": []
    }
  ]
}