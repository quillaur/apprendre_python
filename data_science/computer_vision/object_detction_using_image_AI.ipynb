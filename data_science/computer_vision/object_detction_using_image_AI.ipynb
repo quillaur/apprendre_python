{
  "nbformat": 4,
  "nbformat_minor": 0,
  "metadata": {
    "colab": {
      "provenance": [],
      "authorship_tag": "ABX9TyPxGOmsCdMOm75mpKQQ+UE7",
      "include_colab_link": true
    },
    "kernelspec": {
      "name": "python3",
      "display_name": "Python 3"
    },
    "language_info": {
      "name": "python"
    }
  },
  "cells": [
    {
      "cell_type": "markdown",
      "metadata": {
        "id": "view-in-github",
        "colab_type": "text"
      },
      "source": [
        "<a href=\"https://colab.research.google.com/github/quillaur/data_learning/blob/main/data_science/computer_vision/object_detction_using_image_AI.ipynb\" target=\"_parent\"><img src=\"https://colab.research.google.com/assets/colab-badge.svg\" alt=\"Open In Colab\"/></a>"
      ]
    },
    {
      "cell_type": "markdown",
      "source": [
        "# Introduction"
      ],
      "metadata": {
        "id": "lUR1mUjqd4Lc"
      }
    },
    {
      "cell_type": "markdown",
      "source": [
        "## Dataset creation"
      ],
      "metadata": {
        "id": "g1lwX9kTecTB"
      }
    },
    {
      "cell_type": "code",
      "source": [],
      "metadata": {
        "id": "wv4Qrf1ihWKt"
      },
      "execution_count": null,
      "outputs": []
    },
    {
      "cell_type": "markdown",
      "source": [
        "# Using image AI\n",
        "\n",
        "https://github.com/OlafenwaMoses/ImageAI/tree/master/imageai/Detection"
      ],
      "metadata": {
        "id": "2Ui3chT0p3-n"
      }
    },
    {
      "cell_type": "code",
      "source": [
        "! pip install imageai"
      ],
      "metadata": {
        "colab": {
          "base_uri": "https://localhost:8080/"
        },
        "id": "22Nevbgnp6dp",
        "outputId": "32e1574c-a2b3-49ed-b40e-d15d0fd17a64"
      },
      "execution_count": 6,
      "outputs": [
        {
          "output_type": "stream",
          "name": "stdout",
          "text": [
            "Looking in indexes: https://pypi.org/simple, https://us-python.pkg.dev/colab-wheels/public/simple/\n",
            "Collecting imageai\n",
            "  Downloading imageai-3.0.3-py3-none-any.whl (69 kB)\n",
            "\u001b[2K     \u001b[90m━━━━━━━━━━━━━━━━━━━━━━━━━━━━━━━━━━━━━━━━\u001b[0m \u001b[32m69.8/69.8 KB\u001b[0m \u001b[31m7.8 MB/s\u001b[0m eta \u001b[36m0:00:00\u001b[0m\n",
            "\u001b[?25hInstalling collected packages: imageai\n",
            "Successfully installed imageai-3.0.3\n"
          ]
        }
      ]
    },
    {
      "cell_type": "code",
      "source": [
        "from imageai.Detection import ObjectDetection"
      ],
      "metadata": {
        "id": "tdYlZCtyp8ZK"
      },
      "execution_count": 7,
      "outputs": []
    },
    {
      "cell_type": "code",
      "source": [
        "detector = ObjectDetection()\n",
        "detector.setModelTypeAsTinyYOLOv3()\n",
        "detector.setModelPath(\"/content/tiny-yolov3.pt\")\n",
        "detector.loadModel()"
      ],
      "metadata": {
        "colab": {
          "base_uri": "https://localhost:8080/",
          "height": 339
        },
        "id": "rZrc2YVJp-rH",
        "outputId": "3df17fc1-2e2a-4f0b-b190-6d99be18fea2"
      },
      "execution_count": 8,
      "outputs": [
        {
          "output_type": "error",
          "ename": "ValueError",
          "evalue": "ignored",
          "traceback": [
            "\u001b[0;31m---------------------------------------------------------------------------\u001b[0m",
            "\u001b[0;31mValueError\u001b[0m                                Traceback (most recent call last)",
            "\u001b[0;32m<ipython-input-8-9223b2fd1c27>\u001b[0m in \u001b[0;36m<module>\u001b[0;34m\u001b[0m\n\u001b[1;32m      1\u001b[0m \u001b[0mdetector\u001b[0m \u001b[0;34m=\u001b[0m \u001b[0mObjectDetection\u001b[0m\u001b[0;34m(\u001b[0m\u001b[0;34m)\u001b[0m\u001b[0;34m\u001b[0m\u001b[0;34m\u001b[0m\u001b[0m\n\u001b[1;32m      2\u001b[0m \u001b[0mdetector\u001b[0m\u001b[0;34m.\u001b[0m\u001b[0msetModelTypeAsTinyYOLOv3\u001b[0m\u001b[0;34m(\u001b[0m\u001b[0;34m)\u001b[0m\u001b[0;34m\u001b[0m\u001b[0;34m\u001b[0m\u001b[0m\n\u001b[0;32m----> 3\u001b[0;31m \u001b[0mdetector\u001b[0m\u001b[0;34m.\u001b[0m\u001b[0msetModelPath\u001b[0m\u001b[0;34m(\u001b[0m\u001b[0;34m\"/content/tiny-yolov3.pt\"\u001b[0m\u001b[0;34m)\u001b[0m\u001b[0;34m\u001b[0m\u001b[0;34m\u001b[0m\u001b[0m\n\u001b[0m\u001b[1;32m      4\u001b[0m \u001b[0mdetector\u001b[0m\u001b[0;34m.\u001b[0m\u001b[0mloadModel\u001b[0m\u001b[0;34m(\u001b[0m\u001b[0;34m)\u001b[0m\u001b[0;34m\u001b[0m\u001b[0;34m\u001b[0m\u001b[0m\n",
            "\u001b[0;32m/usr/local/lib/python3.8/dist-packages/imageai/Detection/__init__.py\u001b[0m in \u001b[0;36msetModelPath\u001b[0;34m(self, path)\u001b[0m\n\u001b[1;32m    208\u001b[0m             \u001b[0mself\u001b[0m\u001b[0;34m.\u001b[0m\u001b[0m__model_loaded\u001b[0m \u001b[0;34m=\u001b[0m \u001b[0;32mFalse\u001b[0m\u001b[0;34m\u001b[0m\u001b[0;34m\u001b[0m\u001b[0m\n\u001b[1;32m    209\u001b[0m         \u001b[0;32melse\u001b[0m\u001b[0;34m:\u001b[0m\u001b[0;34m\u001b[0m\u001b[0;34m\u001b[0m\u001b[0m\n\u001b[0;32m--> 210\u001b[0;31m             raise ValueError(\n\u001b[0m\u001b[1;32m    211\u001b[0m                         \u001b[0;34m\"invalid path, path not pointing to a valid file.\"\u001b[0m\u001b[0;34m\u001b[0m\u001b[0;34m\u001b[0m\u001b[0m\n\u001b[1;32m    212\u001b[0m                     ) from None\n",
            "\u001b[0;31mValueError\u001b[0m: invalid path, path not pointing to a valid file."
          ]
        }
      ]
    },
    {
      "cell_type": "code",
      "source": [
        "input_img = \"/content/other_4.jpeg\"\n",
        "out_img = \"/content/other_4_out.jpeg\"\n",
        "detections = detector.detectObjectsFromImage(input_image=input_img, output_image_path=out_img, minimum_percentage_probability=30)"
      ],
      "metadata": {
        "id": "ATK58J4iqAdH"
      },
      "execution_count": null,
      "outputs": []
    },
    {
      "cell_type": "code",
      "source": [
        "for eachObject in detections:\n",
        "    print(eachObject[\"name\"] , \" : \", eachObject[\"percentage_probability\"], \" : \", eachObject[\"box_points\"] )\n",
        "    print(\"--------------------------------\")"
      ],
      "metadata": {
        "id": "n3Pc1P_oqGCa"
      },
      "execution_count": null,
      "outputs": []
    }
  ]
}