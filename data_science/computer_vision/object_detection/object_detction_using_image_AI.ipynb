{
  "nbformat": 4,
  "nbformat_minor": 0,
  "metadata": {
    "colab": {
      "provenance": [],
      "authorship_tag": "ABX9TyP20cFkd45n4mlBqY+R5xHR",
      "include_colab_link": true
    },
    "kernelspec": {
      "name": "python3",
      "display_name": "Python 3"
    },
    "language_info": {
      "name": "python"
    },
    "widgets": {
      "application/vnd.jupyter.widget-state+json": {
        "987dec673ead488d9f02b55ff77836a3": {
          "model_module": "@jupyter-widgets/controls",
          "model_name": "VBoxModel",
          "model_module_version": "1.5.0",
          "state": {
            "_dom_classes": [],
            "_model_module": "@jupyter-widgets/controls",
            "_model_module_version": "1.5.0",
            "_model_name": "VBoxModel",
            "_view_count": null,
            "_view_module": "@jupyter-widgets/controls",
            "_view_module_version": "1.5.0",
            "_view_name": "VBoxView",
            "box_style": "",
            "children": [
              "IPY_MODEL_7a51095b9c374d6ba7cefa9b47ff149f",
              "IPY_MODEL_9a849406d5584a7b9d0c001924557a30"
            ],
            "layout": "IPY_MODEL_2a6ef7dadeb741a4aac954f389cf6a1a"
          }
        },
        "7a51095b9c374d6ba7cefa9b47ff149f": {
          "model_module": "@jupyter-widgets/controls",
          "model_name": "IntProgressModel",
          "model_module_version": "1.5.0",
          "state": {
            "_dom_classes": [],
            "_model_module": "@jupyter-widgets/controls",
            "_model_module_version": "1.5.0",
            "_model_name": "IntProgressModel",
            "_view_count": null,
            "_view_module": "@jupyter-widgets/controls",
            "_view_module_version": "1.5.0",
            "_view_name": "ProgressView",
            "bar_style": "",
            "description": "Progress",
            "description_tooltip": null,
            "layout": "IPY_MODEL_c9a5ba36ebef45129e2c4ce940f81f8e",
            "max": 2,
            "min": 0,
            "orientation": "horizontal",
            "style": "IPY_MODEL_2067aa7188ec46e2a79c785ac63cd872",
            "value": 0
          }
        },
        "9a849406d5584a7b9d0c001924557a30": {
          "model_module": "jupyter-bbox-widget",
          "model_name": "BBoxModel",
          "model_module_version": "^0.5.0",
          "state": {
            "_dom_classes": [],
            "_model_module": "jupyter-bbox-widget",
            "_model_module_version": "^0.5.0",
            "_model_name": "BBoxModel",
            "_view_count": null,
            "_view_module": "jupyter-bbox-widget",
            "_view_module_version": "^0.5.0",
            "_view_name": "BBoxView",
            "bboxes": [
              {
                "x": 63,
                "y": 9,
                "width": 191,
                "height": 167,
                "label": "Elephant"
              }
            ],
            "classes": [
              "Elephant"
            ],
            "colors": [
              "#1f77b4",
              "#ff7f0e",
              "#2ca02c",
              "#d62728",
              "#9467bd",
              "#8c564b",
              "#e377c2",
              "#7f7f7f",
              "#bcbd22",
              "#17becf"
            ],
            "hide_buttons": false,
            "image": "data:image/jpg;base64,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",
            "label": "Elephant",
            "layout": "IPY_MODEL_4d120a24cfcc482290fdb8ec7340e54b",
            "selected_index": 0,
            "view_only": false
          }
        },
        "2a6ef7dadeb741a4aac954f389cf6a1a": {
          "model_module": "@jupyter-widgets/base",
          "model_name": "LayoutModel",
          "model_module_version": "1.2.0",
          "state": {
            "_model_module": "@jupyter-widgets/base",
            "_model_module_version": "1.2.0",
            "_model_name": "LayoutModel",
            "_view_count": null,
            "_view_module": "@jupyter-widgets/base",
            "_view_module_version": "1.2.0",
            "_view_name": "LayoutView",
            "align_content": null,
            "align_items": null,
            "align_self": null,
            "border": null,
            "bottom": null,
            "display": null,
            "flex": null,
            "flex_flow": null,
            "grid_area": null,
            "grid_auto_columns": null,
            "grid_auto_flow": null,
            "grid_auto_rows": null,
            "grid_column": null,
            "grid_gap": null,
            "grid_row": null,
            "grid_template_areas": null,
            "grid_template_columns": null,
            "grid_template_rows": null,
            "height": null,
            "justify_content": null,
            "justify_items": null,
            "left": null,
            "margin": null,
            "max_height": null,
            "max_width": null,
            "min_height": null,
            "min_width": null,
            "object_fit": null,
            "object_position": null,
            "order": null,
            "overflow": null,
            "overflow_x": null,
            "overflow_y": null,
            "padding": null,
            "right": null,
            "top": null,
            "visibility": null,
            "width": null
          }
        },
        "c9a5ba36ebef45129e2c4ce940f81f8e": {
          "model_module": "@jupyter-widgets/base",
          "model_name": "LayoutModel",
          "model_module_version": "1.2.0",
          "state": {
            "_model_module": "@jupyter-widgets/base",
            "_model_module_version": "1.2.0",
            "_model_name": "LayoutModel",
            "_view_count": null,
            "_view_module": "@jupyter-widgets/base",
            "_view_module_version": "1.2.0",
            "_view_name": "LayoutView",
            "align_content": null,
            "align_items": null,
            "align_self": null,
            "border": null,
            "bottom": null,
            "display": null,
            "flex": null,
            "flex_flow": null,
            "grid_area": null,
            "grid_auto_columns": null,
            "grid_auto_flow": null,
            "grid_auto_rows": null,
            "grid_column": null,
            "grid_gap": null,
            "grid_row": null,
            "grid_template_areas": null,
            "grid_template_columns": null,
            "grid_template_rows": null,
            "height": null,
            "justify_content": null,
            "justify_items": null,
            "left": null,
            "margin": null,
            "max_height": null,
            "max_width": null,
            "min_height": null,
            "min_width": null,
            "object_fit": null,
            "object_position": null,
            "order": null,
            "overflow": null,
            "overflow_x": null,
            "overflow_y": null,
            "padding": null,
            "right": null,
            "top": null,
            "visibility": null,
            "width": null
          }
        },
        "2067aa7188ec46e2a79c785ac63cd872": {
          "model_module": "@jupyter-widgets/controls",
          "model_name": "ProgressStyleModel",
          "model_module_version": "1.5.0",
          "state": {
            "_model_module": "@jupyter-widgets/controls",
            "_model_module_version": "1.5.0",
            "_model_name": "ProgressStyleModel",
            "_view_count": null,
            "_view_module": "@jupyter-widgets/base",
            "_view_module_version": "1.2.0",
            "_view_name": "StyleView",
            "bar_color": null,
            "description_width": ""
          }
        },
        "4d120a24cfcc482290fdb8ec7340e54b": {
          "model_module": "@jupyter-widgets/base",
          "model_name": "LayoutModel",
          "model_module_version": "1.2.0",
          "state": {
            "_model_module": "@jupyter-widgets/base",
            "_model_module_version": "1.2.0",
            "_model_name": "LayoutModel",
            "_view_count": null,
            "_view_module": "@jupyter-widgets/base",
            "_view_module_version": "1.2.0",
            "_view_name": "LayoutView",
            "align_content": null,
            "align_items": null,
            "align_self": null,
            "border": null,
            "bottom": null,
            "display": null,
            "flex": null,
            "flex_flow": null,
            "grid_area": null,
            "grid_auto_columns": null,
            "grid_auto_flow": null,
            "grid_auto_rows": null,
            "grid_column": null,
            "grid_gap": null,
            "grid_row": null,
            "grid_template_areas": null,
            "grid_template_columns": null,
            "grid_template_rows": null,
            "height": null,
            "justify_content": null,
            "justify_items": null,
            "left": null,
            "margin": null,
            "max_height": null,
            "max_width": null,
            "min_height": null,
            "min_width": null,
            "object_fit": null,
            "object_position": null,
            "order": null,
            "overflow": null,
            "overflow_x": null,
            "overflow_y": null,
            "padding": null,
            "right": null,
            "top": null,
            "visibility": null,
            "width": null
          }
        }
      }
    }
  },
  "cells": [
    {
      "cell_type": "markdown",
      "metadata": {
        "id": "view-in-github",
        "colab_type": "text"
      },
      "source": [
        "<a href=\"https://colab.research.google.com/github/quillaur/data_learning/blob/main/data_science/computer_vision/object_detection/object_detction_using_image_AI.ipynb\" target=\"_parent\"><img src=\"https://colab.research.google.com/assets/colab-badge.svg\" alt=\"Open In Colab\"/></a>"
      ]
    },
    {
      "cell_type": "markdown",
      "source": [
        "# Introduction"
      ],
      "metadata": {
        "id": "lUR1mUjqd4Lc"
      }
    },
    {
      "cell_type": "markdown",
      "source": [
        "## Dataset creation\n",
        "\n",
        "I am gonna use the jupyter-bbox-widget librairy to annotate images.\n",
        "\n",
        "* [Documentation](https://github.com/gereleth/jupyter-bbox-widget)\n",
        "* [Usage exemple](https://github.com/gereleth/jupyter-bbox-widget/blob/main/examples/introduction.ipynb)"
      ],
      "metadata": {
        "id": "g1lwX9kTecTB"
      }
    },
    {
      "cell_type": "code",
      "source": [
        "!pip install jupyter_bbox_widget"
      ],
      "metadata": {
        "id": "wv4Qrf1ihWKt",
        "colab": {
          "base_uri": "https://localhost:8080/"
        },
        "outputId": "55ca80e2-6344-42b6-9ee2-49594b382f64"
      },
      "execution_count": null,
      "outputs": [
        {
          "output_type": "stream",
          "name": "stdout",
          "text": [
            "Looking in indexes: https://pypi.org/simple, https://us-python.pkg.dev/colab-wheels/public/simple/\n",
            "Requirement already satisfied: jupyter_bbox_widget in /usr/local/lib/python3.8/dist-packages (0.5.0)\n",
            "Requirement already satisfied: ipywidgets>=7.0.0 in /usr/local/lib/python3.8/dist-packages (from jupyter_bbox_widget) (7.7.1)\n",
            "Requirement already satisfied: jupyterlab-widgets>=1.0.0 in /usr/local/lib/python3.8/dist-packages (from ipywidgets>=7.0.0->jupyter_bbox_widget) (3.0.5)\n",
            "Requirement already satisfied: ipython-genutils~=0.2.0 in /usr/local/lib/python3.8/dist-packages (from ipywidgets>=7.0.0->jupyter_bbox_widget) (0.2.0)\n",
            "Requirement already satisfied: traitlets>=4.3.1 in /usr/local/lib/python3.8/dist-packages (from ipywidgets>=7.0.0->jupyter_bbox_widget) (5.7.1)\n",
            "Requirement already satisfied: widgetsnbextension~=3.6.0 in /usr/local/lib/python3.8/dist-packages (from ipywidgets>=7.0.0->jupyter_bbox_widget) (3.6.1)\n",
            "Requirement already satisfied: ipykernel>=4.5.1 in /usr/local/lib/python3.8/dist-packages (from ipywidgets>=7.0.0->jupyter_bbox_widget) (5.3.4)\n",
            "Requirement already satisfied: ipython>=4.0.0 in /usr/local/lib/python3.8/dist-packages (from ipywidgets>=7.0.0->jupyter_bbox_widget) (7.9.0)\n",
            "Requirement already satisfied: tornado>=4.2 in /usr/local/lib/python3.8/dist-packages (from ipykernel>=4.5.1->ipywidgets>=7.0.0->jupyter_bbox_widget) (6.0.4)\n",
            "Requirement already satisfied: jupyter-client in /usr/local/lib/python3.8/dist-packages (from ipykernel>=4.5.1->ipywidgets>=7.0.0->jupyter_bbox_widget) (6.1.12)\n",
            "Requirement already satisfied: setuptools>=18.5 in /usr/local/lib/python3.8/dist-packages (from ipython>=4.0.0->ipywidgets>=7.0.0->jupyter_bbox_widget) (57.4.0)\n",
            "Requirement already satisfied: decorator in /usr/local/lib/python3.8/dist-packages (from ipython>=4.0.0->ipywidgets>=7.0.0->jupyter_bbox_widget) (4.4.2)\n",
            "Requirement already satisfied: pickleshare in /usr/local/lib/python3.8/dist-packages (from ipython>=4.0.0->ipywidgets>=7.0.0->jupyter_bbox_widget) (0.7.5)\n",
            "Requirement already satisfied: pexpect in /usr/local/lib/python3.8/dist-packages (from ipython>=4.0.0->ipywidgets>=7.0.0->jupyter_bbox_widget) (4.8.0)\n",
            "Requirement already satisfied: prompt-toolkit<2.1.0,>=2.0.0 in /usr/local/lib/python3.8/dist-packages (from ipython>=4.0.0->ipywidgets>=7.0.0->jupyter_bbox_widget) (2.0.10)\n",
            "Requirement already satisfied: backcall in /usr/local/lib/python3.8/dist-packages (from ipython>=4.0.0->ipywidgets>=7.0.0->jupyter_bbox_widget) (0.2.0)\n",
            "Requirement already satisfied: jedi>=0.10 in /usr/local/lib/python3.8/dist-packages (from ipython>=4.0.0->ipywidgets>=7.0.0->jupyter_bbox_widget) (0.18.2)\n",
            "Requirement already satisfied: pygments in /usr/local/lib/python3.8/dist-packages (from ipython>=4.0.0->ipywidgets>=7.0.0->jupyter_bbox_widget) (2.6.1)\n",
            "Requirement already satisfied: notebook>=4.4.1 in /usr/local/lib/python3.8/dist-packages (from widgetsnbextension~=3.6.0->ipywidgets>=7.0.0->jupyter_bbox_widget) (5.7.16)\n",
            "Requirement already satisfied: parso<0.9.0,>=0.8.0 in /usr/local/lib/python3.8/dist-packages (from jedi>=0.10->ipython>=4.0.0->ipywidgets>=7.0.0->jupyter_bbox_widget) (0.8.3)\n",
            "Requirement already satisfied: jupyter-core>=4.4.0 in /usr/local/lib/python3.8/dist-packages (from notebook>=4.4.1->widgetsnbextension~=3.6.0->ipywidgets>=7.0.0->jupyter_bbox_widget) (5.1.1)\n",
            "Requirement already satisfied: nbformat in /usr/local/lib/python3.8/dist-packages (from notebook>=4.4.1->widgetsnbextension~=3.6.0->ipywidgets>=7.0.0->jupyter_bbox_widget) (5.7.1)\n",
            "Requirement already satisfied: prometheus-client in /usr/local/lib/python3.8/dist-packages (from notebook>=4.4.1->widgetsnbextension~=3.6.0->ipywidgets>=7.0.0->jupyter_bbox_widget) (0.15.0)\n",
            "Requirement already satisfied: nbconvert<6.0 in /usr/local/lib/python3.8/dist-packages (from notebook>=4.4.1->widgetsnbextension~=3.6.0->ipywidgets>=7.0.0->jupyter_bbox_widget) (5.6.1)\n",
            "Requirement already satisfied: Send2Trash in /usr/local/lib/python3.8/dist-packages (from notebook>=4.4.1->widgetsnbextension~=3.6.0->ipywidgets>=7.0.0->jupyter_bbox_widget) (1.8.0)\n",
            "Requirement already satisfied: jinja2<=3.0.0 in /usr/local/lib/python3.8/dist-packages (from notebook>=4.4.1->widgetsnbextension~=3.6.0->ipywidgets>=7.0.0->jupyter_bbox_widget) (2.11.3)\n",
            "Requirement already satisfied: pyzmq>=17 in /usr/local/lib/python3.8/dist-packages (from notebook>=4.4.1->widgetsnbextension~=3.6.0->ipywidgets>=7.0.0->jupyter_bbox_widget) (23.2.1)\n",
            "Requirement already satisfied: terminado>=0.8.1 in /usr/local/lib/python3.8/dist-packages (from notebook>=4.4.1->widgetsnbextension~=3.6.0->ipywidgets>=7.0.0->jupyter_bbox_widget) (0.13.3)\n",
            "Requirement already satisfied: python-dateutil>=2.1 in /usr/local/lib/python3.8/dist-packages (from jupyter-client->ipykernel>=4.5.1->ipywidgets>=7.0.0->jupyter_bbox_widget) (2.8.2)\n",
            "Requirement already satisfied: six>=1.9.0 in /usr/local/lib/python3.8/dist-packages (from prompt-toolkit<2.1.0,>=2.0.0->ipython>=4.0.0->ipywidgets>=7.0.0->jupyter_bbox_widget) (1.15.0)\n",
            "Requirement already satisfied: wcwidth in /usr/local/lib/python3.8/dist-packages (from prompt-toolkit<2.1.0,>=2.0.0->ipython>=4.0.0->ipywidgets>=7.0.0->jupyter_bbox_widget) (0.2.5)\n",
            "Requirement already satisfied: ptyprocess>=0.5 in /usr/local/lib/python3.8/dist-packages (from pexpect->ipython>=4.0.0->ipywidgets>=7.0.0->jupyter_bbox_widget) (0.7.0)\n",
            "Requirement already satisfied: MarkupSafe>=0.23 in /usr/local/lib/python3.8/dist-packages (from jinja2<=3.0.0->notebook>=4.4.1->widgetsnbextension~=3.6.0->ipywidgets>=7.0.0->jupyter_bbox_widget) (2.0.1)\n",
            "Requirement already satisfied: platformdirs>=2.5 in /usr/local/lib/python3.8/dist-packages (from jupyter-core>=4.4.0->notebook>=4.4.1->widgetsnbextension~=3.6.0->ipywidgets>=7.0.0->jupyter_bbox_widget) (2.6.0)\n",
            "Requirement already satisfied: defusedxml in /usr/local/lib/python3.8/dist-packages (from nbconvert<6.0->notebook>=4.4.1->widgetsnbextension~=3.6.0->ipywidgets>=7.0.0->jupyter_bbox_widget) (0.7.1)\n",
            "Requirement already satisfied: entrypoints>=0.2.2 in /usr/local/lib/python3.8/dist-packages (from nbconvert<6.0->notebook>=4.4.1->widgetsnbextension~=3.6.0->ipywidgets>=7.0.0->jupyter_bbox_widget) (0.4)\n",
            "Requirement already satisfied: mistune<2,>=0.8.1 in /usr/local/lib/python3.8/dist-packages (from nbconvert<6.0->notebook>=4.4.1->widgetsnbextension~=3.6.0->ipywidgets>=7.0.0->jupyter_bbox_widget) (0.8.4)\n",
            "Requirement already satisfied: testpath in /usr/local/lib/python3.8/dist-packages (from nbconvert<6.0->notebook>=4.4.1->widgetsnbextension~=3.6.0->ipywidgets>=7.0.0->jupyter_bbox_widget) (0.6.0)\n",
            "Requirement already satisfied: bleach in /usr/local/lib/python3.8/dist-packages (from nbconvert<6.0->notebook>=4.4.1->widgetsnbextension~=3.6.0->ipywidgets>=7.0.0->jupyter_bbox_widget) (5.0.1)\n",
            "Requirement already satisfied: pandocfilters>=1.4.1 in /usr/local/lib/python3.8/dist-packages (from nbconvert<6.0->notebook>=4.4.1->widgetsnbextension~=3.6.0->ipywidgets>=7.0.0->jupyter_bbox_widget) (1.5.0)\n",
            "Requirement already satisfied: jsonschema>=2.6 in /usr/local/lib/python3.8/dist-packages (from nbformat->notebook>=4.4.1->widgetsnbextension~=3.6.0->ipywidgets>=7.0.0->jupyter_bbox_widget) (4.3.3)\n",
            "Requirement already satisfied: fastjsonschema in /usr/local/lib/python3.8/dist-packages (from nbformat->notebook>=4.4.1->widgetsnbextension~=3.6.0->ipywidgets>=7.0.0->jupyter_bbox_widget) (2.16.2)\n",
            "Requirement already satisfied: pyrsistent!=0.17.0,!=0.17.1,!=0.17.2,>=0.14.0 in /usr/local/lib/python3.8/dist-packages (from jsonschema>=2.6->nbformat->notebook>=4.4.1->widgetsnbextension~=3.6.0->ipywidgets>=7.0.0->jupyter_bbox_widget) (0.19.2)\n",
            "Requirement already satisfied: importlib-resources>=1.4.0 in /usr/local/lib/python3.8/dist-packages (from jsonschema>=2.6->nbformat->notebook>=4.4.1->widgetsnbextension~=3.6.0->ipywidgets>=7.0.0->jupyter_bbox_widget) (5.10.1)\n",
            "Requirement already satisfied: attrs>=17.4.0 in /usr/local/lib/python3.8/dist-packages (from jsonschema>=2.6->nbformat->notebook>=4.4.1->widgetsnbextension~=3.6.0->ipywidgets>=7.0.0->jupyter_bbox_widget) (22.2.0)\n",
            "Requirement already satisfied: webencodings in /usr/local/lib/python3.8/dist-packages (from bleach->nbconvert<6.0->notebook>=4.4.1->widgetsnbextension~=3.6.0->ipywidgets>=7.0.0->jupyter_bbox_widget) (0.5.1)\n",
            "Requirement already satisfied: zipp>=3.1.0 in /usr/local/lib/python3.8/dist-packages (from importlib-resources>=1.4.0->jsonschema>=2.6->nbformat->notebook>=4.4.1->widgetsnbextension~=3.6.0->ipywidgets>=7.0.0->jupyter_bbox_widget) (3.11.0)\n"
          ]
        }
      ]
    },
    {
      "cell_type": "code",
      "source": [
        "from jupyter_bbox_widget import BBoxWidget\n",
        "import ipywidgets as widgets\n",
        "import json\n",
        "import os\n",
        "import numpy as np\n",
        "\n",
        "from google.colab import output\n",
        "output.enable_custom_widget_manager()\n",
        "\n",
        "# Known issue with BBoxWidget => https://github.com/gereleth/jupyter-bbox-widget/issues/10\n",
        "import base64\n",
        "def encode_image(filepath):\n",
        "    with open(filepath, 'rb') as f:\n",
        "        image_bytes = f.read()\n",
        "    encoded = str(base64.b64encode(image_bytes), 'utf-8')\n",
        "    return \"data:image/jpg;base64,\"+encoded"
      ],
      "metadata": {
        "id": "htoCB1DmqSxo"
      },
      "execution_count": 3,
      "outputs": []
    },
    {
      "cell_type": "code",
      "source": [
        "files = [\"/content/ele_4.jpeg\", \"/content/ele_5.jpeg\"]\n",
        "\n",
        "annotations = {}\n",
        "annotations_path = 'annotations.json'"
      ],
      "metadata": {
        "id": "spr3AaxXsmJE"
      },
      "execution_count": 4,
      "outputs": []
    },
    {
      "cell_type": "code",
      "source": [
        "# a progress bar to show how far we got\n",
        "w_progress = widgets.IntProgress(value=0, max=len(files), description='Progress')\n",
        "# the bbox widget\n",
        "w_bbox = BBoxWidget(\n",
        "    image = encode_image(files[0]),\n",
        "    classes=[\"Elephant\"]\n",
        ")\n",
        "\n",
        "# combine widgets into a container\n",
        "w_container = widgets.VBox([\n",
        "    w_progress,\n",
        "    w_bbox,\n",
        "])"
      ],
      "metadata": {
        "id": "9Asy7_LcqYOQ"
      },
      "execution_count": null,
      "outputs": []
    },
    {
      "cell_type": "code",
      "source": [
        "# when Skip button is pressed we move on to the next file\n",
        "@w_bbox.on_skip\n",
        "def skip():\n",
        "  w_progress.value += 1\n",
        "  if w_progress.value < w_progress.max:\n",
        "    # open new image in the widget\n",
        "    image_file = files[w_progress.value]\n",
        "    w_bbox.image = encode_image(image_file)\n",
        "    # here we assign an empty list to bboxes but \n",
        "    # we could also run a detection model on the file\n",
        "    # and use its output for creating inital bboxes\n",
        "    w_bbox.bboxes = [] \n",
        "\n",
        "# when Submit button is pressed we save current annotations\n",
        "# and then move on to the next file\n",
        "@w_bbox.on_submit\n",
        "def submit():\n",
        "    image_file = files[w_progress.value]\n",
        "    # save annotations for current image\n",
        "    annotations[image_file] = w_bbox.bboxes\n",
        "    with open(annotations_path, 'w') as f:\n",
        "        json.dump(annotations, f, indent=4)\n",
        "    # move on to the next file\n",
        "    skip()"
      ],
      "metadata": {
        "id": "MhUcA326uYhJ"
      },
      "execution_count": null,
      "outputs": []
    },
    {
      "cell_type": "code",
      "source": [
        "w_container"
      ],
      "metadata": {
        "colab": {
          "base_uri": "https://localhost:8080/",
          "height": 355,
          "referenced_widgets": [
            "987dec673ead488d9f02b55ff77836a3",
            "7a51095b9c374d6ba7cefa9b47ff149f",
            "9a849406d5584a7b9d0c001924557a30",
            "2a6ef7dadeb741a4aac954f389cf6a1a",
            "c9a5ba36ebef45129e2c4ce940f81f8e",
            "2067aa7188ec46e2a79c785ac63cd872",
            "4d120a24cfcc482290fdb8ec7340e54b"
          ]
        },
        "id": "b3VuZcnHuzcI",
        "outputId": "602dc8ad-7a4a-4e3b-bc66-10f03b8827ac"
      },
      "execution_count": null,
      "outputs": [
        {
          "output_type": "display_data",
          "data": {
            "text/plain": [
              "VBox(children=(IntProgress(value=0, description='Progress', max=2), BBoxWidget(classes=['Elephant'], colors=['…"
            ],
            "application/vnd.jupyter.widget-view+json": {
              "version_major": 2,
              "version_minor": 0,
              "model_id": "987dec673ead488d9f02b55ff77836a3"
            }
          },
          "metadata": {
            "application/vnd.jupyter.widget-view+json": {
              "colab": {
                "custom_widget_manager": {
                  "url": "https://ssl.gstatic.com/colaboratory-static/widgets/colab-cdn-widget-manager/b3e629b1971e1542/manager.min.js"
                }
              }
            }
          }
        }
      ]
    },
    {
      "cell_type": "markdown",
      "source": [
        "## Modelisation using image AI\n",
        "\n",
        "https://github.com/OlafenwaMoses/ImageAI/tree/master/imageai/Detection"
      ],
      "metadata": {
        "id": "2Ui3chT0p3-n"
      }
    },
    {
      "cell_type": "code",
      "source": [
        "! pip install imageai"
      ],
      "metadata": {
        "colab": {
          "base_uri": "https://localhost:8080/"
        },
        "id": "22Nevbgnp6dp",
        "outputId": "1aa4aee8-ef3f-4d22-e5cc-680b6062096d"
      },
      "execution_count": null,
      "outputs": [
        {
          "output_type": "stream",
          "name": "stdout",
          "text": [
            "Looking in indexes: https://pypi.org/simple, https://us-python.pkg.dev/colab-wheels/public/simple/\n",
            "Requirement already satisfied: imageai in /usr/local/lib/python3.8/dist-packages (3.0.3)\n"
          ]
        }
      ]
    },
    {
      "cell_type": "code",
      "source": [
        "from imageai.Detection import ObjectDetection\n",
        "import requests"
      ],
      "metadata": {
        "id": "tdYlZCtyp8ZK"
      },
      "execution_count": 5,
      "outputs": []
    },
    {
      "cell_type": "code",
      "source": [
        "url = 'https://github.com/OlafenwaMoses/ImageAI/releases/download/3.0.0-pretrained/tiny-yolov3.pt'\n",
        "r = requests.get(url, allow_redirects=True)\n",
        "model_filename = \"/content/tiny-yolov3.pt\"\n",
        "# Save downloaded content to disk.\n",
        "open(model_filename, 'wb').write(r.content)"
      ],
      "metadata": {
        "colab": {
          "base_uri": "https://localhost:8080/"
        },
        "id": "DZZGychxpmOe",
        "outputId": "8a7bb376-05ce-40e6-8c03-dc1a33b45f97"
      },
      "execution_count": 6,
      "outputs": [
        {
          "output_type": "stream",
          "name": "stderr",
          "text": [
            "<ipython-input-6-0ff7d30dbf9c>:5: ResourceWarning: unclosed file <_io.BufferedWriter name='/content/tiny-yolov3.pt'>\n",
            "  open(model_filename, 'wb').write(r.content)\n",
            "ResourceWarning: Enable tracemalloc to get the object allocation traceback\n"
          ]
        },
        {
          "output_type": "execute_result",
          "data": {
            "text/plain": [
              "35457043"
            ]
          },
          "metadata": {},
          "execution_count": 6
        }
      ]
    },
    {
      "cell_type": "code",
      "source": [
        "detector = ObjectDetection()\n",
        "detector.setModelTypeAsTinyYOLOv3()\n",
        "detector.setModelPath(model_filename)\n",
        "detector.loadModel()"
      ],
      "metadata": {
        "id": "rZrc2YVJp-rH"
      },
      "execution_count": 7,
      "outputs": []
    },
    {
      "cell_type": "code",
      "source": [
        "input_img = \"/content/ele_4.jpeg\"\n",
        "out_img = \"/content/ele_4_out.jpeg\"\n",
        "detections = detector.detectObjectsFromImage(input_image=input_img, output_image_path=out_img, minimum_percentage_probability=30)"
      ],
      "metadata": {
        "id": "ATK58J4iqAdH"
      },
      "execution_count": null,
      "outputs": []
    },
    {
      "cell_type": "code",
      "source": [
        "for eachObject in detections:\n",
        "    print(eachObject[\"name\"] , \" : \", eachObject[\"percentage_probability\"], \" : \", eachObject[\"box_points\"] )\n",
        "    print(\"--------------------------------\")"
      ],
      "metadata": {
        "id": "n3Pc1P_oqGCa",
        "colab": {
          "base_uri": "https://localhost:8080/"
        },
        "outputId": "d3eee29c-cd15-4c3a-d17d-4d1f50e9ac2f"
      },
      "execution_count": null,
      "outputs": [
        {
          "output_type": "stream",
          "name": "stdout",
          "text": [
            "elephant  :  99.75  :  [48, 8, 231, 179]\n",
            "--------------------------------\n"
          ]
        }
      ]
    },
    {
      "cell_type": "markdown",
      "source": [
        "## Performance evaluation\n",
        "\n",
        "https://pypi.org/project/mean-average-precision/"
      ],
      "metadata": {
        "id": "WKUA4FD5v_2k"
      }
    },
    {
      "cell_type": "code",
      "source": [
        "!pip install mean_average_precision"
      ],
      "metadata": {
        "colab": {
          "base_uri": "https://localhost:8080/"
        },
        "id": "nmsZvk-0wBTV",
        "outputId": "5c4ed438-d34b-4560-8038-96cfccaa2714"
      },
      "execution_count": null,
      "outputs": [
        {
          "output_type": "stream",
          "name": "stdout",
          "text": [
            "Looking in indexes: https://pypi.org/simple, https://us-python.pkg.dev/colab-wheels/public/simple/\n",
            "Requirement already satisfied: mean_average_precision in /usr/local/lib/python3.8/dist-packages (2021.4.26.0)\n",
            "Requirement already satisfied: numpy in /usr/local/lib/python3.8/dist-packages (from mean_average_precision) (1.21.6)\n",
            "Requirement already satisfied: pandas in /usr/local/lib/python3.8/dist-packages (from mean_average_precision) (1.3.5)\n",
            "Requirement already satisfied: pytz>=2017.3 in /usr/local/lib/python3.8/dist-packages (from pandas->mean_average_precision) (2022.7)\n",
            "Requirement already satisfied: python-dateutil>=2.7.3 in /usr/local/lib/python3.8/dist-packages (from pandas->mean_average_precision) (2.8.2)\n",
            "Requirement already satisfied: six>=1.5 in /usr/local/lib/python3.8/dist-packages (from python-dateutil>=2.7.3->pandas->mean_average_precision) (1.15.0)\n"
          ]
        }
      ]
    },
    {
      "cell_type": "code",
      "source": [
        "from mean_average_precision import MetricBuilder"
      ],
      "metadata": {
        "id": "phRc3L1twh_S"
      },
      "execution_count": 1,
      "outputs": []
    },
    {
      "cell_type": "code",
      "source": [
        "with open(\"/content/annotations.json\", \"r\") as f:\n",
        "  annotated_marks = json.load(f)"
      ],
      "metadata": {
        "id": "XST3nZHAwksM"
      },
      "execution_count": 8,
      "outputs": []
    },
    {
      "cell_type": "code",
      "source": [
        "annotated_marks"
      ],
      "metadata": {
        "colab": {
          "base_uri": "https://localhost:8080/"
        },
        "id": "zxD3WE0WwnFT",
        "outputId": "dbc5856f-277d-4af0-9485-89e1e20906cd"
      },
      "execution_count": 23,
      "outputs": [
        {
          "output_type": "execute_result",
          "data": {
            "text/plain": [
              "{'/content/ele_4.jpeg': [{'x': 63,\n",
              "   'y': 13,\n",
              "   'width': 184,\n",
              "   'height': 161,\n",
              "   'label': 'Elephant'}],\n",
              " '/content/ele_5.jpeg': [{'x': 56,\n",
              "   'y': 10,\n",
              "   'width': 157,\n",
              "   'height': 182,\n",
              "   'label': 'Elephant'}]}"
            ]
          },
          "metadata": {},
          "execution_count": 23
        }
      ]
    },
    {
      "cell_type": "code",
      "source": [
        "metric_fn = MetricBuilder.build_evaluation_metric(\"map_2d\", num_classes=1)\n",
        "\n",
        "for f_p in files:\n",
        "\n",
        "  # The ground truth\n",
        "  gt = []\n",
        "  for box in annotated_marks[f_p]:\n",
        "    t = [box[\"x\"], box[\"y\"], box[\"width\"], box[\"height\"]]\n",
        "    # The class is necessary an elephant here.\n",
        "    t.append(0)\n",
        "    # This list must have 7 elems according to the doc.\n",
        "    t.extend([0,0])\n",
        "    gt.append(t)\n",
        "\n",
        "  # The preds\n",
        "  detections = detector.detectObjectsFromImage(input_image=f_p, minimum_percentage_probability=30)\n",
        "  preds = []\n",
        "  for eachObject in detections:\n",
        "    p = eachObject[\"box_points\"]\n",
        "    p.extend([0, eachObject[\"percentage_probability\"]])\n",
        "    preds.append(p)\n",
        "\n",
        "  metric_fn.add(np.array(preds), np.array(gt))"
      ],
      "metadata": {
        "id": "ybl8bj8-w-Pl"
      },
      "execution_count": 34,
      "outputs": []
    },
    {
      "cell_type": "code",
      "source": [
        "print(f\"VOC PASCAL mAP in all points: {metric_fn.value(iou_thresholds=0.5)['mAP']}\")"
      ],
      "metadata": {
        "colab": {
          "base_uri": "https://localhost:8080/"
        },
        "id": "g9iHTP8d1NCY",
        "outputId": "843a6bb3-7230-417c-fd43-537580d2a1e9"
      },
      "execution_count": 35,
      "outputs": [
        {
          "output_type": "stream",
          "name": "stdout",
          "text": [
            "VOC PASCAL mAP in all points: 1.0\n"
          ]
        }
      ]
    },
    {
      "cell_type": "code",
      "source": [],
      "metadata": {
        "id": "Wk8TCPcy1tgI"
      },
      "execution_count": null,
      "outputs": []
    }
  ]
}