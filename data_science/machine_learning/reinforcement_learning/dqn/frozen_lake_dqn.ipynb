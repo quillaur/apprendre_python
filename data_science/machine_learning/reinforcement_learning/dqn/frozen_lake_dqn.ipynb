{
  "nbformat": 4,
  "nbformat_minor": 0,
  "metadata": {
    "colab": {
      "provenance": [],
      "authorship_tag": "ABX9TyNicqVTuB5HonPMgKwQyA+d",
      "include_colab_link": true
    },
    "kernelspec": {
      "name": "python3",
      "display_name": "Python 3"
    },
    "language_info": {
      "name": "python"
    },
    "widgets": {
      "application/vnd.jupyter.widget-state+json": {
        "658138f6004a44a8a12718fe95b7ebda": {
          "model_module": "@jupyter-widgets/controls",
          "model_name": "HBoxModel",
          "model_module_version": "1.5.0",
          "state": {
            "_dom_classes": [],
            "_model_module": "@jupyter-widgets/controls",
            "_model_module_version": "1.5.0",
            "_model_name": "HBoxModel",
            "_view_count": null,
            "_view_module": "@jupyter-widgets/controls",
            "_view_module_version": "1.5.0",
            "_view_name": "HBoxView",
            "box_style": "",
            "children": [
              "IPY_MODEL_a92355cbef4846d2bc9adf1fab23e579",
              "IPY_MODEL_a8ccd9414ff64dca95be963535013512",
              "IPY_MODEL_76ae3be14b5a432e93e6a041b098e1ca"
            ],
            "layout": "IPY_MODEL_9a648e3a1175494b8ae5525c9a8be238"
          }
        },
        "a92355cbef4846d2bc9adf1fab23e579": {
          "model_module": "@jupyter-widgets/controls",
          "model_name": "HTMLModel",
          "model_module_version": "1.5.0",
          "state": {
            "_dom_classes": [],
            "_model_module": "@jupyter-widgets/controls",
            "_model_module_version": "1.5.0",
            "_model_name": "HTMLModel",
            "_view_count": null,
            "_view_module": "@jupyter-widgets/controls",
            "_view_module_version": "1.5.0",
            "_view_name": "HTMLView",
            "description": "",
            "description_tooltip": null,
            "layout": "IPY_MODEL_3fe0217f28d946169c41e33fb4db756c",
            "placeholder": "​",
            "style": "IPY_MODEL_f9d9e50e62db44238a5e0d384ec45819",
            "value": "100%"
          }
        },
        "a8ccd9414ff64dca95be963535013512": {
          "model_module": "@jupyter-widgets/controls",
          "model_name": "FloatProgressModel",
          "model_module_version": "1.5.0",
          "state": {
            "_dom_classes": [],
            "_model_module": "@jupyter-widgets/controls",
            "_model_module_version": "1.5.0",
            "_model_name": "FloatProgressModel",
            "_view_count": null,
            "_view_module": "@jupyter-widgets/controls",
            "_view_module_version": "1.5.0",
            "_view_name": "ProgressView",
            "bar_style": "success",
            "description": "",
            "description_tooltip": null,
            "layout": "IPY_MODEL_2781cd5c7f354e9897ceaed7529f1a81",
            "max": 2000,
            "min": 0,
            "orientation": "horizontal",
            "style": "IPY_MODEL_fae9f317847c441a82c17027e3bec09b",
            "value": 2000
          }
        },
        "76ae3be14b5a432e93e6a041b098e1ca": {
          "model_module": "@jupyter-widgets/controls",
          "model_name": "HTMLModel",
          "model_module_version": "1.5.0",
          "state": {
            "_dom_classes": [],
            "_model_module": "@jupyter-widgets/controls",
            "_model_module_version": "1.5.0",
            "_model_name": "HTMLModel",
            "_view_count": null,
            "_view_module": "@jupyter-widgets/controls",
            "_view_module_version": "1.5.0",
            "_view_name": "HTMLView",
            "description": "",
            "description_tooltip": null,
            "layout": "IPY_MODEL_aa763024deba48e0b247b1198ec7bfef",
            "placeholder": "​",
            "style": "IPY_MODEL_7bbc0661f8a74510b21f3dc383af6190",
            "value": " 2000/2000 [02:10&lt;00:00, 14.85it/s]"
          }
        },
        "9a648e3a1175494b8ae5525c9a8be238": {
          "model_module": "@jupyter-widgets/base",
          "model_name": "LayoutModel",
          "model_module_version": "1.2.0",
          "state": {
            "_model_module": "@jupyter-widgets/base",
            "_model_module_version": "1.2.0",
            "_model_name": "LayoutModel",
            "_view_count": null,
            "_view_module": "@jupyter-widgets/base",
            "_view_module_version": "1.2.0",
            "_view_name": "LayoutView",
            "align_content": null,
            "align_items": null,
            "align_self": null,
            "border": null,
            "bottom": null,
            "display": null,
            "flex": null,
            "flex_flow": null,
            "grid_area": null,
            "grid_auto_columns": null,
            "grid_auto_flow": null,
            "grid_auto_rows": null,
            "grid_column": null,
            "grid_gap": null,
            "grid_row": null,
            "grid_template_areas": null,
            "grid_template_columns": null,
            "grid_template_rows": null,
            "height": null,
            "justify_content": null,
            "justify_items": null,
            "left": null,
            "margin": null,
            "max_height": null,
            "max_width": null,
            "min_height": null,
            "min_width": null,
            "object_fit": null,
            "object_position": null,
            "order": null,
            "overflow": null,
            "overflow_x": null,
            "overflow_y": null,
            "padding": null,
            "right": null,
            "top": null,
            "visibility": null,
            "width": null
          }
        },
        "3fe0217f28d946169c41e33fb4db756c": {
          "model_module": "@jupyter-widgets/base",
          "model_name": "LayoutModel",
          "model_module_version": "1.2.0",
          "state": {
            "_model_module": "@jupyter-widgets/base",
            "_model_module_version": "1.2.0",
            "_model_name": "LayoutModel",
            "_view_count": null,
            "_view_module": "@jupyter-widgets/base",
            "_view_module_version": "1.2.0",
            "_view_name": "LayoutView",
            "align_content": null,
            "align_items": null,
            "align_self": null,
            "border": null,
            "bottom": null,
            "display": null,
            "flex": null,
            "flex_flow": null,
            "grid_area": null,
            "grid_auto_columns": null,
            "grid_auto_flow": null,
            "grid_auto_rows": null,
            "grid_column": null,
            "grid_gap": null,
            "grid_row": null,
            "grid_template_areas": null,
            "grid_template_columns": null,
            "grid_template_rows": null,
            "height": null,
            "justify_content": null,
            "justify_items": null,
            "left": null,
            "margin": null,
            "max_height": null,
            "max_width": null,
            "min_height": null,
            "min_width": null,
            "object_fit": null,
            "object_position": null,
            "order": null,
            "overflow": null,
            "overflow_x": null,
            "overflow_y": null,
            "padding": null,
            "right": null,
            "top": null,
            "visibility": null,
            "width": null
          }
        },
        "f9d9e50e62db44238a5e0d384ec45819": {
          "model_module": "@jupyter-widgets/controls",
          "model_name": "DescriptionStyleModel",
          "model_module_version": "1.5.0",
          "state": {
            "_model_module": "@jupyter-widgets/controls",
            "_model_module_version": "1.5.0",
            "_model_name": "DescriptionStyleModel",
            "_view_count": null,
            "_view_module": "@jupyter-widgets/base",
            "_view_module_version": "1.2.0",
            "_view_name": "StyleView",
            "description_width": ""
          }
        },
        "2781cd5c7f354e9897ceaed7529f1a81": {
          "model_module": "@jupyter-widgets/base",
          "model_name": "LayoutModel",
          "model_module_version": "1.2.0",
          "state": {
            "_model_module": "@jupyter-widgets/base",
            "_model_module_version": "1.2.0",
            "_model_name": "LayoutModel",
            "_view_count": null,
            "_view_module": "@jupyter-widgets/base",
            "_view_module_version": "1.2.0",
            "_view_name": "LayoutView",
            "align_content": null,
            "align_items": null,
            "align_self": null,
            "border": null,
            "bottom": null,
            "display": null,
            "flex": null,
            "flex_flow": null,
            "grid_area": null,
            "grid_auto_columns": null,
            "grid_auto_flow": null,
            "grid_auto_rows": null,
            "grid_column": null,
            "grid_gap": null,
            "grid_row": null,
            "grid_template_areas": null,
            "grid_template_columns": null,
            "grid_template_rows": null,
            "height": null,
            "justify_content": null,
            "justify_items": null,
            "left": null,
            "margin": null,
            "max_height": null,
            "max_width": null,
            "min_height": null,
            "min_width": null,
            "object_fit": null,
            "object_position": null,
            "order": null,
            "overflow": null,
            "overflow_x": null,
            "overflow_y": null,
            "padding": null,
            "right": null,
            "top": null,
            "visibility": null,
            "width": null
          }
        },
        "fae9f317847c441a82c17027e3bec09b": {
          "model_module": "@jupyter-widgets/controls",
          "model_name": "ProgressStyleModel",
          "model_module_version": "1.5.0",
          "state": {
            "_model_module": "@jupyter-widgets/controls",
            "_model_module_version": "1.5.0",
            "_model_name": "ProgressStyleModel",
            "_view_count": null,
            "_view_module": "@jupyter-widgets/base",
            "_view_module_version": "1.2.0",
            "_view_name": "StyleView",
            "bar_color": null,
            "description_width": ""
          }
        },
        "aa763024deba48e0b247b1198ec7bfef": {
          "model_module": "@jupyter-widgets/base",
          "model_name": "LayoutModel",
          "model_module_version": "1.2.0",
          "state": {
            "_model_module": "@jupyter-widgets/base",
            "_model_module_version": "1.2.0",
            "_model_name": "LayoutModel",
            "_view_count": null,
            "_view_module": "@jupyter-widgets/base",
            "_view_module_version": "1.2.0",
            "_view_name": "LayoutView",
            "align_content": null,
            "align_items": null,
            "align_self": null,
            "border": null,
            "bottom": null,
            "display": null,
            "flex": null,
            "flex_flow": null,
            "grid_area": null,
            "grid_auto_columns": null,
            "grid_auto_flow": null,
            "grid_auto_rows": null,
            "grid_column": null,
            "grid_gap": null,
            "grid_row": null,
            "grid_template_areas": null,
            "grid_template_columns": null,
            "grid_template_rows": null,
            "height": null,
            "justify_content": null,
            "justify_items": null,
            "left": null,
            "margin": null,
            "max_height": null,
            "max_width": null,
            "min_height": null,
            "min_width": null,
            "object_fit": null,
            "object_position": null,
            "order": null,
            "overflow": null,
            "overflow_x": null,
            "overflow_y": null,
            "padding": null,
            "right": null,
            "top": null,
            "visibility": null,
            "width": null
          }
        },
        "7bbc0661f8a74510b21f3dc383af6190": {
          "model_module": "@jupyter-widgets/controls",
          "model_name": "DescriptionStyleModel",
          "model_module_version": "1.5.0",
          "state": {
            "_model_module": "@jupyter-widgets/controls",
            "_model_module_version": "1.5.0",
            "_model_name": "DescriptionStyleModel",
            "_view_count": null,
            "_view_module": "@jupyter-widgets/base",
            "_view_module_version": "1.2.0",
            "_view_name": "StyleView",
            "description_width": ""
          }
        },
        "a7caec5c72cf46319d89e03c751cd355": {
          "model_module": "@jupyter-widgets/controls",
          "model_name": "HBoxModel",
          "model_module_version": "1.5.0",
          "state": {
            "_dom_classes": [],
            "_model_module": "@jupyter-widgets/controls",
            "_model_module_version": "1.5.0",
            "_model_name": "HBoxModel",
            "_view_count": null,
            "_view_module": "@jupyter-widgets/controls",
            "_view_module_version": "1.5.0",
            "_view_name": "HBoxView",
            "box_style": "",
            "children": [
              "IPY_MODEL_7a2281174e6149bf8bdfb703ad6600ab",
              "IPY_MODEL_ad5b99b3645a46ba924f96914d7e8f64",
              "IPY_MODEL_fef31dedb87d455c90450b1dad736204"
            ],
            "layout": "IPY_MODEL_d950ea0efb9c4d2b997c54223393b603"
          }
        },
        "7a2281174e6149bf8bdfb703ad6600ab": {
          "model_module": "@jupyter-widgets/controls",
          "model_name": "HTMLModel",
          "model_module_version": "1.5.0",
          "state": {
            "_dom_classes": [],
            "_model_module": "@jupyter-widgets/controls",
            "_model_module_version": "1.5.0",
            "_model_name": "HTMLModel",
            "_view_count": null,
            "_view_module": "@jupyter-widgets/controls",
            "_view_module_version": "1.5.0",
            "_view_name": "HTMLView",
            "description": "",
            "description_tooltip": null,
            "layout": "IPY_MODEL_1327f2925e0d47639d9e812b0baa8eba",
            "placeholder": "​",
            "style": "IPY_MODEL_add93c3797904ab6b92e0158b31ad522",
            "value": "100%"
          }
        },
        "ad5b99b3645a46ba924f96914d7e8f64": {
          "model_module": "@jupyter-widgets/controls",
          "model_name": "FloatProgressModel",
          "model_module_version": "1.5.0",
          "state": {
            "_dom_classes": [],
            "_model_module": "@jupyter-widgets/controls",
            "_model_module_version": "1.5.0",
            "_model_name": "FloatProgressModel",
            "_view_count": null,
            "_view_module": "@jupyter-widgets/controls",
            "_view_module_version": "1.5.0",
            "_view_name": "ProgressView",
            "bar_style": "success",
            "description": "",
            "description_tooltip": null,
            "layout": "IPY_MODEL_f290ccc7fbac44ceb6eae8c240598441",
            "max": 2000,
            "min": 0,
            "orientation": "horizontal",
            "style": "IPY_MODEL_9d5dd1a43c7646499ec3a7691af5605c",
            "value": 2000
          }
        },
        "fef31dedb87d455c90450b1dad736204": {
          "model_module": "@jupyter-widgets/controls",
          "model_name": "HTMLModel",
          "model_module_version": "1.5.0",
          "state": {
            "_dom_classes": [],
            "_model_module": "@jupyter-widgets/controls",
            "_model_module_version": "1.5.0",
            "_model_name": "HTMLModel",
            "_view_count": null,
            "_view_module": "@jupyter-widgets/controls",
            "_view_module_version": "1.5.0",
            "_view_name": "HTMLView",
            "description": "",
            "description_tooltip": null,
            "layout": "IPY_MODEL_0666ff800cef4006a73c0eb8361937aa",
            "placeholder": "​",
            "style": "IPY_MODEL_c865767e0e364188a057f03b678a3b19",
            "value": " 2000/2000 [02:08&lt;00:00, 15.28it/s]"
          }
        },
        "d950ea0efb9c4d2b997c54223393b603": {
          "model_module": "@jupyter-widgets/base",
          "model_name": "LayoutModel",
          "model_module_version": "1.2.0",
          "state": {
            "_model_module": "@jupyter-widgets/base",
            "_model_module_version": "1.2.0",
            "_model_name": "LayoutModel",
            "_view_count": null,
            "_view_module": "@jupyter-widgets/base",
            "_view_module_version": "1.2.0",
            "_view_name": "LayoutView",
            "align_content": null,
            "align_items": null,
            "align_self": null,
            "border": null,
            "bottom": null,
            "display": null,
            "flex": null,
            "flex_flow": null,
            "grid_area": null,
            "grid_auto_columns": null,
            "grid_auto_flow": null,
            "grid_auto_rows": null,
            "grid_column": null,
            "grid_gap": null,
            "grid_row": null,
            "grid_template_areas": null,
            "grid_template_columns": null,
            "grid_template_rows": null,
            "height": null,
            "justify_content": null,
            "justify_items": null,
            "left": null,
            "margin": null,
            "max_height": null,
            "max_width": null,
            "min_height": null,
            "min_width": null,
            "object_fit": null,
            "object_position": null,
            "order": null,
            "overflow": null,
            "overflow_x": null,
            "overflow_y": null,
            "padding": null,
            "right": null,
            "top": null,
            "visibility": null,
            "width": null
          }
        },
        "1327f2925e0d47639d9e812b0baa8eba": {
          "model_module": "@jupyter-widgets/base",
          "model_name": "LayoutModel",
          "model_module_version": "1.2.0",
          "state": {
            "_model_module": "@jupyter-widgets/base",
            "_model_module_version": "1.2.0",
            "_model_name": "LayoutModel",
            "_view_count": null,
            "_view_module": "@jupyter-widgets/base",
            "_view_module_version": "1.2.0",
            "_view_name": "LayoutView",
            "align_content": null,
            "align_items": null,
            "align_self": null,
            "border": null,
            "bottom": null,
            "display": null,
            "flex": null,
            "flex_flow": null,
            "grid_area": null,
            "grid_auto_columns": null,
            "grid_auto_flow": null,
            "grid_auto_rows": null,
            "grid_column": null,
            "grid_gap": null,
            "grid_row": null,
            "grid_template_areas": null,
            "grid_template_columns": null,
            "grid_template_rows": null,
            "height": null,
            "justify_content": null,
            "justify_items": null,
            "left": null,
            "margin": null,
            "max_height": null,
            "max_width": null,
            "min_height": null,
            "min_width": null,
            "object_fit": null,
            "object_position": null,
            "order": null,
            "overflow": null,
            "overflow_x": null,
            "overflow_y": null,
            "padding": null,
            "right": null,
            "top": null,
            "visibility": null,
            "width": null
          }
        },
        "add93c3797904ab6b92e0158b31ad522": {
          "model_module": "@jupyter-widgets/controls",
          "model_name": "DescriptionStyleModel",
          "model_module_version": "1.5.0",
          "state": {
            "_model_module": "@jupyter-widgets/controls",
            "_model_module_version": "1.5.0",
            "_model_name": "DescriptionStyleModel",
            "_view_count": null,
            "_view_module": "@jupyter-widgets/base",
            "_view_module_version": "1.2.0",
            "_view_name": "StyleView",
            "description_width": ""
          }
        },
        "f290ccc7fbac44ceb6eae8c240598441": {
          "model_module": "@jupyter-widgets/base",
          "model_name": "LayoutModel",
          "model_module_version": "1.2.0",
          "state": {
            "_model_module": "@jupyter-widgets/base",
            "_model_module_version": "1.2.0",
            "_model_name": "LayoutModel",
            "_view_count": null,
            "_view_module": "@jupyter-widgets/base",
            "_view_module_version": "1.2.0",
            "_view_name": "LayoutView",
            "align_content": null,
            "align_items": null,
            "align_self": null,
            "border": null,
            "bottom": null,
            "display": null,
            "flex": null,
            "flex_flow": null,
            "grid_area": null,
            "grid_auto_columns": null,
            "grid_auto_flow": null,
            "grid_auto_rows": null,
            "grid_column": null,
            "grid_gap": null,
            "grid_row": null,
            "grid_template_areas": null,
            "grid_template_columns": null,
            "grid_template_rows": null,
            "height": null,
            "justify_content": null,
            "justify_items": null,
            "left": null,
            "margin": null,
            "max_height": null,
            "max_width": null,
            "min_height": null,
            "min_width": null,
            "object_fit": null,
            "object_position": null,
            "order": null,
            "overflow": null,
            "overflow_x": null,
            "overflow_y": null,
            "padding": null,
            "right": null,
            "top": null,
            "visibility": null,
            "width": null
          }
        },
        "9d5dd1a43c7646499ec3a7691af5605c": {
          "model_module": "@jupyter-widgets/controls",
          "model_name": "ProgressStyleModel",
          "model_module_version": "1.5.0",
          "state": {
            "_model_module": "@jupyter-widgets/controls",
            "_model_module_version": "1.5.0",
            "_model_name": "ProgressStyleModel",
            "_view_count": null,
            "_view_module": "@jupyter-widgets/base",
            "_view_module_version": "1.2.0",
            "_view_name": "StyleView",
            "bar_color": null,
            "description_width": ""
          }
        },
        "0666ff800cef4006a73c0eb8361937aa": {
          "model_module": "@jupyter-widgets/base",
          "model_name": "LayoutModel",
          "model_module_version": "1.2.0",
          "state": {
            "_model_module": "@jupyter-widgets/base",
            "_model_module_version": "1.2.0",
            "_model_name": "LayoutModel",
            "_view_count": null,
            "_view_module": "@jupyter-widgets/base",
            "_view_module_version": "1.2.0",
            "_view_name": "LayoutView",
            "align_content": null,
            "align_items": null,
            "align_self": null,
            "border": null,
            "bottom": null,
            "display": null,
            "flex": null,
            "flex_flow": null,
            "grid_area": null,
            "grid_auto_columns": null,
            "grid_auto_flow": null,
            "grid_auto_rows": null,
            "grid_column": null,
            "grid_gap": null,
            "grid_row": null,
            "grid_template_areas": null,
            "grid_template_columns": null,
            "grid_template_rows": null,
            "height": null,
            "justify_content": null,
            "justify_items": null,
            "left": null,
            "margin": null,
            "max_height": null,
            "max_width": null,
            "min_height": null,
            "min_width": null,
            "object_fit": null,
            "object_position": null,
            "order": null,
            "overflow": null,
            "overflow_x": null,
            "overflow_y": null,
            "padding": null,
            "right": null,
            "top": null,
            "visibility": null,
            "width": null
          }
        },
        "c865767e0e364188a057f03b678a3b19": {
          "model_module": "@jupyter-widgets/controls",
          "model_name": "DescriptionStyleModel",
          "model_module_version": "1.5.0",
          "state": {
            "_model_module": "@jupyter-widgets/controls",
            "_model_module_version": "1.5.0",
            "_model_name": "DescriptionStyleModel",
            "_view_count": null,
            "_view_module": "@jupyter-widgets/base",
            "_view_module_version": "1.2.0",
            "_view_name": "StyleView",
            "description_width": ""
          }
        },
        "9f9b79d4bd72438f8464ce5831c99968": {
          "model_module": "@jupyter-widgets/controls",
          "model_name": "HBoxModel",
          "model_module_version": "1.5.0",
          "state": {
            "_dom_classes": [],
            "_model_module": "@jupyter-widgets/controls",
            "_model_module_version": "1.5.0",
            "_model_name": "HBoxModel",
            "_view_count": null,
            "_view_module": "@jupyter-widgets/controls",
            "_view_module_version": "1.5.0",
            "_view_name": "HBoxView",
            "box_style": "",
            "children": [
              "IPY_MODEL_37a9c171cdab476a96624e426051e62a",
              "IPY_MODEL_3bfbf18dde0e4bcca668b56f7c621c67",
              "IPY_MODEL_e5c93e6bb4b849349dd499684267b5f9"
            ],
            "layout": "IPY_MODEL_eda978bbaf1c4e2087e29bee5151dc6d"
          }
        },
        "37a9c171cdab476a96624e426051e62a": {
          "model_module": "@jupyter-widgets/controls",
          "model_name": "HTMLModel",
          "model_module_version": "1.5.0",
          "state": {
            "_dom_classes": [],
            "_model_module": "@jupyter-widgets/controls",
            "_model_module_version": "1.5.0",
            "_model_name": "HTMLModel",
            "_view_count": null,
            "_view_module": "@jupyter-widgets/controls",
            "_view_module_version": "1.5.0",
            "_view_name": "HTMLView",
            "description": "",
            "description_tooltip": null,
            "layout": "IPY_MODEL_0dd0ad6e72d64f98a2b84bb6cbc71f96",
            "placeholder": "​",
            "style": "IPY_MODEL_aa882f3d850248baa4c78dd6fb7837c9",
            "value": "100%"
          }
        },
        "3bfbf18dde0e4bcca668b56f7c621c67": {
          "model_module": "@jupyter-widgets/controls",
          "model_name": "FloatProgressModel",
          "model_module_version": "1.5.0",
          "state": {
            "_dom_classes": [],
            "_model_module": "@jupyter-widgets/controls",
            "_model_module_version": "1.5.0",
            "_model_name": "FloatProgressModel",
            "_view_count": null,
            "_view_module": "@jupyter-widgets/controls",
            "_view_module_version": "1.5.0",
            "_view_name": "ProgressView",
            "bar_style": "success",
            "description": "",
            "description_tooltip": null,
            "layout": "IPY_MODEL_371d74d9e22a4107aea463913d28778e",
            "max": 2000,
            "min": 0,
            "orientation": "horizontal",
            "style": "IPY_MODEL_2613aeaeea2b4d19ac95c1be00c399a3",
            "value": 2000
          }
        },
        "e5c93e6bb4b849349dd499684267b5f9": {
          "model_module": "@jupyter-widgets/controls",
          "model_name": "HTMLModel",
          "model_module_version": "1.5.0",
          "state": {
            "_dom_classes": [],
            "_model_module": "@jupyter-widgets/controls",
            "_model_module_version": "1.5.0",
            "_model_name": "HTMLModel",
            "_view_count": null,
            "_view_module": "@jupyter-widgets/controls",
            "_view_module_version": "1.5.0",
            "_view_name": "HTMLView",
            "description": "",
            "description_tooltip": null,
            "layout": "IPY_MODEL_baa8228136cb469f95756a40da1e2416",
            "placeholder": "​",
            "style": "IPY_MODEL_be3a008f96404e92ab0a13a67d82b5e9",
            "value": " 2000/2000 [02:12&lt;00:00, 16.11it/s]"
          }
        },
        "eda978bbaf1c4e2087e29bee5151dc6d": {
          "model_module": "@jupyter-widgets/base",
          "model_name": "LayoutModel",
          "model_module_version": "1.2.0",
          "state": {
            "_model_module": "@jupyter-widgets/base",
            "_model_module_version": "1.2.0",
            "_model_name": "LayoutModel",
            "_view_count": null,
            "_view_module": "@jupyter-widgets/base",
            "_view_module_version": "1.2.0",
            "_view_name": "LayoutView",
            "align_content": null,
            "align_items": null,
            "align_self": null,
            "border": null,
            "bottom": null,
            "display": null,
            "flex": null,
            "flex_flow": null,
            "grid_area": null,
            "grid_auto_columns": null,
            "grid_auto_flow": null,
            "grid_auto_rows": null,
            "grid_column": null,
            "grid_gap": null,
            "grid_row": null,
            "grid_template_areas": null,
            "grid_template_columns": null,
            "grid_template_rows": null,
            "height": null,
            "justify_content": null,
            "justify_items": null,
            "left": null,
            "margin": null,
            "max_height": null,
            "max_width": null,
            "min_height": null,
            "min_width": null,
            "object_fit": null,
            "object_position": null,
            "order": null,
            "overflow": null,
            "overflow_x": null,
            "overflow_y": null,
            "padding": null,
            "right": null,
            "top": null,
            "visibility": null,
            "width": null
          }
        },
        "0dd0ad6e72d64f98a2b84bb6cbc71f96": {
          "model_module": "@jupyter-widgets/base",
          "model_name": "LayoutModel",
          "model_module_version": "1.2.0",
          "state": {
            "_model_module": "@jupyter-widgets/base",
            "_model_module_version": "1.2.0",
            "_model_name": "LayoutModel",
            "_view_count": null,
            "_view_module": "@jupyter-widgets/base",
            "_view_module_version": "1.2.0",
            "_view_name": "LayoutView",
            "align_content": null,
            "align_items": null,
            "align_self": null,
            "border": null,
            "bottom": null,
            "display": null,
            "flex": null,
            "flex_flow": null,
            "grid_area": null,
            "grid_auto_columns": null,
            "grid_auto_flow": null,
            "grid_auto_rows": null,
            "grid_column": null,
            "grid_gap": null,
            "grid_row": null,
            "grid_template_areas": null,
            "grid_template_columns": null,
            "grid_template_rows": null,
            "height": null,
            "justify_content": null,
            "justify_items": null,
            "left": null,
            "margin": null,
            "max_height": null,
            "max_width": null,
            "min_height": null,
            "min_width": null,
            "object_fit": null,
            "object_position": null,
            "order": null,
            "overflow": null,
            "overflow_x": null,
            "overflow_y": null,
            "padding": null,
            "right": null,
            "top": null,
            "visibility": null,
            "width": null
          }
        },
        "aa882f3d850248baa4c78dd6fb7837c9": {
          "model_module": "@jupyter-widgets/controls",
          "model_name": "DescriptionStyleModel",
          "model_module_version": "1.5.0",
          "state": {
            "_model_module": "@jupyter-widgets/controls",
            "_model_module_version": "1.5.0",
            "_model_name": "DescriptionStyleModel",
            "_view_count": null,
            "_view_module": "@jupyter-widgets/base",
            "_view_module_version": "1.2.0",
            "_view_name": "StyleView",
            "description_width": ""
          }
        },
        "371d74d9e22a4107aea463913d28778e": {
          "model_module": "@jupyter-widgets/base",
          "model_name": "LayoutModel",
          "model_module_version": "1.2.0",
          "state": {
            "_model_module": "@jupyter-widgets/base",
            "_model_module_version": "1.2.0",
            "_model_name": "LayoutModel",
            "_view_count": null,
            "_view_module": "@jupyter-widgets/base",
            "_view_module_version": "1.2.0",
            "_view_name": "LayoutView",
            "align_content": null,
            "align_items": null,
            "align_self": null,
            "border": null,
            "bottom": null,
            "display": null,
            "flex": null,
            "flex_flow": null,
            "grid_area": null,
            "grid_auto_columns": null,
            "grid_auto_flow": null,
            "grid_auto_rows": null,
            "grid_column": null,
            "grid_gap": null,
            "grid_row": null,
            "grid_template_areas": null,
            "grid_template_columns": null,
            "grid_template_rows": null,
            "height": null,
            "justify_content": null,
            "justify_items": null,
            "left": null,
            "margin": null,
            "max_height": null,
            "max_width": null,
            "min_height": null,
            "min_width": null,
            "object_fit": null,
            "object_position": null,
            "order": null,
            "overflow": null,
            "overflow_x": null,
            "overflow_y": null,
            "padding": null,
            "right": null,
            "top": null,
            "visibility": null,
            "width": null
          }
        },
        "2613aeaeea2b4d19ac95c1be00c399a3": {
          "model_module": "@jupyter-widgets/controls",
          "model_name": "ProgressStyleModel",
          "model_module_version": "1.5.0",
          "state": {
            "_model_module": "@jupyter-widgets/controls",
            "_model_module_version": "1.5.0",
            "_model_name": "ProgressStyleModel",
            "_view_count": null,
            "_view_module": "@jupyter-widgets/base",
            "_view_module_version": "1.2.0",
            "_view_name": "StyleView",
            "bar_color": null,
            "description_width": ""
          }
        },
        "baa8228136cb469f95756a40da1e2416": {
          "model_module": "@jupyter-widgets/base",
          "model_name": "LayoutModel",
          "model_module_version": "1.2.0",
          "state": {
            "_model_module": "@jupyter-widgets/base",
            "_model_module_version": "1.2.0",
            "_model_name": "LayoutModel",
            "_view_count": null,
            "_view_module": "@jupyter-widgets/base",
            "_view_module_version": "1.2.0",
            "_view_name": "LayoutView",
            "align_content": null,
            "align_items": null,
            "align_self": null,
            "border": null,
            "bottom": null,
            "display": null,
            "flex": null,
            "flex_flow": null,
            "grid_area": null,
            "grid_auto_columns": null,
            "grid_auto_flow": null,
            "grid_auto_rows": null,
            "grid_column": null,
            "grid_gap": null,
            "grid_row": null,
            "grid_template_areas": null,
            "grid_template_columns": null,
            "grid_template_rows": null,
            "height": null,
            "justify_content": null,
            "justify_items": null,
            "left": null,
            "margin": null,
            "max_height": null,
            "max_width": null,
            "min_height": null,
            "min_width": null,
            "object_fit": null,
            "object_position": null,
            "order": null,
            "overflow": null,
            "overflow_x": null,
            "overflow_y": null,
            "padding": null,
            "right": null,
            "top": null,
            "visibility": null,
            "width": null
          }
        },
        "be3a008f96404e92ab0a13a67d82b5e9": {
          "model_module": "@jupyter-widgets/controls",
          "model_name": "DescriptionStyleModel",
          "model_module_version": "1.5.0",
          "state": {
            "_model_module": "@jupyter-widgets/controls",
            "_model_module_version": "1.5.0",
            "_model_name": "DescriptionStyleModel",
            "_view_count": null,
            "_view_module": "@jupyter-widgets/base",
            "_view_module_version": "1.2.0",
            "_view_name": "StyleView",
            "description_width": ""
          }
        },
        "30230e52fe42435eb822e66c959499b8": {
          "model_module": "@jupyter-widgets/controls",
          "model_name": "HBoxModel",
          "model_module_version": "1.5.0",
          "state": {
            "_dom_classes": [],
            "_model_module": "@jupyter-widgets/controls",
            "_model_module_version": "1.5.0",
            "_model_name": "HBoxModel",
            "_view_count": null,
            "_view_module": "@jupyter-widgets/controls",
            "_view_module_version": "1.5.0",
            "_view_name": "HBoxView",
            "box_style": "",
            "children": [
              "IPY_MODEL_55cc91807e964c62bfeadd3128e8f9be",
              "IPY_MODEL_952104b1aab243b786a042a3fb13ed53",
              "IPY_MODEL_a681ac8d658e48e69588c1aa4cc4e726"
            ],
            "layout": "IPY_MODEL_45dc94b03321405f8a03be7ec8287626"
          }
        },
        "55cc91807e964c62bfeadd3128e8f9be": {
          "model_module": "@jupyter-widgets/controls",
          "model_name": "HTMLModel",
          "model_module_version": "1.5.0",
          "state": {
            "_dom_classes": [],
            "_model_module": "@jupyter-widgets/controls",
            "_model_module_version": "1.5.0",
            "_model_name": "HTMLModel",
            "_view_count": null,
            "_view_module": "@jupyter-widgets/controls",
            "_view_module_version": "1.5.0",
            "_view_name": "HTMLView",
            "description": "",
            "description_tooltip": null,
            "layout": "IPY_MODEL_9acd193ab0a04614b5ae253cc9ee88b1",
            "placeholder": "​",
            "style": "IPY_MODEL_d1aad093723440418d093b7004540922",
            "value": "100%"
          }
        },
        "952104b1aab243b786a042a3fb13ed53": {
          "model_module": "@jupyter-widgets/controls",
          "model_name": "FloatProgressModel",
          "model_module_version": "1.5.0",
          "state": {
            "_dom_classes": [],
            "_model_module": "@jupyter-widgets/controls",
            "_model_module_version": "1.5.0",
            "_model_name": "FloatProgressModel",
            "_view_count": null,
            "_view_module": "@jupyter-widgets/controls",
            "_view_module_version": "1.5.0",
            "_view_name": "ProgressView",
            "bar_style": "success",
            "description": "",
            "description_tooltip": null,
            "layout": "IPY_MODEL_bb28fb59731c44918defd3b4e0879279",
            "max": 2000,
            "min": 0,
            "orientation": "horizontal",
            "style": "IPY_MODEL_d4352472cac94d379872547d4883c764",
            "value": 2000
          }
        },
        "a681ac8d658e48e69588c1aa4cc4e726": {
          "model_module": "@jupyter-widgets/controls",
          "model_name": "HTMLModel",
          "model_module_version": "1.5.0",
          "state": {
            "_dom_classes": [],
            "_model_module": "@jupyter-widgets/controls",
            "_model_module_version": "1.5.0",
            "_model_name": "HTMLModel",
            "_view_count": null,
            "_view_module": "@jupyter-widgets/controls",
            "_view_module_version": "1.5.0",
            "_view_name": "HTMLView",
            "description": "",
            "description_tooltip": null,
            "layout": "IPY_MODEL_f94d001aea484a09af283eca9d9af9e8",
            "placeholder": "​",
            "style": "IPY_MODEL_b18d479bc32245498781996705e06858",
            "value": " 2000/2000 [02:12&lt;00:00, 14.44it/s]"
          }
        },
        "45dc94b03321405f8a03be7ec8287626": {
          "model_module": "@jupyter-widgets/base",
          "model_name": "LayoutModel",
          "model_module_version": "1.2.0",
          "state": {
            "_model_module": "@jupyter-widgets/base",
            "_model_module_version": "1.2.0",
            "_model_name": "LayoutModel",
            "_view_count": null,
            "_view_module": "@jupyter-widgets/base",
            "_view_module_version": "1.2.0",
            "_view_name": "LayoutView",
            "align_content": null,
            "align_items": null,
            "align_self": null,
            "border": null,
            "bottom": null,
            "display": null,
            "flex": null,
            "flex_flow": null,
            "grid_area": null,
            "grid_auto_columns": null,
            "grid_auto_flow": null,
            "grid_auto_rows": null,
            "grid_column": null,
            "grid_gap": null,
            "grid_row": null,
            "grid_template_areas": null,
            "grid_template_columns": null,
            "grid_template_rows": null,
            "height": null,
            "justify_content": null,
            "justify_items": null,
            "left": null,
            "margin": null,
            "max_height": null,
            "max_width": null,
            "min_height": null,
            "min_width": null,
            "object_fit": null,
            "object_position": null,
            "order": null,
            "overflow": null,
            "overflow_x": null,
            "overflow_y": null,
            "padding": null,
            "right": null,
            "top": null,
            "visibility": null,
            "width": null
          }
        },
        "9acd193ab0a04614b5ae253cc9ee88b1": {
          "model_module": "@jupyter-widgets/base",
          "model_name": "LayoutModel",
          "model_module_version": "1.2.0",
          "state": {
            "_model_module": "@jupyter-widgets/base",
            "_model_module_version": "1.2.0",
            "_model_name": "LayoutModel",
            "_view_count": null,
            "_view_module": "@jupyter-widgets/base",
            "_view_module_version": "1.2.0",
            "_view_name": "LayoutView",
            "align_content": null,
            "align_items": null,
            "align_self": null,
            "border": null,
            "bottom": null,
            "display": null,
            "flex": null,
            "flex_flow": null,
            "grid_area": null,
            "grid_auto_columns": null,
            "grid_auto_flow": null,
            "grid_auto_rows": null,
            "grid_column": null,
            "grid_gap": null,
            "grid_row": null,
            "grid_template_areas": null,
            "grid_template_columns": null,
            "grid_template_rows": null,
            "height": null,
            "justify_content": null,
            "justify_items": null,
            "left": null,
            "margin": null,
            "max_height": null,
            "max_width": null,
            "min_height": null,
            "min_width": null,
            "object_fit": null,
            "object_position": null,
            "order": null,
            "overflow": null,
            "overflow_x": null,
            "overflow_y": null,
            "padding": null,
            "right": null,
            "top": null,
            "visibility": null,
            "width": null
          }
        },
        "d1aad093723440418d093b7004540922": {
          "model_module": "@jupyter-widgets/controls",
          "model_name": "DescriptionStyleModel",
          "model_module_version": "1.5.0",
          "state": {
            "_model_module": "@jupyter-widgets/controls",
            "_model_module_version": "1.5.0",
            "_model_name": "DescriptionStyleModel",
            "_view_count": null,
            "_view_module": "@jupyter-widgets/base",
            "_view_module_version": "1.2.0",
            "_view_name": "StyleView",
            "description_width": ""
          }
        },
        "bb28fb59731c44918defd3b4e0879279": {
          "model_module": "@jupyter-widgets/base",
          "model_name": "LayoutModel",
          "model_module_version": "1.2.0",
          "state": {
            "_model_module": "@jupyter-widgets/base",
            "_model_module_version": "1.2.0",
            "_model_name": "LayoutModel",
            "_view_count": null,
            "_view_module": "@jupyter-widgets/base",
            "_view_module_version": "1.2.0",
            "_view_name": "LayoutView",
            "align_content": null,
            "align_items": null,
            "align_self": null,
            "border": null,
            "bottom": null,
            "display": null,
            "flex": null,
            "flex_flow": null,
            "grid_area": null,
            "grid_auto_columns": null,
            "grid_auto_flow": null,
            "grid_auto_rows": null,
            "grid_column": null,
            "grid_gap": null,
            "grid_row": null,
            "grid_template_areas": null,
            "grid_template_columns": null,
            "grid_template_rows": null,
            "height": null,
            "justify_content": null,
            "justify_items": null,
            "left": null,
            "margin": null,
            "max_height": null,
            "max_width": null,
            "min_height": null,
            "min_width": null,
            "object_fit": null,
            "object_position": null,
            "order": null,
            "overflow": null,
            "overflow_x": null,
            "overflow_y": null,
            "padding": null,
            "right": null,
            "top": null,
            "visibility": null,
            "width": null
          }
        },
        "d4352472cac94d379872547d4883c764": {
          "model_module": "@jupyter-widgets/controls",
          "model_name": "ProgressStyleModel",
          "model_module_version": "1.5.0",
          "state": {
            "_model_module": "@jupyter-widgets/controls",
            "_model_module_version": "1.5.0",
            "_model_name": "ProgressStyleModel",
            "_view_count": null,
            "_view_module": "@jupyter-widgets/base",
            "_view_module_version": "1.2.0",
            "_view_name": "StyleView",
            "bar_color": null,
            "description_width": ""
          }
        },
        "f94d001aea484a09af283eca9d9af9e8": {
          "model_module": "@jupyter-widgets/base",
          "model_name": "LayoutModel",
          "model_module_version": "1.2.0",
          "state": {
            "_model_module": "@jupyter-widgets/base",
            "_model_module_version": "1.2.0",
            "_model_name": "LayoutModel",
            "_view_count": null,
            "_view_module": "@jupyter-widgets/base",
            "_view_module_version": "1.2.0",
            "_view_name": "LayoutView",
            "align_content": null,
            "align_items": null,
            "align_self": null,
            "border": null,
            "bottom": null,
            "display": null,
            "flex": null,
            "flex_flow": null,
            "grid_area": null,
            "grid_auto_columns": null,
            "grid_auto_flow": null,
            "grid_auto_rows": null,
            "grid_column": null,
            "grid_gap": null,
            "grid_row": null,
            "grid_template_areas": null,
            "grid_template_columns": null,
            "grid_template_rows": null,
            "height": null,
            "justify_content": null,
            "justify_items": null,
            "left": null,
            "margin": null,
            "max_height": null,
            "max_width": null,
            "min_height": null,
            "min_width": null,
            "object_fit": null,
            "object_position": null,
            "order": null,
            "overflow": null,
            "overflow_x": null,
            "overflow_y": null,
            "padding": null,
            "right": null,
            "top": null,
            "visibility": null,
            "width": null
          }
        },
        "b18d479bc32245498781996705e06858": {
          "model_module": "@jupyter-widgets/controls",
          "model_name": "DescriptionStyleModel",
          "model_module_version": "1.5.0",
          "state": {
            "_model_module": "@jupyter-widgets/controls",
            "_model_module_version": "1.5.0",
            "_model_name": "DescriptionStyleModel",
            "_view_count": null,
            "_view_module": "@jupyter-widgets/base",
            "_view_module_version": "1.2.0",
            "_view_name": "StyleView",
            "description_width": ""
          }
        },
        "219b90e0cd2741ab95be8dfa7b151c7f": {
          "model_module": "@jupyter-widgets/controls",
          "model_name": "HBoxModel",
          "model_module_version": "1.5.0",
          "state": {
            "_dom_classes": [],
            "_model_module": "@jupyter-widgets/controls",
            "_model_module_version": "1.5.0",
            "_model_name": "HBoxModel",
            "_view_count": null,
            "_view_module": "@jupyter-widgets/controls",
            "_view_module_version": "1.5.0",
            "_view_name": "HBoxView",
            "box_style": "",
            "children": [
              "IPY_MODEL_93d45991a61f4a6fbc20ebc0aea413b7",
              "IPY_MODEL_9f94bff8526240f280f9419177c4651f",
              "IPY_MODEL_8c0c0d187e184fb1b9cd1e00e85ec47f"
            ],
            "layout": "IPY_MODEL_2469450548184662bbc908fd0b57032b"
          }
        },
        "93d45991a61f4a6fbc20ebc0aea413b7": {
          "model_module": "@jupyter-widgets/controls",
          "model_name": "HTMLModel",
          "model_module_version": "1.5.0",
          "state": {
            "_dom_classes": [],
            "_model_module": "@jupyter-widgets/controls",
            "_model_module_version": "1.5.0",
            "_model_name": "HTMLModel",
            "_view_count": null,
            "_view_module": "@jupyter-widgets/controls",
            "_view_module_version": "1.5.0",
            "_view_name": "HTMLView",
            "description": "",
            "description_tooltip": null,
            "layout": "IPY_MODEL_3304862c1dd146248214826f168435a5",
            "placeholder": "​",
            "style": "IPY_MODEL_543285ba44954485b459583fdfa3a518",
            "value": "100%"
          }
        },
        "9f94bff8526240f280f9419177c4651f": {
          "model_module": "@jupyter-widgets/controls",
          "model_name": "FloatProgressModel",
          "model_module_version": "1.5.0",
          "state": {
            "_dom_classes": [],
            "_model_module": "@jupyter-widgets/controls",
            "_model_module_version": "1.5.0",
            "_model_name": "FloatProgressModel",
            "_view_count": null,
            "_view_module": "@jupyter-widgets/controls",
            "_view_module_version": "1.5.0",
            "_view_name": "ProgressView",
            "bar_style": "success",
            "description": "",
            "description_tooltip": null,
            "layout": "IPY_MODEL_8dd6c0e6be26413f86d4911d3b986aa3",
            "max": 2000,
            "min": 0,
            "orientation": "horizontal",
            "style": "IPY_MODEL_239f5bb90af54d8bb20723ed187fa70c",
            "value": 2000
          }
        },
        "8c0c0d187e184fb1b9cd1e00e85ec47f": {
          "model_module": "@jupyter-widgets/controls",
          "model_name": "HTMLModel",
          "model_module_version": "1.5.0",
          "state": {
            "_dom_classes": [],
            "_model_module": "@jupyter-widgets/controls",
            "_model_module_version": "1.5.0",
            "_model_name": "HTMLModel",
            "_view_count": null,
            "_view_module": "@jupyter-widgets/controls",
            "_view_module_version": "1.5.0",
            "_view_name": "HTMLView",
            "description": "",
            "description_tooltip": null,
            "layout": "IPY_MODEL_82d7113e1ecf4bad9538a650b14908d3",
            "placeholder": "​",
            "style": "IPY_MODEL_0663bb47b142433f81af5b6710f84586",
            "value": " 2000/2000 [02:13&lt;00:00, 15.25it/s]"
          }
        },
        "2469450548184662bbc908fd0b57032b": {
          "model_module": "@jupyter-widgets/base",
          "model_name": "LayoutModel",
          "model_module_version": "1.2.0",
          "state": {
            "_model_module": "@jupyter-widgets/base",
            "_model_module_version": "1.2.0",
            "_model_name": "LayoutModel",
            "_view_count": null,
            "_view_module": "@jupyter-widgets/base",
            "_view_module_version": "1.2.0",
            "_view_name": "LayoutView",
            "align_content": null,
            "align_items": null,
            "align_self": null,
            "border": null,
            "bottom": null,
            "display": null,
            "flex": null,
            "flex_flow": null,
            "grid_area": null,
            "grid_auto_columns": null,
            "grid_auto_flow": null,
            "grid_auto_rows": null,
            "grid_column": null,
            "grid_gap": null,
            "grid_row": null,
            "grid_template_areas": null,
            "grid_template_columns": null,
            "grid_template_rows": null,
            "height": null,
            "justify_content": null,
            "justify_items": null,
            "left": null,
            "margin": null,
            "max_height": null,
            "max_width": null,
            "min_height": null,
            "min_width": null,
            "object_fit": null,
            "object_position": null,
            "order": null,
            "overflow": null,
            "overflow_x": null,
            "overflow_y": null,
            "padding": null,
            "right": null,
            "top": null,
            "visibility": null,
            "width": null
          }
        },
        "3304862c1dd146248214826f168435a5": {
          "model_module": "@jupyter-widgets/base",
          "model_name": "LayoutModel",
          "model_module_version": "1.2.0",
          "state": {
            "_model_module": "@jupyter-widgets/base",
            "_model_module_version": "1.2.0",
            "_model_name": "LayoutModel",
            "_view_count": null,
            "_view_module": "@jupyter-widgets/base",
            "_view_module_version": "1.2.0",
            "_view_name": "LayoutView",
            "align_content": null,
            "align_items": null,
            "align_self": null,
            "border": null,
            "bottom": null,
            "display": null,
            "flex": null,
            "flex_flow": null,
            "grid_area": null,
            "grid_auto_columns": null,
            "grid_auto_flow": null,
            "grid_auto_rows": null,
            "grid_column": null,
            "grid_gap": null,
            "grid_row": null,
            "grid_template_areas": null,
            "grid_template_columns": null,
            "grid_template_rows": null,
            "height": null,
            "justify_content": null,
            "justify_items": null,
            "left": null,
            "margin": null,
            "max_height": null,
            "max_width": null,
            "min_height": null,
            "min_width": null,
            "object_fit": null,
            "object_position": null,
            "order": null,
            "overflow": null,
            "overflow_x": null,
            "overflow_y": null,
            "padding": null,
            "right": null,
            "top": null,
            "visibility": null,
            "width": null
          }
        },
        "543285ba44954485b459583fdfa3a518": {
          "model_module": "@jupyter-widgets/controls",
          "model_name": "DescriptionStyleModel",
          "model_module_version": "1.5.0",
          "state": {
            "_model_module": "@jupyter-widgets/controls",
            "_model_module_version": "1.5.0",
            "_model_name": "DescriptionStyleModel",
            "_view_count": null,
            "_view_module": "@jupyter-widgets/base",
            "_view_module_version": "1.2.0",
            "_view_name": "StyleView",
            "description_width": ""
          }
        },
        "8dd6c0e6be26413f86d4911d3b986aa3": {
          "model_module": "@jupyter-widgets/base",
          "model_name": "LayoutModel",
          "model_module_version": "1.2.0",
          "state": {
            "_model_module": "@jupyter-widgets/base",
            "_model_module_version": "1.2.0",
            "_model_name": "LayoutModel",
            "_view_count": null,
            "_view_module": "@jupyter-widgets/base",
            "_view_module_version": "1.2.0",
            "_view_name": "LayoutView",
            "align_content": null,
            "align_items": null,
            "align_self": null,
            "border": null,
            "bottom": null,
            "display": null,
            "flex": null,
            "flex_flow": null,
            "grid_area": null,
            "grid_auto_columns": null,
            "grid_auto_flow": null,
            "grid_auto_rows": null,
            "grid_column": null,
            "grid_gap": null,
            "grid_row": null,
            "grid_template_areas": null,
            "grid_template_columns": null,
            "grid_template_rows": null,
            "height": null,
            "justify_content": null,
            "justify_items": null,
            "left": null,
            "margin": null,
            "max_height": null,
            "max_width": null,
            "min_height": null,
            "min_width": null,
            "object_fit": null,
            "object_position": null,
            "order": null,
            "overflow": null,
            "overflow_x": null,
            "overflow_y": null,
            "padding": null,
            "right": null,
            "top": null,
            "visibility": null,
            "width": null
          }
        },
        "239f5bb90af54d8bb20723ed187fa70c": {
          "model_module": "@jupyter-widgets/controls",
          "model_name": "ProgressStyleModel",
          "model_module_version": "1.5.0",
          "state": {
            "_model_module": "@jupyter-widgets/controls",
            "_model_module_version": "1.5.0",
            "_model_name": "ProgressStyleModel",
            "_view_count": null,
            "_view_module": "@jupyter-widgets/base",
            "_view_module_version": "1.2.0",
            "_view_name": "StyleView",
            "bar_color": null,
            "description_width": ""
          }
        },
        "82d7113e1ecf4bad9538a650b14908d3": {
          "model_module": "@jupyter-widgets/base",
          "model_name": "LayoutModel",
          "model_module_version": "1.2.0",
          "state": {
            "_model_module": "@jupyter-widgets/base",
            "_model_module_version": "1.2.0",
            "_model_name": "LayoutModel",
            "_view_count": null,
            "_view_module": "@jupyter-widgets/base",
            "_view_module_version": "1.2.0",
            "_view_name": "LayoutView",
            "align_content": null,
            "align_items": null,
            "align_self": null,
            "border": null,
            "bottom": null,
            "display": null,
            "flex": null,
            "flex_flow": null,
            "grid_area": null,
            "grid_auto_columns": null,
            "grid_auto_flow": null,
            "grid_auto_rows": null,
            "grid_column": null,
            "grid_gap": null,
            "grid_row": null,
            "grid_template_areas": null,
            "grid_template_columns": null,
            "grid_template_rows": null,
            "height": null,
            "justify_content": null,
            "justify_items": null,
            "left": null,
            "margin": null,
            "max_height": null,
            "max_width": null,
            "min_height": null,
            "min_width": null,
            "object_fit": null,
            "object_position": null,
            "order": null,
            "overflow": null,
            "overflow_x": null,
            "overflow_y": null,
            "padding": null,
            "right": null,
            "top": null,
            "visibility": null,
            "width": null
          }
        },
        "0663bb47b142433f81af5b6710f84586": {
          "model_module": "@jupyter-widgets/controls",
          "model_name": "DescriptionStyleModel",
          "model_module_version": "1.5.0",
          "state": {
            "_model_module": "@jupyter-widgets/controls",
            "_model_module_version": "1.5.0",
            "_model_name": "DescriptionStyleModel",
            "_view_count": null,
            "_view_module": "@jupyter-widgets/base",
            "_view_module_version": "1.2.0",
            "_view_name": "StyleView",
            "description_width": ""
          }
        }
      }
    }
  },
  "cells": [
    {
      "cell_type": "markdown",
      "metadata": {
        "id": "view-in-github",
        "colab_type": "text"
      },
      "source": [
        "<a href=\"https://colab.research.google.com/github/quillaur/data_learning/blob/main/data_science/machine_learning/reinforcement_learning/dqn/frozen_lake_dqn.ipynb\" target=\"_parent\"><img src=\"https://colab.research.google.com/assets/colab-badge.svg\" alt=\"Open In Colab\"/></a>"
      ]
    },
    {
      "cell_type": "markdown",
      "source": [
        "# DQN\n",
        "\n",
        "* Implementation : \n",
        "  * https://towardsdatascience.com/deep-q-learning-tutorial-mindqn-2a4c855abffc\n",
        "  * https://github.com/mswang12/minDQN/blob/main/minDQN.py\n",
        "* Explanations: https://towardsdatascience.com/reinforcement-learning-explained-visually-part-5-deep-q-networks-step-by-step-5a5317197f4b\n",
        "* Good implementation: https://alexandervandekleut.github.io/deep-q-learning/\n",
        "\n",
        "https://tensorforce.readthedocs.io/en/latest/basics/getting-started.html => installation not working sadly...\n",
        "\n",
        "\n",
        "https://alexandervandekleut.github.io/deep-q-learning/"
      ],
      "metadata": {
        "id": "rg_uYzYmuLTr"
      }
    },
    {
      "cell_type": "code",
      "execution_count": null,
      "metadata": {
        "id": "I432uHcVuGIl",
        "colab": {
          "base_uri": "https://localhost:8080/"
        },
        "outputId": "5863f021-3729-4ad0-d9f9-f943377d407e"
      },
      "outputs": [
        {
          "output_type": "stream",
          "name": "stdout",
          "text": [
            "Looking in indexes: https://pypi.org/simple, https://us-python.pkg.dev/colab-wheels/public/simple/\n",
            "Collecting gymnasium\n",
            "  Downloading gymnasium-0.27.1-py3-none-any.whl (883 kB)\n",
            "\u001b[2K     \u001b[90m━━━━━━━━━━━━━━━━━━━━━━━━━━━━━━━━━━━━━━\u001b[0m \u001b[32m883.7/883.7 KB\u001b[0m \u001b[31m12.8 MB/s\u001b[0m eta \u001b[36m0:00:00\u001b[0m\n",
            "\u001b[?25hCollecting jax-jumpy>=0.2.0\n",
            "  Downloading jax_jumpy-0.2.0-py3-none-any.whl (11 kB)\n",
            "Requirement already satisfied: importlib-metadata>=4.8.0 in /usr/local/lib/python3.8/dist-packages (from gymnasium) (6.0.0)\n",
            "Requirement already satisfied: numpy>=1.21.0 in /usr/local/lib/python3.8/dist-packages (from gymnasium) (1.21.6)\n",
            "Requirement already satisfied: typing-extensions>=4.3.0 in /usr/local/lib/python3.8/dist-packages (from gymnasium) (4.4.0)\n",
            "Collecting gymnasium-notices>=0.0.1\n",
            "  Downloading gymnasium_notices-0.0.1-py3-none-any.whl (2.8 kB)\n",
            "Requirement already satisfied: cloudpickle>=1.2.0 in /usr/local/lib/python3.8/dist-packages (from gymnasium) (2.2.0)\n",
            "Requirement already satisfied: zipp>=0.5 in /usr/local/lib/python3.8/dist-packages (from importlib-metadata>=4.8.0->gymnasium) (3.11.0)\n",
            "Installing collected packages: gymnasium-notices, jax-jumpy, gymnasium\n",
            "Successfully installed gymnasium-0.27.1 gymnasium-notices-0.0.1 jax-jumpy-0.2.0\n"
          ]
        }
      ],
      "source": [
        "!pip install gymnasium -U"
      ]
    },
    {
      "cell_type": "code",
      "source": [
        "import numpy as np\n",
        "import tensorflow as tf\n",
        "import gymnasium as gym\n",
        "import matplotlib.pyplot as plt\n",
        "import seaborn as sns\n",
        "from tqdm.notebook import trange, tqdm\n",
        "from collections import deque, defaultdict\n",
        "import random\n",
        "import pandas as pd\n",
        "import os\n",
        "import time\n",
        "\n",
        "from gymnasium.wrappers import TransformObservation"
      ],
      "metadata": {
        "id": "KEeeK4z6xZi8"
      },
      "execution_count": null,
      "outputs": []
    },
    {
      "cell_type": "code",
      "source": [
        "def setup_frozenlake_env(n: int=32):\n",
        "  envs = gym.vector.make(\"FrozenLake-v1\", asynchronous=True, num_envs=n, is_slippery=False)\n",
        "  # https://stackoverflow.com/a/49790223\n",
        "  # https://numpy.org/doc/stable/reference/generated/numpy.eye.html\n",
        "  envs = TransformObservation(envs, lambda obs: np.eye(16)[obs])\n",
        "  # envs = TransformReward(envs)\n",
        "  return envs"
      ],
      "metadata": {
        "id": "_hNdiVwtxbGf"
      },
      "execution_count": null,
      "outputs": []
    },
    {
      "cell_type": "code",
      "source": [
        "envs = setup_frozenlake_env(4)"
      ],
      "metadata": {
        "id": "gJuQmO7SxhIq"
      },
      "execution_count": null,
      "outputs": []
    },
    {
      "cell_type": "code",
      "source": [
        "episode_rewards = 0\n",
        "states, info = envs.reset()"
      ],
      "metadata": {
        "id": "hBFymtE_xkTy"
      },
      "execution_count": null,
      "outputs": []
    },
    {
      "cell_type": "code",
      "source": [
        "next_states, rewards, dones, truncs, info = envs.step(np.array([0,1,2,3]))"
      ],
      "metadata": {
        "id": "SuMowv4TxnqS"
      },
      "execution_count": null,
      "outputs": []
    },
    {
      "cell_type": "code",
      "source": [
        "for i in range(envs.num_envs):\n",
        "    if dones[i]:\n",
        "      rewards[i] = 10 if rewards[i] else -10\n",
        "    \n",
        "    if (states[i] == next_states[i]).all():\n",
        "      rewards[i] = -1\n",
        "\n",
        "episode_rewards += rewards"
      ],
      "metadata": {
        "id": "xAtF-oHAxo46"
      },
      "execution_count": null,
      "outputs": []
    },
    {
      "cell_type": "code",
      "source": [
        "for o, no, r in zip(states, next_states, rewards):\n",
        "  print(o, no, r)"
      ],
      "metadata": {
        "colab": {
          "base_uri": "https://localhost:8080/"
        },
        "id": "JDDI9ZfnxqZK",
        "outputId": "b84d495d-306c-43db-d3ed-ab556fd0ab4f"
      },
      "execution_count": null,
      "outputs": [
        {
          "output_type": "stream",
          "name": "stdout",
          "text": [
            "[1. 0. 0. 0. 0. 0. 0. 0. 0. 0. 0. 0. 0. 0. 0. 0.] [1. 0. 0. 0. 0. 0. 0. 0. 0. 0. 0. 0. 0. 0. 0. 0.] -1.0\n",
            "[1. 0. 0. 0. 0. 0. 0. 0. 0. 0. 0. 0. 0. 0. 0. 0.] [0. 0. 0. 0. 1. 0. 0. 0. 0. 0. 0. 0. 0. 0. 0. 0.] 0.0\n",
            "[1. 0. 0. 0. 0. 0. 0. 0. 0. 0. 0. 0. 0. 0. 0. 0.] [0. 1. 0. 0. 0. 0. 0. 0. 0. 0. 0. 0. 0. 0. 0. 0.] 0.0\n",
            "[1. 0. 0. 0. 0. 0. 0. 0. 0. 0. 0. 0. 0. 0. 0. 0.] [1. 0. 0. 0. 0. 0. 0. 0. 0. 0. 0. 0. 0. 0. 0. 0.] -1.0\n"
          ]
        }
      ]
    },
    {
      "cell_type": "code",
      "source": [
        "states = next_states"
      ],
      "metadata": {
        "id": "SIqGmioKxr1K"
      },
      "execution_count": null,
      "outputs": []
    },
    {
      "cell_type": "code",
      "source": [
        "episode_rewards"
      ],
      "metadata": {
        "colab": {
          "base_uri": "https://localhost:8080/"
        },
        "id": "Wn24jKMextS7",
        "outputId": "b81f6a43-16c9-4c48-99e5-33bb1be596b5"
      },
      "execution_count": null,
      "outputs": [
        {
          "output_type": "execute_result",
          "data": {
            "text/plain": [
              "array([-1.,  0.,  0., -1.])"
            ]
          },
          "metadata": {},
          "execution_count": 11
        }
      ]
    },
    {
      "cell_type": "code",
      "source": [
        "envs.observation_space = states"
      ],
      "metadata": {
        "id": "PWnTtM4exuYx"
      },
      "execution_count": null,
      "outputs": []
    },
    {
      "cell_type": "code",
      "source": [
        "(envs.observation_space.shape[1],)"
      ],
      "metadata": {
        "colab": {
          "base_uri": "https://localhost:8080/"
        },
        "id": "ZNu8Ok79xxBK",
        "outputId": "410dec35-0284-4387-fe72-850ef5461665"
      },
      "execution_count": null,
      "outputs": [
        {
          "output_type": "execute_result",
          "data": {
            "text/plain": [
              "(16,)"
            ]
          },
          "metadata": {},
          "execution_count": 14
        }
      ]
    },
    {
      "cell_type": "code",
      "source": [
        "class Agent:\n",
        "    def __init__(self, state_shape:int=0, num_actions:int=0, num_envs:int=0, \n",
        "                 alpha:float=0.001, gamma:float=0.95, epsilon_i:float=1.0, \n",
        "                 epsilon_f:float=0.01, n_epsilon:float=0.1, \n",
        "                 hidden_sizes:list=[24,24], model_path:str=\"\"):\n",
        "        \"\"\"\n",
        "        Initialize an Agent instance.\n",
        "\n",
        "        Parameters\n",
        "        ----------\n",
        "        state_shape : int\n",
        "            shape of the state space\n",
        "        num_actions : int\n",
        "            number of actions\n",
        "        num_envs : int\n",
        "            number of environments\n",
        "        alpha : float\n",
        "            learning rate\n",
        "        gamma : float\n",
        "            discount factor\n",
        "        epsilon_i : float\n",
        "            initial epsilon value for exploration\n",
        "        epsilon_f : float\n",
        "            final epsilon value for exploration\n",
        "        n_epsilon : float\n",
        "            number of steps to decay epsilon\n",
        "        hidden_sizes : list\n",
        "            number of neurons in the hidden layers\n",
        "        model_path : str\n",
        "            path of the model to load\n",
        "        \"\"\"\n",
        "        self.epsilon_i = epsilon_i\n",
        "        self.epsilon_f = epsilon_f\n",
        "        self.n_epsilon = n_epsilon\n",
        "        self.epsilon = epsilon_i\n",
        "        self.discount_factor = gamma\n",
        "        self.learning_rate = alpha\n",
        "\n",
        "        self.num_actions = num_actions\n",
        "        self.state_shape = state_shape\n",
        "        self.num_envs = num_envs\n",
        "\n",
        "        if model_path:\n",
        "          self.Q = self.load_model(model_path)\n",
        "        else:\n",
        "          self.Q = self.create_model(hidden_sizes)\n",
        "        \n",
        "        # target network\n",
        "        self.Q_ = self.create_model(hidden_sizes)\n",
        "        self.optimizer = tf.keras.optimizers.Adam(alpha)\n",
        "\n",
        "    def create_model(self, hidden_sizes:list)->tf.keras.Model:\n",
        "        \"\"\"\n",
        "        Create a neural network model.\n",
        "\n",
        "        Parameters\n",
        "        ----------\n",
        "        hidden_sizes : list\n",
        "            number of neurons in the hidden layers\n",
        "\n",
        "        Returns\n",
        "        -------\n",
        "        tf.keras.Model\n",
        "            the created model\n",
        "        \"\"\"\n",
        "        model = tf.keras.models.Sequential()\n",
        "        model.add(tf.keras.layers.Input(shape=self.state_shape))\n",
        "        for size in hidden_sizes:\n",
        "            model.add(tf.keras.layers.Dense(size, activation='relu', use_bias='false', kernel_initializer='he_uniform', dtype='float64'))\n",
        "        model.add(tf.keras.layers.Dense(self.num_actions, activation=\"linear\", use_bias='false', kernel_initializer='zeros', dtype='float64'))\n",
        "\n",
        "        return model\n",
        "    \n",
        "    def load_model(self, model_path):\n",
        "      return tf.keras.models.load_model(model_path)\n",
        "    \n",
        "    def synchronize(self):\n",
        "        self.Q_.set_weights(self.Q.get_weights())\n",
        "\n",
        "    def explore_or_act(self, s_t):\n",
        "        if np.random.rand() < self.epsilon:\n",
        "            return np.random.randint(self.num_actions, size=self.num_envs)\n",
        "\n",
        "        preds = self.Q.predict(s_t, verbose=0)\n",
        "        # print(preds.shape)\n",
        "        return np.argmax(preds, axis=1)\n",
        "    \n",
        "    def act(self, states):\n",
        "      preds = self.Q.predict(states, verbose=0)\n",
        "      return np.argmax(preds, axis=1)\n",
        "    \n",
        "    def reset_epsilon(self):\n",
        "      self.epsilon = self.epsilon_i\n",
        "    \n",
        "    def decay_epsilon(self, n):\n",
        "        self.epsilon = max(\n",
        "            self.epsilon_f, \n",
        "            self.epsilon_i - (n/self.n_epsilon)*(self.epsilon_i - self.epsilon_f))\n",
        "\n",
        "    def update(self, s_t, a_t, r_t, s_t_next, truncs, d_t):\n",
        "      with tf.GradientTape() as tape:\n",
        "          Q_next = tf.stop_gradient(tf.reduce_max(self.Q_(s_t_next), axis=1)) # note we use Q_ \n",
        "          Q_pred = tf.reduce_sum(self.Q(s_t)*tf.one_hot(a_t, self.num_actions, dtype=tf.float64), axis=1)\n",
        "          loss = tf.reduce_mean(0.5*(r_t + (1-(d_t.any() or truncs.any()))*self.discount_factor*Q_next - Q_pred)**2)\n",
        "      grads = tape.gradient(loss, self.Q.trainable_variables)\n",
        "      self.optimizer.apply_gradients(zip(grads, self.Q.trainable_variables))\n",
        "    \n",
        "    def save(self, model_name:str):\n",
        "      self.Q.save(f'dqn_{model_name}')\n",
        "            "
      ],
      "metadata": {
        "id": "fhOn2XoCxzRq"
      },
      "execution_count": null,
      "outputs": []
    },
    {
      "cell_type": "code",
      "source": [
        "def load_or_create(envs: gym.vector.VectorEnv, hidden_sizes: list=[24,24], agent_path: str=\"\"):\n",
        "  if agent_path:\n",
        "    return Agent((envs.observation_space.shape[1],), # I have to use this trick, because if I apply a transform wrapper to the env, the single_obs ttrib is not changed properly...\n",
        "                  envs.single_action_space.n, \n",
        "                  envs.num_envs,\n",
        "                  hidden_sizes=hidden_sizes,\n",
        "                  model_path=agent_path)\n",
        "  else:\n",
        "    return Agent((envs.observation_space.shape[1],), \n",
        "                  envs.single_action_space.n, \n",
        "                  envs.num_envs,\n",
        "                  hidden_sizes=hidden_sizes)"
      ],
      "metadata": {
        "id": "ENNT6ZJix24j"
      },
      "execution_count": null,
      "outputs": []
    },
    {
      "cell_type": "code",
      "source": [
        "class ReplayBuffer:\n",
        "    \"\"\"\n",
        "    A class to store and sample from a replay buffer.\n",
        "    \"\"\"\n",
        "    def __init__(self, size: int = 1000000):\n",
        "        \"\"\"\n",
        "        Initialize the replay buffer with a maximum size.\n",
        "        :param size: maximum size of the replay buffer, default is 1000000\n",
        "        \"\"\"\n",
        "        self.memory = deque(maxlen=size)\n",
        "        \n",
        "    def remember(self, states: np.ndarray, actions: np.ndarray, \n",
        "                 rewards: np.ndarray, next_states: np.ndarray, \n",
        "                 truncs: np.ndarray, dones: np.ndarray):\n",
        "        \"\"\"\n",
        "        Append a new experience to the replay buffer.\n",
        "        :param states: states of the environment\n",
        "        :param actions: actions taken by the agent\n",
        "        :param rewards: rewards received\n",
        "        :param next_states: next states of the environment\n",
        "        :param truncs: flag indicating if the episode was truncated\n",
        "        :param dones: flag indicating if the episode was done\n",
        "        \"\"\"\n",
        "        self.memory.append((states, actions, rewards, next_states, truncs, dones))\n",
        "        \n",
        "    def sample(self, num: int = 32):\n",
        "        \"\"\"\n",
        "        Sample 'num' experiences from the replay buffer.\n",
        "        :param num: number of experiences to sample, default is 32\n",
        "        :return: a list of 'num' randomly chosen experiences\n",
        "        \"\"\"\n",
        "        num = min(num, len(self.memory))\n",
        "        return random.sample(self.memory, num)"
      ],
      "metadata": {
        "id": "cJ8Rv34Zx4RK"
      },
      "execution_count": null,
      "outputs": []
    },
    {
      "cell_type": "code",
      "source": [
        "def plot_history(history:pd.DataFrame, name: str):\n",
        "  history[\"mean\"].plot(xlabel=\"Epochs\", ylabel=\"Average Rewards Earned (with std)\", title=\"Average Rewards Eearned per Epoch\")\n",
        "  plt.fill_between(history[\"mean\"].index, history[\"mean\"]-history[\"std\"], history[\"mean\"]+history[\"std\"], alpha=0.2)\n",
        "  plt.savefig(f\"{name}_performance.png\")"
      ],
      "metadata": {
        "id": "B7rBj0Yxx5my"
      },
      "execution_count": null,
      "outputs": []
    },
    {
      "cell_type": "code",
      "source": [
        "def test(envs, agent: Agent, agent_path: str=\"\", episodes: int=100):\n",
        "  if not agent:\n",
        "    agent = Agent(model_path=agent_path)\n",
        "  \n",
        "  history = []\n",
        "  states, info = envs.reset()\n",
        "  episode_rewards = 0\n",
        "\n",
        "  # with tqdm(total=episodes) as pbar:\n",
        "  while len(history) < episodes:\n",
        "    actions = agent.act(states)\n",
        "    next_states, rewards, dones, truncs, infos = envs.step(actions)\n",
        "\n",
        "    for i in range(envs.num_envs):\n",
        "      if dones[i]:\n",
        "        rewards[i] = 100 if rewards[i] else -100\n",
        "      \n",
        "      if (states[i] == next_states[i]).all():\n",
        "        rewards[i] = -1\n",
        "\n",
        "    episode_rewards += rewards\n",
        "\n",
        "    # print(states)\n",
        "    # print(next_states)\n",
        "    # print(episode_rewards)\n",
        "\n",
        "    states = next_states\n",
        "\n",
        "    if np.any(dones) or np.any(truncs):\n",
        "      for i in range(envs.num_envs):\n",
        "        if dones[i] or truncs[i]:\n",
        "          history.append(episode_rewards[i])\n",
        "          episode_rewards[i] = 0\n",
        "\n",
        "  return (np.mean(history), np.std(history))"
      ],
      "metadata": {
        "id": "sv3DU_ncx8j4"
      },
      "execution_count": null,
      "outputs": []
    },
    {
      "cell_type": "code",
      "source": [
        "def train(envs, agent, buffer, n_turns: int):\n",
        "  state, info = envs.reset()\n",
        "  agent.reset_epsilon()\n",
        "  for t in trange(n_turns):\n",
        "    if t%10 == 0:          \n",
        "      agent.synchronize()\n",
        "      \n",
        "    action = agent.explore_or_act(state)\n",
        "    state_next, reward, done, trunc, info = envs.step(action)\n",
        "\n",
        "    for i in range(envs.num_envs):\n",
        "      if done[i]:\n",
        "        reward[i] = 100 if reward[i] else -100\n",
        "      \n",
        "      if (state[i] == state_next[i]).all():\n",
        "        reward[i] = -1\n",
        "\n",
        "\n",
        "    buffer.remember(state, action, reward, state_next, trunc, done)\n",
        "    state = state_next\n",
        "    \n",
        "    agent.decay_epsilon(t/n_turns)\n",
        "\n",
        "    for batch in buffer.sample(1):\n",
        "      agent.update(*batch)\n",
        "  \n",
        "  return (buffer, agent)"
      ],
      "metadata": {
        "id": "II30OCKtx-Xq"
      },
      "execution_count": null,
      "outputs": []
    },
    {
      "cell_type": "code",
      "source": [
        "def run(name: str, envs, agent, buffer, epochs, steps_per_epoch):   \n",
        "  averages = []\n",
        "  variations = []\n",
        "\n",
        "  for e in range(epochs): \n",
        "    print(f\"######## Epoch {e} ########\")\n",
        "    buffer, agent = train(envs, agent, buffer, steps_per_epoch)\n",
        "    \n",
        "    print(\"Test score:\", end=\" \")\n",
        "    mean_rewards, std_rewards = test(envs, agent, episodes=envs.num_envs)\n",
        "    print(f\"{round(mean_rewards,2)} rewards +/- {round(std_rewards,2)}\\n\")\n",
        "    \n",
        "    averages.append(mean_rewards)\n",
        "    variations.append(std_rewards)\n",
        "\n",
        "  agent_path = os.path.join(\"models\", name)\n",
        "  agent.save(agent_path)\n",
        "  print(f\"Agent saved to: {agent_path}\")\n",
        "\n",
        "  return pd.DataFrame(\n",
        "      {\n",
        "        \"mean\": averages,\n",
        "        \"std\": variations\n",
        "      }\n",
        "  )"
      ],
      "metadata": {
        "id": "Z0G_ghVMx_iy"
      },
      "execution_count": null,
      "outputs": []
    },
    {
      "cell_type": "code",
      "source": [
        "envs = setup_frozenlake_env(4)"
      ],
      "metadata": {
        "id": "5Hnrd82E4-bu"
      },
      "execution_count": null,
      "outputs": []
    },
    {
      "cell_type": "code",
      "source": [
        "%%time\n",
        "n_envs = 30\n",
        "envs = setup_frozenlake_env(n_envs)\n",
        "# I have to use that trick because the observation space is not redefined \n",
        "# uppon using an observation wrapper...\n",
        "envs.observation_space = envs.reset()[0]\n",
        "\n",
        "agent = load_or_create(envs, hidden_sizes=[256,256])\n",
        "\n",
        "buffer = ReplayBuffer()\n",
        "\n",
        "print(\"Initial test score:\", end=\" \")\n",
        "mean_rewards, std_rewards = test(envs, agent, episodes=envs.num_envs)\n",
        "print(f\"{round(mean_rewards,2)} rewards +/- {round(std_rewards,2)}\\n\")\n",
        "\n",
        "history = run(\"FrozenLake_dqn\", envs, agent, buffer, epochs=5, steps_per_epoch=2000)"
      ],
      "metadata": {
        "colab": {
          "base_uri": "https://localhost:8080/",
          "height": 562,
          "referenced_widgets": [
            "658138f6004a44a8a12718fe95b7ebda",
            "a92355cbef4846d2bc9adf1fab23e579",
            "a8ccd9414ff64dca95be963535013512",
            "76ae3be14b5a432e93e6a041b098e1ca",
            "9a648e3a1175494b8ae5525c9a8be238",
            "3fe0217f28d946169c41e33fb4db756c",
            "f9d9e50e62db44238a5e0d384ec45819",
            "2781cd5c7f354e9897ceaed7529f1a81",
            "fae9f317847c441a82c17027e3bec09b",
            "aa763024deba48e0b247b1198ec7bfef",
            "7bbc0661f8a74510b21f3dc383af6190",
            "a7caec5c72cf46319d89e03c751cd355",
            "7a2281174e6149bf8bdfb703ad6600ab",
            "ad5b99b3645a46ba924f96914d7e8f64",
            "fef31dedb87d455c90450b1dad736204",
            "d950ea0efb9c4d2b997c54223393b603",
            "1327f2925e0d47639d9e812b0baa8eba",
            "add93c3797904ab6b92e0158b31ad522",
            "f290ccc7fbac44ceb6eae8c240598441",
            "9d5dd1a43c7646499ec3a7691af5605c",
            "0666ff800cef4006a73c0eb8361937aa",
            "c865767e0e364188a057f03b678a3b19",
            "9f9b79d4bd72438f8464ce5831c99968",
            "37a9c171cdab476a96624e426051e62a",
            "3bfbf18dde0e4bcca668b56f7c621c67",
            "e5c93e6bb4b849349dd499684267b5f9",
            "eda978bbaf1c4e2087e29bee5151dc6d",
            "0dd0ad6e72d64f98a2b84bb6cbc71f96",
            "aa882f3d850248baa4c78dd6fb7837c9",
            "371d74d9e22a4107aea463913d28778e",
            "2613aeaeea2b4d19ac95c1be00c399a3",
            "baa8228136cb469f95756a40da1e2416",
            "be3a008f96404e92ab0a13a67d82b5e9",
            "30230e52fe42435eb822e66c959499b8",
            "55cc91807e964c62bfeadd3128e8f9be",
            "952104b1aab243b786a042a3fb13ed53",
            "a681ac8d658e48e69588c1aa4cc4e726",
            "45dc94b03321405f8a03be7ec8287626",
            "9acd193ab0a04614b5ae253cc9ee88b1",
            "d1aad093723440418d093b7004540922",
            "bb28fb59731c44918defd3b4e0879279",
            "d4352472cac94d379872547d4883c764",
            "f94d001aea484a09af283eca9d9af9e8",
            "b18d479bc32245498781996705e06858",
            "219b90e0cd2741ab95be8dfa7b151c7f",
            "93d45991a61f4a6fbc20ebc0aea413b7",
            "9f94bff8526240f280f9419177c4651f",
            "8c0c0d187e184fb1b9cd1e00e85ec47f",
            "2469450548184662bbc908fd0b57032b",
            "3304862c1dd146248214826f168435a5",
            "543285ba44954485b459583fdfa3a518",
            "8dd6c0e6be26413f86d4911d3b986aa3",
            "239f5bb90af54d8bb20723ed187fa70c",
            "82d7113e1ecf4bad9538a650b14908d3",
            "0663bb47b142433f81af5b6710f84586"
          ]
        },
        "id": "V27vG1oAyAr6",
        "outputId": "adba9e4a-300e-4432-8528-9e635e968e8f"
      },
      "execution_count": null,
      "outputs": [
        {
          "output_type": "stream",
          "name": "stdout",
          "text": [
            "Initial test score: -100.0 rewards +/- 0.0\n",
            "\n",
            "######## Epoch 0 ########\n"
          ]
        },
        {
          "output_type": "display_data",
          "data": {
            "text/plain": [
              "  0%|          | 0/2000 [00:00<?, ?it/s]"
            ],
            "application/vnd.jupyter.widget-view+json": {
              "version_major": 2,
              "version_minor": 0,
              "model_id": "658138f6004a44a8a12718fe95b7ebda"
            }
          },
          "metadata": {}
        },
        {
          "output_type": "stream",
          "name": "stdout",
          "text": [
            "Test score: 0.0 rewards +/- 0.0\n",
            "\n",
            "######## Epoch 1 ########\n"
          ]
        },
        {
          "output_type": "display_data",
          "data": {
            "text/plain": [
              "  0%|          | 0/2000 [00:00<?, ?it/s]"
            ],
            "application/vnd.jupyter.widget-view+json": {
              "version_major": 2,
              "version_minor": 0,
              "model_id": "a7caec5c72cf46319d89e03c751cd355"
            }
          },
          "metadata": {}
        },
        {
          "output_type": "stream",
          "name": "stdout",
          "text": [
            "Test score: 0.0 rewards +/- 0.0\n",
            "\n",
            "######## Epoch 2 ########\n"
          ]
        },
        {
          "output_type": "display_data",
          "data": {
            "text/plain": [
              "  0%|          | 0/2000 [00:00<?, ?it/s]"
            ],
            "application/vnd.jupyter.widget-view+json": {
              "version_major": 2,
              "version_minor": 0,
              "model_id": "9f9b79d4bd72438f8464ce5831c99968"
            }
          },
          "metadata": {}
        },
        {
          "output_type": "stream",
          "name": "stdout",
          "text": [
            "Test score: 100.0 rewards +/- 0.0\n",
            "\n",
            "######## Epoch 3 ########\n"
          ]
        },
        {
          "output_type": "display_data",
          "data": {
            "text/plain": [
              "  0%|          | 0/2000 [00:00<?, ?it/s]"
            ],
            "application/vnd.jupyter.widget-view+json": {
              "version_major": 2,
              "version_minor": 0,
              "model_id": "30230e52fe42435eb822e66c959499b8"
            }
          },
          "metadata": {}
        },
        {
          "output_type": "stream",
          "name": "stdout",
          "text": [
            "Test score: 100.0 rewards +/- 0.0\n",
            "\n",
            "######## Epoch 4 ########\n"
          ]
        },
        {
          "output_type": "display_data",
          "data": {
            "text/plain": [
              "  0%|          | 0/2000 [00:00<?, ?it/s]"
            ],
            "application/vnd.jupyter.widget-view+json": {
              "version_major": 2,
              "version_minor": 0,
              "model_id": "219b90e0cd2741ab95be8dfa7b151c7f"
            }
          },
          "metadata": {}
        },
        {
          "output_type": "stream",
          "name": "stdout",
          "text": [
            "Test score: "
          ]
        },
        {
          "output_type": "stream",
          "name": "stderr",
          "text": [
            "WARNING:tensorflow:Compiled the loaded model, but the compiled metrics have yet to be built. `model.compile_metrics` will be empty until you train or evaluate the model.\n"
          ]
        },
        {
          "output_type": "stream",
          "name": "stdout",
          "text": [
            "100.0 rewards +/- 0.0\n",
            "\n",
            "Agent saved to: models/FrozenLake_dqn\n",
            "CPU times: user 10min 13s, sys: 24.2 s, total: 10min 37s\n",
            "Wall time: 11min 17s\n"
          ]
        }
      ]
    },
    {
      "cell_type": "code",
      "source": [
        "plot_history(history, \"frozenlake_dqn\")"
      ],
      "metadata": {
        "colab": {
          "base_uri": "https://localhost:8080/",
          "height": 295
        },
        "id": "7bVIeaWoyDgg",
        "outputId": "8443f2cb-ce99-49e0-85a4-9bb51124604c"
      },
      "execution_count": null,
      "outputs": [
        {
          "output_type": "display_data",
          "data": {
            "text/plain": [
              "<Figure size 432x288 with 1 Axes>"
            ],
            "image/png": "[encoded data removed]"
          },
          "metadata": {
            "needs_background": "light"
          }
        }
      ]
    },
    {
      "cell_type": "code",
      "source": [
        "agent.Q.summary()"
      ],
      "metadata": {
        "colab": {
          "base_uri": "https://localhost:8080/"
        },
        "id": "P2mfYiNIyFwq",
        "outputId": "ebf21e91-3cb1-4187-909e-fe0e08cd22c2"
      },
      "execution_count": null,
      "outputs": [
        {
          "output_type": "stream",
          "name": "stdout",
          "text": [
            "Model: \"sequential_10\"\n",
            "_________________________________________________________________\n",
            " Layer (type)                Output Shape              Param #   \n",
            "=================================================================\n",
            " dense_30 (Dense)            (None, 256)               4352      \n",
            "                                                                 \n",
            " dense_31 (Dense)            (None, 256)               65792     \n",
            "                                                                 \n",
            " dense_32 (Dense)            (None, 4)                 1028      \n",
            "                                                                 \n",
            "=================================================================\n",
            "Total params: 71,172\n",
            "Trainable params: 71,172\n",
            "Non-trainable params: 0\n",
            "_________________________________________________________________\n"
          ]
        }
      ]
    },
    {
      "cell_type": "code",
      "source": [],
      "metadata": {
        "id": "lhFtAmTi40t1"
      },
      "execution_count": null,
      "outputs": []
    }
  ]
}