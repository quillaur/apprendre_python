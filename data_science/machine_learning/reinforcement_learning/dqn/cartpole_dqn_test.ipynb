{
  "cells": [
    {
      "cell_type": "markdown",
      "metadata": {
        "id": "view-in-github",
        "colab_type": "text"
      },
      "source": [
        "<a href=\"https://colab.research.google.com/github/quillaur/data_learning/blob/main/data_science/machine_learning/reinforcement_learning/dqn/cartpole_dqn_test.ipynb\" target=\"_parent\"><img src=\"https://colab.research.google.com/assets/colab-badge.svg\" alt=\"Open In Colab\"/></a>"
      ]
    },
    {
      "cell_type": "markdown",
      "source": [
        "https://alexandervandekleut.github.io/deep-q-learning/"
      ],
      "metadata": {
        "id": "D4A4-SqLoH18"
      }
    },
    {
      "cell_type": "code",
      "execution_count": 62,
      "metadata": {
        "colab": {
          "base_uri": "https://localhost:8080/"
        },
        "id": "YkBifjYELcGm",
        "outputId": "c3041923-817a-4913-bb8c-cae7a9cbb15f"
      },
      "outputs": [
        {
          "output_type": "stream",
          "name": "stdout",
          "text": [
            "Looking in indexes: https://pypi.org/simple, https://us-python.pkg.dev/colab-wheels/public/simple/\n",
            "Requirement already satisfied: gymnasium in /usr/local/lib/python3.8/dist-packages (0.27.1)\n",
            "Requirement already satisfied: typing-extensions>=4.3.0 in /usr/local/lib/python3.8/dist-packages (from gymnasium) (4.4.0)\n",
            "Requirement already satisfied: jax-jumpy>=0.2.0 in /usr/local/lib/python3.8/dist-packages (from gymnasium) (0.2.0)\n",
            "Requirement already satisfied: gymnasium-notices>=0.0.1 in /usr/local/lib/python3.8/dist-packages (from gymnasium) (0.0.1)\n",
            "Requirement already satisfied: numpy>=1.21.0 in /usr/local/lib/python3.8/dist-packages (from gymnasium) (1.21.6)\n",
            "Requirement already satisfied: importlib-metadata>=4.8.0 in /usr/local/lib/python3.8/dist-packages (from gymnasium) (6.0.0)\n",
            "Requirement already satisfied: cloudpickle>=1.2.0 in /usr/local/lib/python3.8/dist-packages (from gymnasium) (2.2.0)\n",
            "Requirement already satisfied: zipp>=0.5 in /usr/local/lib/python3.8/dist-packages (from importlib-metadata>=4.8.0->gymnasium) (3.11.0)\n"
          ]
        }
      ],
      "source": [
        "!pip install gymnasium -U"
      ]
    },
    {
      "cell_type": "code",
      "execution_count": 63,
      "metadata": {
        "colab": {
          "base_uri": "https://localhost:8080/"
        },
        "id": "pkEk6SzdLEF3",
        "outputId": "b296eb5c-bcf5-45f3-e9b9-d54f382e7a04"
      },
      "outputs": [
        {
          "output_type": "stream",
          "name": "stdout",
          "text": [
            "Looking in indexes: https://pypi.org/simple, https://us-python.pkg.dev/colab-wheels/public/simple/\n",
            "Requirement already satisfied: gym[classic_control] in /usr/local/lib/python3.8/dist-packages (0.25.2)\n",
            "Requirement already satisfied: numpy>=1.18.0 in /usr/local/lib/python3.8/dist-packages (from gym[classic_control]) (1.21.6)\n",
            "Requirement already satisfied: gym-notices>=0.0.4 in /usr/local/lib/python3.8/dist-packages (from gym[classic_control]) (0.0.8)\n",
            "Requirement already satisfied: cloudpickle>=1.2.0 in /usr/local/lib/python3.8/dist-packages (from gym[classic_control]) (2.2.0)\n",
            "Requirement already satisfied: importlib-metadata>=4.8.0 in /usr/local/lib/python3.8/dist-packages (from gym[classic_control]) (6.0.0)\n",
            "Requirement already satisfied: pygame==2.1.0 in /usr/local/lib/python3.8/dist-packages (from gym[classic_control]) (2.1.0)\n",
            "Requirement already satisfied: zipp>=0.5 in /usr/local/lib/python3.8/dist-packages (from importlib-metadata>=4.8.0->gym[classic_control]) (3.11.0)\n"
          ]
        }
      ],
      "source": [
        "pip install gym[classic_control]"
      ]
    },
    {
      "cell_type": "code",
      "source": [
        "import numpy as np\n",
        "import tensorflow as tf\n",
        "import gymnasium as gym\n",
        "import matplotlib.pyplot as plt\n",
        "import seaborn as sns\n",
        "from tqdm.notebook import trange, tqdm\n",
        "from collections import deque, defaultdict\n",
        "import random\n",
        "import pandas as pd\n",
        "import os\n",
        "import time"
      ],
      "metadata": {
        "id": "ETL3wBAvk1MO"
      },
      "execution_count": 65,
      "outputs": []
    },
    {
      "cell_type": "code",
      "source": [
        "class ReplayBuffer:\n",
        "    def __init__(self, size=1000000):\n",
        "        self.memory = deque(maxlen=size)\n",
        "        \n",
        "    def remember(self, s_t, a_t, r_t, s_t_next, trunc, d_t):\n",
        "        self.memory.append((s_t, a_t, r_t, s_t_next, trunc, d_t))\n",
        "        \n",
        "    def sample(self, num=32):\n",
        "        num = min(num, len(self.memory))\n",
        "        return random.sample(self.memory, num)"
      ],
      "metadata": {
        "id": "pKotbtJIah8y"
      },
      "execution_count": 66,
      "outputs": []
    },
    {
      "cell_type": "code",
      "source": [
        "class Agent:\n",
        "    def __init__(self, state_shape=0, num_actions=0, num_envs=0, alpha=0.001, gamma=0.95, \n",
        "                 epsilon_i=1.0, epsilon_f=0.01, n_epsilon=0.1, hidden_sizes = [], model_path = \"\"):\n",
        "        self.epsilon_i = epsilon_i\n",
        "        self.epsilon_f = epsilon_f\n",
        "        self.n_epsilon = n_epsilon\n",
        "        self.epsilon = epsilon_i\n",
        "        self.discount_factor = gamma\n",
        "        self.learning_rate = alpha\n",
        "\n",
        "        self.num_actions = num_actions\n",
        "        self.state_shape = state_shape\n",
        "        self.num_envs = num_envs\n",
        "\n",
        "        if model_path:\n",
        "          self.Q = self.load_model(model_path)\n",
        "        else:\n",
        "          self.Q = self.create_model(hidden_sizes)\n",
        "          # target network\n",
        "          self.Q_ = self.create_model(hidden_sizes)\n",
        "          self.optimizer = tf.keras.optimizers.Adam(alpha)\n",
        "    \n",
        "    def create_model(self, hidden_sizes):\n",
        "      model = tf.keras.models.Sequential()\n",
        "      model.add(tf.keras.layers.Input(shape=self.state_shape))\n",
        "      for size in hidden_sizes:\n",
        "          model.add(tf.keras.layers.Dense(size, activation='relu', use_bias='false', kernel_initializer='he_uniform', dtype='float64'))\n",
        "      model.add(tf.keras.layers.Dense(self.num_actions, activation=\"linear\", use_bias='false', kernel_initializer='zeros', dtype='float64'))\n",
        "\n",
        "      return model\n",
        "    \n",
        "    def load_model(self, model_path):\n",
        "      return tf.keras.models.load_model(model_path)\n",
        "    \n",
        "    def synchronize(self):\n",
        "        self.Q_.set_weights(self.Q.get_weights())\n",
        "\n",
        "    def explore_or_act(self, s_t):\n",
        "        if np.random.rand() < self.epsilon:\n",
        "            return np.random.randint(self.num_actions, size=self.num_envs)\n",
        "\n",
        "        preds = self.Q.predict(s_t, verbose=0)\n",
        "        # print(preds.shape)\n",
        "        return np.argmax(preds, axis=1)\n",
        "    \n",
        "    def act(self, states):\n",
        "      preds = self.Q.predict(states, verbose=0)\n",
        "      return np.argmax(preds, axis=1)\n",
        "    \n",
        "    def decay_epsilon(self, n):\n",
        "        self.epsilon = max(\n",
        "            self.epsilon_f, \n",
        "            self.epsilon_i - (n/self.n_epsilon)*(self.epsilon_i - self.epsilon_f))\n",
        "\n",
        "    def update(self, s_t, a_t, r_t, s_t_next, truncs, d_t):\n",
        "      with tf.GradientTape() as tape:\n",
        "          Q_next = tf.stop_gradient(tf.reduce_max(self.Q_(s_t_next), axis=1)) # note we use Q_ \n",
        "          Q_pred = tf.reduce_sum(self.Q(s_t)*tf.one_hot(a_t, self.num_actions, dtype=tf.float64), axis=1)\n",
        "          loss = tf.reduce_mean(0.5*(r_t + (1-(d_t.any() or truncs.any()))*self.discount_factor*Q_next - Q_pred)**2)\n",
        "      grads = tape.gradient(loss, self.Q.trainable_variables)\n",
        "      self.optimizer.apply_gradients(zip(grads, self.Q.trainable_variables))\n",
        "    \n",
        "    def save(self, model_name:str):\n",
        "      self.Q.save(f'dqn_{model_name}')\n",
        "            "
      ],
      "metadata": {
        "id": "qtOvM7DHlAjO"
      },
      "execution_count": 67,
      "outputs": []
    },
    {
      "cell_type": "code",
      "source": [
        "def train(env_name, env_params, agent_params, save_model: bool=True, show_image: bool=True):\n",
        "    env = gym.vector.make(env_name, asynchronous=True, num_envs=env_params[\"num_envs\"])\n",
        "    state_shape = env.single_observation_space.shape\n",
        "    num_actions = env.single_action_space.n\n",
        "    \n",
        "    agent = Agent(state_shape, num_actions, env_params[\"num_envs\"], \n",
        "                  alpha=agent_params[\"learning_rate\"], \n",
        "                  hidden_sizes=agent_params[\"hidden_sizes\"], \n",
        "                  gamma=agent_params[\"reward_discount\"])\n",
        "    \n",
        "    buffer = ReplayBuffer()\n",
        "    \n",
        "    rewards = []\n",
        "    episode_rewards = 0\n",
        "\n",
        "    state, info = env.reset()\n",
        "    for t in trange(env_params[\"T\"]):\n",
        "        if t%agent_params[\"sync_every\"] == 0:          \n",
        "          agent.synchronize()\n",
        "        \n",
        "        action = agent.explore_or_act(state)\n",
        "        state_next, reward, done, trunc, info = env.step(action)\n",
        "        buffer.remember(state, action, reward, state_next, trunc, done)\n",
        "        state = state_next\n",
        "\n",
        "        for batch in buffer.sample(env_params[\"batch_size\"]):\n",
        "          agent.update(*batch)\n",
        "        \n",
        "        agent.decay_epsilon(t/env_params[\"T\"])\n",
        "        episode_rewards += reward\n",
        "\n",
        "        if np.any(done) or np.any(trunc):\n",
        "          for i in range(env_params[\"num_envs\"]):\n",
        "              if done[i] or trunc[i]:\n",
        "                  rewards.append(episode_rewards[i])\n",
        "                  episode_rewards[i] = 0\n",
        "    \n",
        "    history = pd.DataFrame()\n",
        "    history[\"rewards\"] = rewards\n",
        "    history[\"rolling\"] = history.rolling(window=agent_params['sync_every']).mean()\n",
        "    \n",
        "\n",
        "    exp_name = f\"t{env_params['T']}_ne{env_params['num_envs']}_\"\n",
        "    exp_name += f\"bs{env_params['batch_size']}_se{agent_params['sync_every']}_\"\n",
        "    for n in agent_params['hidden_sizes']:\n",
        "      exp_name += f\"nn{n}_\"\n",
        "    exp_name += f\"lr{int(agent_params['learning_rate']*100)}_\"\n",
        "    exp_name += f\"rd{int(agent_params['reward_discount']*100)}\"\n",
        "    \n",
        "    if save_model:\n",
        "      agent_name = os.path.join(\"models\", exp_name)\n",
        "      agent.save(agent_name)\n",
        "\n",
        "    if not os.path.exists('/content/figures'):\n",
        "      os.makedirs('/content/figures')\n",
        "\n",
        "    if show_image:\n",
        "      ax = history.plot(title=exp_name, xlabel=\"Training game #\", ylabel=\"Rewards earned\", ylim=(0,500))\n",
        "      figname = os.path.join(\"figures\", exp_name)\n",
        "      ax.figure.savefig(f\"{exp_name}.png\")\n",
        "    \n",
        "    return (agent, history)"
      ],
      "metadata": {
        "id": "ESRYHR_GlDn4"
      },
      "execution_count": 68,
      "outputs": []
    },
    {
      "cell_type": "code",
      "source": [
        "env_params = {\n",
        "    \"T\": 2000,\n",
        "    \"num_envs\": 32,\n",
        "    \"batch_size\": 3,\n",
        "}\n",
        "\n",
        "agent_params = {\n",
        "    \"hidden_sizes\": [48,24],\n",
        "    \"learning_rate\": 0.001,\n",
        "    \"reward_discount\": 0.95,\n",
        "    \"sync_every\": 100\n",
        "}"
      ],
      "metadata": {
        "id": "fOJ-uuTPxsvR"
      },
      "execution_count": 69,
      "outputs": []
    },
    {
      "cell_type": "code",
      "source": [
        "agent, history = train(\"CartPole-v1\", env_params, agent_params)"
      ],
      "metadata": {
        "colab": {
          "base_uri": "https://localhost:8080/",
          "height": 365,
          "referenced_widgets": [
            "100388f5457844fa9c9cd6e111d4e858",
            "3a0c12ec0a8a4f8896b490a5509a0a6c",
            "5553081adb6b466e9877c802d98856ac",
            "d0dccd3117374e00b494cf8e58d5bf4e",
            "8f67eecee2c446bbbaba03be5fc4b4e5",
            "133d11fe8c5242dea343526254af8765",
            "a88936694bf8461d8c489287218bf7aa",
            "fff8d28ba1814d2f98d86a271ab6b1a3",
            "fac677bb757d4e75b67a59d8e1740085",
            "ddcb39e3f9804c238f7fb74886fac7d6",
            "b53d908c59ad41a4b5cbafccf5f5b29c"
          ]
        },
        "id": "nh1BHS5zqCTv",
        "outputId": "53fb7eec-03af-4f4f-8876-f14ad74eb4ec"
      },
      "execution_count": 70,
      "outputs": [
        {
          "output_type": "display_data",
          "data": {
            "text/plain": [
              "  0%|          | 0/2000 [00:00<?, ?it/s]"
            ],
            "application/vnd.jupyter.widget-view+json": {
              "version_major": 2,
              "version_minor": 0,
              "model_id": "100388f5457844fa9c9cd6e111d4e858"
            }
          },
          "metadata": {}
        },
        {
          "output_type": "stream",
          "name": "stderr",
          "text": [
            "WARNING:tensorflow:Compiled the loaded model, but the compiled metrics have yet to be built. `model.compile_metrics` will be empty until you train or evaluate the model.\n"
          ]
        },
        {
          "output_type": "display_data",
          "data": {
            "text/plain": [
              "<Figure size 432x288 with 1 Axes>"
            ],
            "image/png": "[encoded data removed]"
          },
          "metadata": {
            "needs_background": "light"
          }
        }
      ]
    },
    {
      "cell_type": "code",
      "source": [
        "agent.Q.summary()"
      ],
      "metadata": {
        "colab": {
          "base_uri": "https://localhost:8080/"
        },
        "id": "neGmpFQ6Z0D4",
        "outputId": "caf269c5-396d-490d-95f1-e9b3d801bafb"
      },
      "execution_count": 71,
      "outputs": [
        {
          "output_type": "stream",
          "name": "stdout",
          "text": [
            "Model: \"sequential_28\"\n",
            "_________________________________________________________________\n",
            " Layer (type)                Output Shape              Param #   \n",
            "=================================================================\n",
            " dense_90 (Dense)            (None, 48)                240       \n",
            "                                                                 \n",
            " dense_91 (Dense)            (None, 24)                1176      \n",
            "                                                                 \n",
            " dense_92 (Dense)            (None, 2)                 50        \n",
            "                                                                 \n",
            "=================================================================\n",
            "Total params: 1,466\n",
            "Trainable params: 1,466\n",
            "Non-trainable params: 0\n",
            "_________________________________________________________________\n"
          ]
        }
      ]
    },
    {
      "cell_type": "code",
      "source": [
        "# !zip -r /content/t20000_ne10_bs16.zip /content/dqn_dqn_models/t20000_ne10_bs16"
      ],
      "metadata": {
        "id": "iXQIsi_g5-Lu"
      },
      "execution_count": null,
      "outputs": []
    },
    {
      "cell_type": "code",
      "source": [
        "def test(env_name: str, agent: Agent, agent_path: str, episodes: int):\n",
        "  if not agent:\n",
        "    agent = Agent(model_path=agent_path)\n",
        "  \n",
        "  envs = gym.vector.make(env_name, asynchronous=True, num_envs=episodes)\n",
        "  history = []\n",
        "  states, info = envs.reset()\n",
        "  episode_rewards = 0\n",
        "\n",
        "  with tqdm(total=episodes) as pbar:\n",
        "    while len(history) < episodes:\n",
        "      actions = agent.act(states)\n",
        "      states, rewards, dones, truncs, infos = envs.step(actions)\n",
        "      episode_rewards += rewards\n",
        "\n",
        "      if np.any(dones) or np.any(truncs):\n",
        "        for i in range(episodes):\n",
        "          if dones[i] or truncs[i]:\n",
        "            history.append(episode_rewards[i])\n",
        "            episode_rewards[i] = 0\n",
        "      \n",
        "      pbar.update(len(history))\n",
        "\n",
        "  return history"
      ],
      "metadata": {
        "id": "4lS8Pxuh3jOw"
      },
      "execution_count": 72,
      "outputs": []
    },
    {
      "cell_type": "code",
      "source": [
        "history = test(\"CartPole-v1\", None, \"/content/dqn_models/t2000_ne32_bs3_se100_nn48_nn24_lr0_rd95\", 100)"
      ],
      "metadata": {
        "colab": {
          "base_uri": "https://localhost:8080/",
          "height": 67,
          "referenced_widgets": [
            "e4957efa03f14db787af9d512a2de377",
            "1418082dfd4a43fe897f6b3977047157",
            "ceabdca7422a47d7a16bb708c45ce7ae",
            "eb6d5b9c5c414802b7bcddbb431d250f",
            "e73aaae97960480e9e73c3f7cf47849c",
            "e7ddb412b76842808c2ba4aa36044e2b",
            "2a0d7ee547d44d6886de06eb65e7f734",
            "d38e51971efa4159af140aa73777e138",
            "f4ab9fa3cac64bfd9a1928fa8ed213d6",
            "8e420be9a3224549987fcb1b8ad28e59",
            "6c8996a819754a12b7c94bc9ff45f097"
          ]
        },
        "id": "xCI6ZkAJElzt",
        "outputId": "e2f7feac-02dd-443c-dffb-aa5eec514425"
      },
      "execution_count": 74,
      "outputs": [
        {
          "output_type": "stream",
          "name": "stderr",
          "text": [
            "WARNING:tensorflow:No training configuration found in save file, so the model was *not* compiled. Compile it manually.\n"
          ]
        },
        {
          "output_type": "display_data",
          "data": {
            "text/plain": [
              "  0%|          | 0/100 [00:00<?, ?it/s]"
            ],
            "application/vnd.jupyter.widget-view+json": {
              "version_major": 2,
              "version_minor": 0,
              "model_id": "e4957efa03f14db787af9d512a2de377"
            }
          },
          "metadata": {}
        }
      ]
    },
    {
      "cell_type": "code",
      "source": [
        "print(np.mean(history))\n",
        "print(np.std(history))"
      ],
      "metadata": {
        "colab": {
          "base_uri": "https://localhost:8080/"
        },
        "id": "UrX5k5Tnq8nI",
        "outputId": "58a77702-e333-4eb6-8e0f-1938184da90b"
      },
      "execution_count": 75,
      "outputs": [
        {
          "output_type": "stream",
          "name": "stdout",
          "text": [
            "489.7\n",
            "35.170015638324635\n"
          ]
        }
      ]
    },
    {
      "cell_type": "code",
      "source": [
        "plt.plot(history)"
      ],
      "metadata": {
        "colab": {
          "base_uri": "https://localhost:8080/",
          "height": 283
        },
        "id": "zFwJYvIPVoiI",
        "outputId": "c5101038-f8b0-4ca6-cece-f4d215ad8edd"
      },
      "execution_count": 76,
      "outputs": [
        {
          "output_type": "execute_result",
          "data": {
            "text/plain": [
              "[<matplotlib.lines.Line2D at 0x7f393bbd6310>]"
            ]
          },
          "metadata": {},
          "execution_count": 76
        },
        {
          "output_type": "display_data",
          "data": {
            "text/plain": [
              "<Figure size 432x288 with 1 Axes>"
            ],
            "image/png": "[encoded data removed]"
          },
          "metadata": {
            "needs_background": "light"
          }
        }
      ]
    },
    {
      "cell_type": "code",
      "source": [],
      "metadata": {
        "id": "Bl7yRUBzPBAO"
      },
      "execution_count": null,
      "outputs": []
    }
  ],
  "metadata": {
    "colab": {
      "provenance": [],
      "include_colab_link": true
    },
    "kernelspec": {
      "display_name": "pyvenv",
      "language": "python",
      "name": "python3"
    },
    "language_info": {
      "codemirror_mode": {
        "name": "ipython",
        "version": 3
      },
      "file_extension": ".py",
      "mimetype": "text/x-python",
      "name": "python",
      "nbconvert_exporter": "python",
      "pygments_lexer": "ipython3",
      "version": "3.9.16"
    },
    "vscode": {
      "interpreter": {
        "hash": "f6676973a75d45e448096e9f52280ad90d9d619291e0200eff65a5cc6d292e30"
      }
    },
    "widgets": {
      "application/vnd.jupyter.widget-state+json": {
        "100388f5457844fa9c9cd6e111d4e858": {
          "model_module": "@jupyter-widgets/controls",
          "model_name": "HBoxModel",
          "model_module_version": "1.5.0",
          "state": {
            "_dom_classes": [],
            "_model_module": "@jupyter-widgets/controls",
            "_model_module_version": "1.5.0",
            "_model_name": "HBoxModel",
            "_view_count": null,
            "_view_module": "@jupyter-widgets/controls",
            "_view_module_version": "1.5.0",
            "_view_name": "HBoxView",
            "box_style": "",
            "children": [
              "IPY_MODEL_3a0c12ec0a8a4f8896b490a5509a0a6c",
              "IPY_MODEL_5553081adb6b466e9877c802d98856ac",
              "IPY_MODEL_d0dccd3117374e00b494cf8e58d5bf4e"
            ],
            "layout": "IPY_MODEL_8f67eecee2c446bbbaba03be5fc4b4e5"
          }
        },
        "3a0c12ec0a8a4f8896b490a5509a0a6c": {
          "model_module": "@jupyter-widgets/controls",
          "model_name": "HTMLModel",
          "model_module_version": "1.5.0",
          "state": {
            "_dom_classes": [],
            "_model_module": "@jupyter-widgets/controls",
            "_model_module_version": "1.5.0",
            "_model_name": "HTMLModel",
            "_view_count": null,
            "_view_module": "@jupyter-widgets/controls",
            "_view_module_version": "1.5.0",
            "_view_name": "HTMLView",
            "description": "",
            "description_tooltip": null,
            "layout": "IPY_MODEL_133d11fe8c5242dea343526254af8765",
            "placeholder": "​",
            "style": "IPY_MODEL_a88936694bf8461d8c489287218bf7aa",
            "value": "100%"
          }
        },
        "5553081adb6b466e9877c802d98856ac": {
          "model_module": "@jupyter-widgets/controls",
          "model_name": "FloatProgressModel",
          "model_module_version": "1.5.0",
          "state": {
            "_dom_classes": [],
            "_model_module": "@jupyter-widgets/controls",
            "_model_module_version": "1.5.0",
            "_model_name": "FloatProgressModel",
            "_view_count": null,
            "_view_module": "@jupyter-widgets/controls",
            "_view_module_version": "1.5.0",
            "_view_name": "ProgressView",
            "bar_style": "success",
            "description": "",
            "description_tooltip": null,
            "layout": "IPY_MODEL_fff8d28ba1814d2f98d86a271ab6b1a3",
            "max": 2000,
            "min": 0,
            "orientation": "horizontal",
            "style": "IPY_MODEL_fac677bb757d4e75b67a59d8e1740085",
            "value": 2000
          }
        },
        "d0dccd3117374e00b494cf8e58d5bf4e": {
          "model_module": "@jupyter-widgets/controls",
          "model_name": "HTMLModel",
          "model_module_version": "1.5.0",
          "state": {
            "_dom_classes": [],
            "_model_module": "@jupyter-widgets/controls",
            "_model_module_version": "1.5.0",
            "_model_name": "HTMLModel",
            "_view_count": null,
            "_view_module": "@jupyter-widgets/controls",
            "_view_module_version": "1.5.0",
            "_view_name": "HTMLView",
            "description": "",
            "description_tooltip": null,
            "layout": "IPY_MODEL_ddcb39e3f9804c238f7fb74886fac7d6",
            "placeholder": "​",
            "style": "IPY_MODEL_b53d908c59ad41a4b5cbafccf5f5b29c",
            "value": " 2000/2000 [02:27&lt;00:00, 13.79it/s]"
          }
        },
        "8f67eecee2c446bbbaba03be5fc4b4e5": {
          "model_module": "@jupyter-widgets/base",
          "model_name": "LayoutModel",
          "model_module_version": "1.2.0",
          "state": {
            "_model_module": "@jupyter-widgets/base",
            "_model_module_version": "1.2.0",
            "_model_name": "LayoutModel",
            "_view_count": null,
            "_view_module": "@jupyter-widgets/base",
            "_view_module_version": "1.2.0",
            "_view_name": "LayoutView",
            "align_content": null,
            "align_items": null,
            "align_self": null,
            "border": null,
            "bottom": null,
            "display": null,
            "flex": null,
            "flex_flow": null,
            "grid_area": null,
            "grid_auto_columns": null,
            "grid_auto_flow": null,
            "grid_auto_rows": null,
            "grid_column": null,
            "grid_gap": null,
            "grid_row": null,
            "grid_template_areas": null,
            "grid_template_columns": null,
            "grid_template_rows": null,
            "height": null,
            "justify_content": null,
            "justify_items": null,
            "left": null,
            "margin": null,
            "max_height": null,
            "max_width": null,
            "min_height": null,
            "min_width": null,
            "object_fit": null,
            "object_position": null,
            "order": null,
            "overflow": null,
            "overflow_x": null,
            "overflow_y": null,
            "padding": null,
            "right": null,
            "top": null,
            "visibility": null,
            "width": null
          }
        },
        "133d11fe8c5242dea343526254af8765": {
          "model_module": "@jupyter-widgets/base",
          "model_name": "LayoutModel",
          "model_module_version": "1.2.0",
          "state": {
            "_model_module": "@jupyter-widgets/base",
            "_model_module_version": "1.2.0",
            "_model_name": "LayoutModel",
            "_view_count": null,
            "_view_module": "@jupyter-widgets/base",
            "_view_module_version": "1.2.0",
            "_view_name": "LayoutView",
            "align_content": null,
            "align_items": null,
            "align_self": null,
            "border": null,
            "bottom": null,
            "display": null,
            "flex": null,
            "flex_flow": null,
            "grid_area": null,
            "grid_auto_columns": null,
            "grid_auto_flow": null,
            "grid_auto_rows": null,
            "grid_column": null,
            "grid_gap": null,
            "grid_row": null,
            "grid_template_areas": null,
            "grid_template_columns": null,
            "grid_template_rows": null,
            "height": null,
            "justify_content": null,
            "justify_items": null,
            "left": null,
            "margin": null,
            "max_height": null,
            "max_width": null,
            "min_height": null,
            "min_width": null,
            "object_fit": null,
            "object_position": null,
            "order": null,
            "overflow": null,
            "overflow_x": null,
            "overflow_y": null,
            "padding": null,
            "right": null,
            "top": null,
            "visibility": null,
            "width": null
          }
        },
        "a88936694bf8461d8c489287218bf7aa": {
          "model_module": "@jupyter-widgets/controls",
          "model_name": "DescriptionStyleModel",
          "model_module_version": "1.5.0",
          "state": {
            "_model_module": "@jupyter-widgets/controls",
            "_model_module_version": "1.5.0",
            "_model_name": "DescriptionStyleModel",
            "_view_count": null,
            "_view_module": "@jupyter-widgets/base",
            "_view_module_version": "1.2.0",
            "_view_name": "StyleView",
            "description_width": ""
          }
        },
        "fff8d28ba1814d2f98d86a271ab6b1a3": {
          "model_module": "@jupyter-widgets/base",
          "model_name": "LayoutModel",
          "model_module_version": "1.2.0",
          "state": {
            "_model_module": "@jupyter-widgets/base",
            "_model_module_version": "1.2.0",
            "_model_name": "LayoutModel",
            "_view_count": null,
            "_view_module": "@jupyter-widgets/base",
            "_view_module_version": "1.2.0",
            "_view_name": "LayoutView",
            "align_content": null,
            "align_items": null,
            "align_self": null,
            "border": null,
            "bottom": null,
            "display": null,
            "flex": null,
            "flex_flow": null,
            "grid_area": null,
            "grid_auto_columns": null,
            "grid_auto_flow": null,
            "grid_auto_rows": null,
            "grid_column": null,
            "grid_gap": null,
            "grid_row": null,
            "grid_template_areas": null,
            "grid_template_columns": null,
            "grid_template_rows": null,
            "height": null,
            "justify_content": null,
            "justify_items": null,
            "left": null,
            "margin": null,
            "max_height": null,
            "max_width": null,
            "min_height": null,
            "min_width": null,
            "object_fit": null,
            "object_position": null,
            "order": null,
            "overflow": null,
            "overflow_x": null,
            "overflow_y": null,
            "padding": null,
            "right": null,
            "top": null,
            "visibility": null,
            "width": null
          }
        },
        "fac677bb757d4e75b67a59d8e1740085": {
          "model_module": "@jupyter-widgets/controls",
          "model_name": "ProgressStyleModel",
          "model_module_version": "1.5.0",
          "state": {
            "_model_module": "@jupyter-widgets/controls",
            "_model_module_version": "1.5.0",
            "_model_name": "ProgressStyleModel",
            "_view_count": null,
            "_view_module": "@jupyter-widgets/base",
            "_view_module_version": "1.2.0",
            "_view_name": "StyleView",
            "bar_color": null,
            "description_width": ""
          }
        },
        "ddcb39e3f9804c238f7fb74886fac7d6": {
          "model_module": "@jupyter-widgets/base",
          "model_name": "LayoutModel",
          "model_module_version": "1.2.0",
          "state": {
            "_model_module": "@jupyter-widgets/base",
            "_model_module_version": "1.2.0",
            "_model_name": "LayoutModel",
            "_view_count": null,
            "_view_module": "@jupyter-widgets/base",
            "_view_module_version": "1.2.0",
            "_view_name": "LayoutView",
            "align_content": null,
            "align_items": null,
            "align_self": null,
            "border": null,
            "bottom": null,
            "display": null,
            "flex": null,
            "flex_flow": null,
            "grid_area": null,
            "grid_auto_columns": null,
            "grid_auto_flow": null,
            "grid_auto_rows": null,
            "grid_column": null,
            "grid_gap": null,
            "grid_row": null,
            "grid_template_areas": null,
            "grid_template_columns": null,
            "grid_template_rows": null,
            "height": null,
            "justify_content": null,
            "justify_items": null,
            "left": null,
            "margin": null,
            "max_height": null,
            "max_width": null,
            "min_height": null,
            "min_width": null,
            "object_fit": null,
            "object_position": null,
            "order": null,
            "overflow": null,
            "overflow_x": null,
            "overflow_y": null,
            "padding": null,
            "right": null,
            "top": null,
            "visibility": null,
            "width": null
          }
        },
        "b53d908c59ad41a4b5cbafccf5f5b29c": {
          "model_module": "@jupyter-widgets/controls",
          "model_name": "DescriptionStyleModel",
          "model_module_version": "1.5.0",
          "state": {
            "_model_module": "@jupyter-widgets/controls",
            "_model_module_version": "1.5.0",
            "_model_name": "DescriptionStyleModel",
            "_view_count": null,
            "_view_module": "@jupyter-widgets/base",
            "_view_module_version": "1.2.0",
            "_view_name": "StyleView",
            "description_width": ""
          }
        },
        "e4957efa03f14db787af9d512a2de377": {
          "model_module": "@jupyter-widgets/controls",
          "model_name": "HBoxModel",
          "model_module_version": "1.5.0",
          "state": {
            "_dom_classes": [],
            "_model_module": "@jupyter-widgets/controls",
            "_model_module_version": "1.5.0",
            "_model_name": "HBoxModel",
            "_view_count": null,
            "_view_module": "@jupyter-widgets/controls",
            "_view_module_version": "1.5.0",
            "_view_name": "HBoxView",
            "box_style": "",
            "children": [
              "IPY_MODEL_1418082dfd4a43fe897f6b3977047157",
              "IPY_MODEL_ceabdca7422a47d7a16bb708c45ce7ae",
              "IPY_MODEL_eb6d5b9c5c414802b7bcddbb431d250f"
            ],
            "layout": "IPY_MODEL_e73aaae97960480e9e73c3f7cf47849c"
          }
        },
        "1418082dfd4a43fe897f6b3977047157": {
          "model_module": "@jupyter-widgets/controls",
          "model_name": "HTMLModel",
          "model_module_version": "1.5.0",
          "state": {
            "_dom_classes": [],
            "_model_module": "@jupyter-widgets/controls",
            "_model_module_version": "1.5.0",
            "_model_name": "HTMLModel",
            "_view_count": null,
            "_view_module": "@jupyter-widgets/controls",
            "_view_module_version": "1.5.0",
            "_view_name": "HTMLView",
            "description": "",
            "description_tooltip": null,
            "layout": "IPY_MODEL_e7ddb412b76842808c2ba4aa36044e2b",
            "placeholder": "​",
            "style": "IPY_MODEL_2a0d7ee547d44d6886de06eb65e7f734",
            "value": ""
          }
        },
        "ceabdca7422a47d7a16bb708c45ce7ae": {
          "model_module": "@jupyter-widgets/controls",
          "model_name": "FloatProgressModel",
          "model_module_version": "1.5.0",
          "state": {
            "_dom_classes": [],
            "_model_module": "@jupyter-widgets/controls",
            "_model_module_version": "1.5.0",
            "_model_name": "FloatProgressModel",
            "_view_count": null,
            "_view_module": "@jupyter-widgets/controls",
            "_view_module_version": "1.5.0",
            "_view_name": "ProgressView",
            "bar_style": "success",
            "description": "",
            "description_tooltip": null,
            "layout": "IPY_MODEL_d38e51971efa4159af140aa73777e138",
            "max": 100,
            "min": 0,
            "orientation": "horizontal",
            "style": "IPY_MODEL_f4ab9fa3cac64bfd9a1928fa8ed213d6",
            "value": 100
          }
        },
        "eb6d5b9c5c414802b7bcddbb431d250f": {
          "model_module": "@jupyter-widgets/controls",
          "model_name": "HTMLModel",
          "model_module_version": "1.5.0",
          "state": {
            "_dom_classes": [],
            "_model_module": "@jupyter-widgets/controls",
            "_model_module_version": "1.5.0",
            "_model_name": "HTMLModel",
            "_view_count": null,
            "_view_module": "@jupyter-widgets/controls",
            "_view_module_version": "1.5.0",
            "_view_name": "HTMLView",
            "description": "",
            "description_tooltip": null,
            "layout": "IPY_MODEL_8e420be9a3224549987fcb1b8ad28e59",
            "placeholder": "​",
            "style": "IPY_MODEL_6c8996a819754a12b7c94bc9ff45f097",
            "value": " 1130/? [00:59&lt;00:00, 306.47it/s]"
          }
        },
        "e73aaae97960480e9e73c3f7cf47849c": {
          "model_module": "@jupyter-widgets/base",
          "model_name": "LayoutModel",
          "model_module_version": "1.2.0",
          "state": {
            "_model_module": "@jupyter-widgets/base",
            "_model_module_version": "1.2.0",
            "_model_name": "LayoutModel",
            "_view_count": null,
            "_view_module": "@jupyter-widgets/base",
            "_view_module_version": "1.2.0",
            "_view_name": "LayoutView",
            "align_content": null,
            "align_items": null,
            "align_self": null,
            "border": null,
            "bottom": null,
            "display": null,
            "flex": null,
            "flex_flow": null,
            "grid_area": null,
            "grid_auto_columns": null,
            "grid_auto_flow": null,
            "grid_auto_rows": null,
            "grid_column": null,
            "grid_gap": null,
            "grid_row": null,
            "grid_template_areas": null,
            "grid_template_columns": null,
            "grid_template_rows": null,
            "height": null,
            "justify_content": null,
            "justify_items": null,
            "left": null,
            "margin": null,
            "max_height": null,
            "max_width": null,
            "min_height": null,
            "min_width": null,
            "object_fit": null,
            "object_position": null,
            "order": null,
            "overflow": null,
            "overflow_x": null,
            "overflow_y": null,
            "padding": null,
            "right": null,
            "top": null,
            "visibility": null,
            "width": null
          }
        },
        "e7ddb412b76842808c2ba4aa36044e2b": {
          "model_module": "@jupyter-widgets/base",
          "model_name": "LayoutModel",
          "model_module_version": "1.2.0",
          "state": {
            "_model_module": "@jupyter-widgets/base",
            "_model_module_version": "1.2.0",
            "_model_name": "LayoutModel",
            "_view_count": null,
            "_view_module": "@jupyter-widgets/base",
            "_view_module_version": "1.2.0",
            "_view_name": "LayoutView",
            "align_content": null,
            "align_items": null,
            "align_self": null,
            "border": null,
            "bottom": null,
            "display": null,
            "flex": null,
            "flex_flow": null,
            "grid_area": null,
            "grid_auto_columns": null,
            "grid_auto_flow": null,
            "grid_auto_rows": null,
            "grid_column": null,
            "grid_gap": null,
            "grid_row": null,
            "grid_template_areas": null,
            "grid_template_columns": null,
            "grid_template_rows": null,
            "height": null,
            "justify_content": null,
            "justify_items": null,
            "left": null,
            "margin": null,
            "max_height": null,
            "max_width": null,
            "min_height": null,
            "min_width": null,
            "object_fit": null,
            "object_position": null,
            "order": null,
            "overflow": null,
            "overflow_x": null,
            "overflow_y": null,
            "padding": null,
            "right": null,
            "top": null,
            "visibility": null,
            "width": null
          }
        },
        "2a0d7ee547d44d6886de06eb65e7f734": {
          "model_module": "@jupyter-widgets/controls",
          "model_name": "DescriptionStyleModel",
          "model_module_version": "1.5.0",
          "state": {
            "_model_module": "@jupyter-widgets/controls",
            "_model_module_version": "1.5.0",
            "_model_name": "DescriptionStyleModel",
            "_view_count": null,
            "_view_module": "@jupyter-widgets/base",
            "_view_module_version": "1.2.0",
            "_view_name": "StyleView",
            "description_width": ""
          }
        },
        "d38e51971efa4159af140aa73777e138": {
          "model_module": "@jupyter-widgets/base",
          "model_name": "LayoutModel",
          "model_module_version": "1.2.0",
          "state": {
            "_model_module": "@jupyter-widgets/base",
            "_model_module_version": "1.2.0",
            "_model_name": "LayoutModel",
            "_view_count": null,
            "_view_module": "@jupyter-widgets/base",
            "_view_module_version": "1.2.0",
            "_view_name": "LayoutView",
            "align_content": null,
            "align_items": null,
            "align_self": null,
            "border": null,
            "bottom": null,
            "display": null,
            "flex": null,
            "flex_flow": null,
            "grid_area": null,
            "grid_auto_columns": null,
            "grid_auto_flow": null,
            "grid_auto_rows": null,
            "grid_column": null,
            "grid_gap": null,
            "grid_row": null,
            "grid_template_areas": null,
            "grid_template_columns": null,
            "grid_template_rows": null,
            "height": null,
            "justify_content": null,
            "justify_items": null,
            "left": null,
            "margin": null,
            "max_height": null,
            "max_width": null,
            "min_height": null,
            "min_width": null,
            "object_fit": null,
            "object_position": null,
            "order": null,
            "overflow": null,
            "overflow_x": null,
            "overflow_y": null,
            "padding": null,
            "right": null,
            "top": null,
            "visibility": null,
            "width": null
          }
        },
        "f4ab9fa3cac64bfd9a1928fa8ed213d6": {
          "model_module": "@jupyter-widgets/controls",
          "model_name": "ProgressStyleModel",
          "model_module_version": "1.5.0",
          "state": {
            "_model_module": "@jupyter-widgets/controls",
            "_model_module_version": "1.5.0",
            "_model_name": "ProgressStyleModel",
            "_view_count": null,
            "_view_module": "@jupyter-widgets/base",
            "_view_module_version": "1.2.0",
            "_view_name": "StyleView",
            "bar_color": null,
            "description_width": ""
          }
        },
        "8e420be9a3224549987fcb1b8ad28e59": {
          "model_module": "@jupyter-widgets/base",
          "model_name": "LayoutModel",
          "model_module_version": "1.2.0",
          "state": {
            "_model_module": "@jupyter-widgets/base",
            "_model_module_version": "1.2.0",
            "_model_name": "LayoutModel",
            "_view_count": null,
            "_view_module": "@jupyter-widgets/base",
            "_view_module_version": "1.2.0",
            "_view_name": "LayoutView",
            "align_content": null,
            "align_items": null,
            "align_self": null,
            "border": null,
            "bottom": null,
            "display": null,
            "flex": null,
            "flex_flow": null,
            "grid_area": null,
            "grid_auto_columns": null,
            "grid_auto_flow": null,
            "grid_auto_rows": null,
            "grid_column": null,
            "grid_gap": null,
            "grid_row": null,
            "grid_template_areas": null,
            "grid_template_columns": null,
            "grid_template_rows": null,
            "height": null,
            "justify_content": null,
            "justify_items": null,
            "left": null,
            "margin": null,
            "max_height": null,
            "max_width": null,
            "min_height": null,
            "min_width": null,
            "object_fit": null,
            "object_position": null,
            "order": null,
            "overflow": null,
            "overflow_x": null,
            "overflow_y": null,
            "padding": null,
            "right": null,
            "top": null,
            "visibility": null,
            "width": null
          }
        },
        "6c8996a819754a12b7c94bc9ff45f097": {
          "model_module": "@jupyter-widgets/controls",
          "model_name": "DescriptionStyleModel",
          "model_module_version": "1.5.0",
          "state": {
            "_model_module": "@jupyter-widgets/controls",
            "_model_module_version": "1.5.0",
            "_model_name": "DescriptionStyleModel",
            "_view_count": null,
            "_view_module": "@jupyter-widgets/base",
            "_view_module_version": "1.2.0",
            "_view_name": "StyleView",
            "description_width": ""
          }
        }
      }
    }
  },
  "nbformat": 4,
  "nbformat_minor": 0
}