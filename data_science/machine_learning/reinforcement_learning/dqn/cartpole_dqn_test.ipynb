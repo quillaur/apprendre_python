{
  "cells": [
    {
      "cell_type": "markdown",
      "source": [
        "https://alexandervandekleut.github.io/deep-q-learning/"
      ],
      "metadata": {
        "id": "D4A4-SqLoH18"
      }
    },
    {
      "cell_type": "code",
      "execution_count": 1,
      "metadata": {
        "colab": {
          "base_uri": "https://localhost:8080/"
        },
        "id": "YkBifjYELcGm",
        "outputId": "435f4cea-b8eb-4d81-9fcb-58429234af08"
      },
      "outputs": [
        {
          "output_type": "stream",
          "name": "stdout",
          "text": [
            "Looking in indexes: https://pypi.org/simple, https://us-python.pkg.dev/colab-wheels/public/simple/\n",
            "Requirement already satisfied: gym in /usr/local/lib/python3.8/dist-packages (0.26.2)\n",
            "Requirement already satisfied: numpy>=1.18.0 in /usr/local/lib/python3.8/dist-packages (from gym) (1.21.6)\n",
            "Requirement already satisfied: importlib-metadata>=4.8.0 in /usr/local/lib/python3.8/dist-packages (from gym) (6.0.0)\n",
            "Requirement already satisfied: gym-notices>=0.0.4 in /usr/local/lib/python3.8/dist-packages (from gym) (0.0.8)\n",
            "Requirement already satisfied: cloudpickle>=1.2.0 in /usr/local/lib/python3.8/dist-packages (from gym) (2.2.0)\n",
            "Requirement already satisfied: zipp>=0.5 in /usr/local/lib/python3.8/dist-packages (from importlib-metadata>=4.8.0->gym) (3.11.0)\n"
          ]
        }
      ],
      "source": [
        "!pip install gym -U"
      ]
    },
    {
      "cell_type": "code",
      "execution_count": 2,
      "metadata": {
        "colab": {
          "base_uri": "https://localhost:8080/"
        },
        "id": "pkEk6SzdLEF3",
        "outputId": "69a3a2c1-a3ec-4669-b57c-aa699633d623"
      },
      "outputs": [
        {
          "output_type": "stream",
          "name": "stdout",
          "text": [
            "Looking in indexes: https://pypi.org/simple, https://us-python.pkg.dev/colab-wheels/public/simple/\n",
            "Requirement already satisfied: gym[classic_control] in /usr/local/lib/python3.8/dist-packages (0.26.2)\n",
            "Requirement already satisfied: cloudpickle>=1.2.0 in /usr/local/lib/python3.8/dist-packages (from gym[classic_control]) (2.2.0)\n",
            "Requirement already satisfied: importlib-metadata>=4.8.0 in /usr/local/lib/python3.8/dist-packages (from gym[classic_control]) (6.0.0)\n",
            "Requirement already satisfied: numpy>=1.18.0 in /usr/local/lib/python3.8/dist-packages (from gym[classic_control]) (1.21.6)\n",
            "Requirement already satisfied: gym-notices>=0.0.4 in /usr/local/lib/python3.8/dist-packages (from gym[classic_control]) (0.0.8)\n",
            "Requirement already satisfied: pygame==2.1.0 in /usr/local/lib/python3.8/dist-packages (from gym[classic_control]) (2.1.0)\n",
            "Requirement already satisfied: zipp>=0.5 in /usr/local/lib/python3.8/dist-packages (from importlib-metadata>=4.8.0->gym[classic_control]) (3.11.0)\n"
          ]
        }
      ],
      "source": [
        "pip install gym[classic_control]"
      ]
    },
    {
      "cell_type": "code",
      "source": [
        "import numpy as np\n",
        "import tensorflow as tf\n",
        "import gym\n",
        "import matplotlib.pyplot as plt\n",
        "from tqdm.notebook import trange\n",
        "from collections import deque\n",
        "import random"
      ],
      "metadata": {
        "id": "ETL3wBAvk1MO"
      },
      "execution_count": 3,
      "outputs": []
    },
    {
      "cell_type": "code",
      "source": [
        "class ReplayBuffer:\n",
        "    def __init__(self, size=1000000):\n",
        "        self.memory = deque(maxlen=size)\n",
        "        \n",
        "    def remember(self, s_t, a_t, r_t, s_t_next, trunc, d_t):\n",
        "        self.memory.append((s_t, a_t, r_t, s_t_next, trunc, d_t))\n",
        "        \n",
        "    def sample(self, num=32):\n",
        "        num = min(num, len(self.memory))\n",
        "        return random.sample(self.memory, num)"
      ],
      "metadata": {
        "id": "2ceahxtVk2L5"
      },
      "execution_count": 4,
      "outputs": []
    },
    {
      "cell_type": "code",
      "source": [
        "class Agent:\n",
        "    def __init__(self, state_shape, num_actions, num_envs, alpha=0.001, gamma=0.95, epsilon_i=1.0, epsilon_f=0.01, n_epsilon=0.1, hidden_sizes = []):\n",
        "        self.epsilon_i = epsilon_i\n",
        "        self.epsilon_f = epsilon_f\n",
        "        self.n_epsilon = n_epsilon\n",
        "        self.epsilon = epsilon_i\n",
        "        self.discount_factor = gamma\n",
        "        self.learning_rate = alpha\n",
        "\n",
        "        self.num_actions = num_actions\n",
        "        self.state_shape = state_shape\n",
        "        self.num_envs = num_envs\n",
        "\n",
        "        self.Q = self.create_model()\n",
        "        \n",
        "        # target network\n",
        "        self.Q_ = self.create_model()\n",
        "\n",
        "        self.synchronize()\n",
        "\n",
        "    def create_model(self):\n",
        "        init = tf.keras.initializers.HeUniform()\n",
        "        model = tf.keras.Sequential()\n",
        "        model.add(tf.keras.layers.Dense(24, input_shape=self.state_shape, activation='relu', kernel_initializer=init))\n",
        "        model.add(tf.keras.layers.Dense(12, activation='relu', kernel_initializer=init))\n",
        "        model.add(tf.keras.layers.Dense(self.num_actions, activation='linear', kernel_initializer=init))\n",
        "        model.compile(loss=tf.keras.losses.Huber(), optimizer=tf.keras.optimizers.Adam(learning_rate=self.learning_rate), metrics=['mae'])\n",
        "\n",
        "        return model\n",
        "    \n",
        "    def synchronize(self):\n",
        "        self.Q_.set_weights(self.Q.get_weights())\n",
        "\n",
        "    def act(self, s_t):\n",
        "        if np.random.rand() < self.epsilon:\n",
        "            return np.random.randint(self.num_actions, size=self.num_envs)\n",
        "\n",
        "        preds = self.Q.predict(np.array([s_t]), verbose=0)\n",
        "        # print(preds.shape)\n",
        "        return np.argmax(preds[0], axis=1)\n",
        "    \n",
        "    def decay_epsilon(self, n):\n",
        "        self.epsilon = max(\n",
        "            self.epsilon_f, \n",
        "            self.epsilon_i - (n/self.n_epsilon)*(self.epsilon_i - self.epsilon_f))\n",
        "\n",
        "    def update(self, batches):\n",
        "        # Batches is a list of batch\n",
        "        # One batch contains 6 arrays (one for all states, one for all actions etc...) \n",
        "        # of shape env_num, n possibiles (action, obs, etc...)\n",
        "        X = []\n",
        "        y = []\n",
        "\n",
        "        actual_states = np.array([s[0] for s in batches])\n",
        "        actual_preds = self.Q.predict(actual_states, verbose=0)\n",
        "        next_states = np.array([s[3] for s in batches])\n",
        "        target_preds = self.Q_.predict(next_states, verbose=0)\n",
        "\n",
        "        for x, (states, actions, rewards, next_states, truncs, dones) in enumerate(batches):\n",
        "\n",
        "          for i in range(len(states)):\n",
        "            \n",
        "            if (not dones[i]) and (not truncs[i]):\n",
        "                max_future_q = rewards[i] + self.discount_factor * np.max(target_preds[x][i])\n",
        "            else:\n",
        "                max_future_q = rewards[i]\n",
        "\n",
        "            act = actions[i]\n",
        "            current_qs = actual_preds[x][i]\n",
        "            current_qs[act] = (1 - self.learning_rate) * current_qs[act] + self.learning_rate * max_future_q\n",
        "\n",
        "            y.append(current_qs)\n",
        "          \n",
        "          X.extend(states)\n",
        "        \n",
        "        self.Q.fit(np.array([X]), np.array([y]), batch_size=32, verbose=0, shuffle=True)\n",
        "            "
      ],
      "metadata": {
        "id": "qtOvM7DHlAjO"
      },
      "execution_count": 5,
      "outputs": []
    },
    {
      "cell_type": "code",
      "source": [
        "def train(env_name, T=20000, num_envs=32, batch_size=32, sync_every=100, hidden_sizes=[24, 24], alpha=0.001, gamma=0.95):\n",
        "    env = gym.vector.make(env_name, asynchronous=False, num_envs=num_envs)\n",
        "    state_shape = env.observation_space.shape\n",
        "    num_actions = env.single_action_space.n\n",
        "    agent = Agent(state_shape, num_actions, num_envs, alpha=alpha, hidden_sizes=hidden_sizes, gamma=gamma)\n",
        "    rewards = []\n",
        "    buffer = ReplayBuffer()\n",
        "    episode_rewards = 0\n",
        "    state, info = env.reset()\n",
        "    for t in trange(T):\n",
        "        if t%sync_every == 0:\n",
        "            agent.synchronize()\n",
        "        \n",
        "        action = agent.act(state)\n",
        "        state_next, reward, done, trunc, info = env.step(action)\n",
        "        buffer.remember(state, action, reward, state_next, trunc, done)\n",
        "        state = state_next\n",
        "\n",
        "        agent.update(buffer.sample(batch_size))\n",
        "        agent.decay_epsilon(t/T)\n",
        "        episode_rewards += reward\n",
        "\n",
        "        # https://www.gymlibrary.dev/content/vectorising/\n",
        "        for i in range(num_envs):\n",
        "            if done[i] or trunc[i]:\n",
        "                rewards.append(episode_rewards[i])\n",
        "                episode_rewards[i] = 0\n",
        "                # state[i] = env[i].reset()\n",
        "            \n",
        "    # plot(pd.DataFrame(rewards), window=10)\n",
        "    plt.plot(rewards)\n",
        "    return agent"
      ],
      "metadata": {
        "id": "ESRYHR_GlDn4"
      },
      "execution_count": 6,
      "outputs": []
    },
    {
      "cell_type": "code",
      "source": [
        "agent = train(\"CartPole-v1\", T=2000, num_envs=32, batch_size=32)"
      ],
      "metadata": {
        "colab": {
          "base_uri": "https://localhost:8080/",
          "height": 297,
          "referenced_widgets": [
            "fed6ffa2f45e4b039af8a38008250ac6",
            "a5c9688eb8c14019ad4a2065a7119ea6",
            "4d2bec4aaccc44fa8fed3e3314a77bde",
            "ed289db53f12461dbe0f13ea61f31f81",
            "f8cbad91ec794fbbbf95103755a8dba5",
            "aca72546537845e5b94e50b3e466e609",
            "73587ca3fb26403e99cdc99b80adc731",
            "b3efc748408d48c9bceb8ba611d4c347",
            "7350550a85e54db2ba9ab237be51fde0",
            "62451286ada24e968a9f970092ac8efc",
            "93310fb239dc4dc29a87fcc3638f46b3"
          ]
        },
        "id": "nh1BHS5zqCTv",
        "outputId": "8647000e-69f3-49da-e833-0a18e880ed69"
      },
      "execution_count": 7,
      "outputs": [
        {
          "output_type": "display_data",
          "data": {
            "text/plain": [
              "  0%|          | 0/2000 [00:00<?, ?it/s]"
            ],
            "application/vnd.jupyter.widget-view+json": {
              "version_major": 2,
              "version_minor": 0,
              "model_id": "fed6ffa2f45e4b039af8a38008250ac6"
            }
          },
          "metadata": {}
        },
        {
          "output_type": "display_data",
          "data": {
            "text/plain": [
              "<Figure size 432x288 with 1 Axes>"
            ],
            "image/png": "[encoded data removed]"
          },
          "metadata": {
            "needs_background": "light"
          }
        }
      ]
    },
    {
      "cell_type": "markdown",
      "source": [
        "* Batch = 1\n",
        "* nb_env = 32\n",
        "* T = 20 000\n",
        "\n",
        "* Time to train : 4 min 37 sec\n",
        "* Reach 200 by 2000 steps"
      ],
      "metadata": {
        "id": "TlmDzWjP8MLI"
      }
    },
    {
      "cell_type": "code",
      "execution_count": 7,
      "metadata": {
        "id": "kcvm0TopDmIK"
      },
      "outputs": [],
      "source": []
    }
  ],
  "metadata": {
    "colab": {
      "provenance": []
    },
    "kernelspec": {
      "display_name": "pyvenv",
      "language": "python",
      "name": "python3"
    },
    "language_info": {
      "codemirror_mode": {
        "name": "ipython",
        "version": 3
      },
      "file_extension": ".py",
      "mimetype": "text/x-python",
      "name": "python",
      "nbconvert_exporter": "python",
      "pygments_lexer": "ipython3",
      "version": "3.9.16"
    },
    "vscode": {
      "interpreter": {
        "hash": "f6676973a75d45e448096e9f52280ad90d9d619291e0200eff65a5cc6d292e30"
      }
    },
    "widgets": {
      "application/vnd.jupyter.widget-state+json": {
        "fed6ffa2f45e4b039af8a38008250ac6": {
          "model_module": "@jupyter-widgets/controls",
          "model_name": "HBoxModel",
          "model_module_version": "1.5.0",
          "state": {
            "_dom_classes": [],
            "_model_module": "@jupyter-widgets/controls",
            "_model_module_version": "1.5.0",
            "_model_name": "HBoxModel",
            "_view_count": null,
            "_view_module": "@jupyter-widgets/controls",
            "_view_module_version": "1.5.0",
            "_view_name": "HBoxView",
            "box_style": "",
            "children": [
              "IPY_MODEL_a5c9688eb8c14019ad4a2065a7119ea6",
              "IPY_MODEL_4d2bec4aaccc44fa8fed3e3314a77bde",
              "IPY_MODEL_ed289db53f12461dbe0f13ea61f31f81"
            ],
            "layout": "IPY_MODEL_f8cbad91ec794fbbbf95103755a8dba5"
          }
        },
        "a5c9688eb8c14019ad4a2065a7119ea6": {
          "model_module": "@jupyter-widgets/controls",
          "model_name": "HTMLModel",
          "model_module_version": "1.5.0",
          "state": {
            "_dom_classes": [],
            "_model_module": "@jupyter-widgets/controls",
            "_model_module_version": "1.5.0",
            "_model_name": "HTMLModel",
            "_view_count": null,
            "_view_module": "@jupyter-widgets/controls",
            "_view_module_version": "1.5.0",
            "_view_name": "HTMLView",
            "description": "",
            "description_tooltip": null,
            "layout": "IPY_MODEL_aca72546537845e5b94e50b3e466e609",
            "placeholder": "​",
            "style": "IPY_MODEL_73587ca3fb26403e99cdc99b80adc731",
            "value": "100%"
          }
        },
        "4d2bec4aaccc44fa8fed3e3314a77bde": {
          "model_module": "@jupyter-widgets/controls",
          "model_name": "FloatProgressModel",
          "model_module_version": "1.5.0",
          "state": {
            "_dom_classes": [],
            "_model_module": "@jupyter-widgets/controls",
            "_model_module_version": "1.5.0",
            "_model_name": "FloatProgressModel",
            "_view_count": null,
            "_view_module": "@jupyter-widgets/controls",
            "_view_module_version": "1.5.0",
            "_view_name": "ProgressView",
            "bar_style": "success",
            "description": "",
            "description_tooltip": null,
            "layout": "IPY_MODEL_b3efc748408d48c9bceb8ba611d4c347",
            "max": 2000,
            "min": 0,
            "orientation": "horizontal",
            "style": "IPY_MODEL_7350550a85e54db2ba9ab237be51fde0",
            "value": 2000
          }
        },
        "ed289db53f12461dbe0f13ea61f31f81": {
          "model_module": "@jupyter-widgets/controls",
          "model_name": "HTMLModel",
          "model_module_version": "1.5.0",
          "state": {
            "_dom_classes": [],
            "_model_module": "@jupyter-widgets/controls",
            "_model_module_version": "1.5.0",
            "_model_name": "HTMLModel",
            "_view_count": null,
            "_view_module": "@jupyter-widgets/controls",
            "_view_module_version": "1.5.0",
            "_view_name": "HTMLView",
            "description": "",
            "description_tooltip": null,
            "layout": "IPY_MODEL_62451286ada24e968a9f970092ac8efc",
            "placeholder": "​",
            "style": "IPY_MODEL_93310fb239dc4dc29a87fcc3638f46b3",
            "value": " 2000/2000 [07:42&lt;00:00,  4.56it/s]"
          }
        },
        "f8cbad91ec794fbbbf95103755a8dba5": {
          "model_module": "@jupyter-widgets/base",
          "model_name": "LayoutModel",
          "model_module_version": "1.2.0",
          "state": {
            "_model_module": "@jupyter-widgets/base",
            "_model_module_version": "1.2.0",
            "_model_name": "LayoutModel",
            "_view_count": null,
            "_view_module": "@jupyter-widgets/base",
            "_view_module_version": "1.2.0",
            "_view_name": "LayoutView",
            "align_content": null,
            "align_items": null,
            "align_self": null,
            "border": null,
            "bottom": null,
            "display": null,
            "flex": null,
            "flex_flow": null,
            "grid_area": null,
            "grid_auto_columns": null,
            "grid_auto_flow": null,
            "grid_auto_rows": null,
            "grid_column": null,
            "grid_gap": null,
            "grid_row": null,
            "grid_template_areas": null,
            "grid_template_columns": null,
            "grid_template_rows": null,
            "height": null,
            "justify_content": null,
            "justify_items": null,
            "left": null,
            "margin": null,
            "max_height": null,
            "max_width": null,
            "min_height": null,
            "min_width": null,
            "object_fit": null,
            "object_position": null,
            "order": null,
            "overflow": null,
            "overflow_x": null,
            "overflow_y": null,
            "padding": null,
            "right": null,
            "top": null,
            "visibility": null,
            "width": null
          }
        },
        "aca72546537845e5b94e50b3e466e609": {
          "model_module": "@jupyter-widgets/base",
          "model_name": "LayoutModel",
          "model_module_version": "1.2.0",
          "state": {
            "_model_module": "@jupyter-widgets/base",
            "_model_module_version": "1.2.0",
            "_model_name": "LayoutModel",
            "_view_count": null,
            "_view_module": "@jupyter-widgets/base",
            "_view_module_version": "1.2.0",
            "_view_name": "LayoutView",
            "align_content": null,
            "align_items": null,
            "align_self": null,
            "border": null,
            "bottom": null,
            "display": null,
            "flex": null,
            "flex_flow": null,
            "grid_area": null,
            "grid_auto_columns": null,
            "grid_auto_flow": null,
            "grid_auto_rows": null,
            "grid_column": null,
            "grid_gap": null,
            "grid_row": null,
            "grid_template_areas": null,
            "grid_template_columns": null,
            "grid_template_rows": null,
            "height": null,
            "justify_content": null,
            "justify_items": null,
            "left": null,
            "margin": null,
            "max_height": null,
            "max_width": null,
            "min_height": null,
            "min_width": null,
            "object_fit": null,
            "object_position": null,
            "order": null,
            "overflow": null,
            "overflow_x": null,
            "overflow_y": null,
            "padding": null,
            "right": null,
            "top": null,
            "visibility": null,
            "width": null
          }
        },
        "73587ca3fb26403e99cdc99b80adc731": {
          "model_module": "@jupyter-widgets/controls",
          "model_name": "DescriptionStyleModel",
          "model_module_version": "1.5.0",
          "state": {
            "_model_module": "@jupyter-widgets/controls",
            "_model_module_version": "1.5.0",
            "_model_name": "DescriptionStyleModel",
            "_view_count": null,
            "_view_module": "@jupyter-widgets/base",
            "_view_module_version": "1.2.0",
            "_view_name": "StyleView",
            "description_width": ""
          }
        },
        "b3efc748408d48c9bceb8ba611d4c347": {
          "model_module": "@jupyter-widgets/base",
          "model_name": "LayoutModel",
          "model_module_version": "1.2.0",
          "state": {
            "_model_module": "@jupyter-widgets/base",
            "_model_module_version": "1.2.0",
            "_model_name": "LayoutModel",
            "_view_count": null,
            "_view_module": "@jupyter-widgets/base",
            "_view_module_version": "1.2.0",
            "_view_name": "LayoutView",
            "align_content": null,
            "align_items": null,
            "align_self": null,
            "border": null,
            "bottom": null,
            "display": null,
            "flex": null,
            "flex_flow": null,
            "grid_area": null,
            "grid_auto_columns": null,
            "grid_auto_flow": null,
            "grid_auto_rows": null,
            "grid_column": null,
            "grid_gap": null,
            "grid_row": null,
            "grid_template_areas": null,
            "grid_template_columns": null,
            "grid_template_rows": null,
            "height": null,
            "justify_content": null,
            "justify_items": null,
            "left": null,
            "margin": null,
            "max_height": null,
            "max_width": null,
            "min_height": null,
            "min_width": null,
            "object_fit": null,
            "object_position": null,
            "order": null,
            "overflow": null,
            "overflow_x": null,
            "overflow_y": null,
            "padding": null,
            "right": null,
            "top": null,
            "visibility": null,
            "width": null
          }
        },
        "7350550a85e54db2ba9ab237be51fde0": {
          "model_module": "@jupyter-widgets/controls",
          "model_name": "ProgressStyleModel",
          "model_module_version": "1.5.0",
          "state": {
            "_model_module": "@jupyter-widgets/controls",
            "_model_module_version": "1.5.0",
            "_model_name": "ProgressStyleModel",
            "_view_count": null,
            "_view_module": "@jupyter-widgets/base",
            "_view_module_version": "1.2.0",
            "_view_name": "StyleView",
            "bar_color": null,
            "description_width": ""
          }
        },
        "62451286ada24e968a9f970092ac8efc": {
          "model_module": "@jupyter-widgets/base",
          "model_name": "LayoutModel",
          "model_module_version": "1.2.0",
          "state": {
            "_model_module": "@jupyter-widgets/base",
            "_model_module_version": "1.2.0",
            "_model_name": "LayoutModel",
            "_view_count": null,
            "_view_module": "@jupyter-widgets/base",
            "_view_module_version": "1.2.0",
            "_view_name": "LayoutView",
            "align_content": null,
            "align_items": null,
            "align_self": null,
            "border": null,
            "bottom": null,
            "display": null,
            "flex": null,
            "flex_flow": null,
            "grid_area": null,
            "grid_auto_columns": null,
            "grid_auto_flow": null,
            "grid_auto_rows": null,
            "grid_column": null,
            "grid_gap": null,
            "grid_row": null,
            "grid_template_areas": null,
            "grid_template_columns": null,
            "grid_template_rows": null,
            "height": null,
            "justify_content": null,
            "justify_items": null,
            "left": null,
            "margin": null,
            "max_height": null,
            "max_width": null,
            "min_height": null,
            "min_width": null,
            "object_fit": null,
            "object_position": null,
            "order": null,
            "overflow": null,
            "overflow_x": null,
            "overflow_y": null,
            "padding": null,
            "right": null,
            "top": null,
            "visibility": null,
            "width": null
          }
        },
        "93310fb239dc4dc29a87fcc3638f46b3": {
          "model_module": "@jupyter-widgets/controls",
          "model_name": "DescriptionStyleModel",
          "model_module_version": "1.5.0",
          "state": {
            "_model_module": "@jupyter-widgets/controls",
            "_model_module_version": "1.5.0",
            "_model_name": "DescriptionStyleModel",
            "_view_count": null,
            "_view_module": "@jupyter-widgets/base",
            "_view_module_version": "1.2.0",
            "_view_name": "StyleView",
            "description_width": ""
          }
        }
      }
    }
  },
  "nbformat": 4,
  "nbformat_minor": 0
}